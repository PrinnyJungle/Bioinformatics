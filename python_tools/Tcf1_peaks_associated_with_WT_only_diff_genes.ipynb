{
 "cells": [
  {
   "cell_type": "code",
   "execution_count": 1,
   "metadata": {},
   "outputs": [
    {
     "name": "stdout",
     "output_type": "stream",
     "text": [
      "hi\n",
      "hello from new mapping\n"
     ]
    }
   ],
   "source": [
    "import os\n",
    "import sys\n",
    "import numpy as np\n",
    "import pandas as pd\n",
    "import collections\n",
    "import itertools\n",
    "from mirnylib import h5dict, genome\n",
    "from hiclib import mapping, fragmentHiC\n",
    "import cooler\n",
    "from multiprocessing import Pool"
   ]
  },
  {
   "cell_type": "code",
   "execution_count": 2,
   "metadata": {
    "collapsed": true
   },
   "outputs": [],
   "source": [
    "genome_db = genome.Genome('/home/zzeng/cloud_research/PengGroup/ZZeng/Data/Haihui/Tcf1/HiC-seq/Jun2016/exp/iterative_mapping/genome.fa')"
   ]
  },
  {
   "cell_type": "code",
   "execution_count": null,
   "metadata": {
    "collapsed": true
   },
   "outputs": [],
   "source": []
  },
  {
   "cell_type": "code",
   "execution_count": 3,
   "metadata": {
    "collapsed": true
   },
   "outputs": [],
   "source": [
    "import HTSeq\n",
    "def iv_to_str(iv):\n",
    "        return iv.chrom + ':' + str(iv.start) + '-' + str(iv.end)  \n",
    "    \n",
    "idx = pd.IndexSlice"
   ]
  },
  {
   "cell_type": "code",
   "execution_count": 4,
   "metadata": {
    "collapsed": true
   },
   "outputs": [],
   "source": [
    "peaks_dict = {}\n",
    "\n",
    "Tcf1_peaks_bed_file = HTSeq.BED_Reader('processed/HiC_around_Tcf1_peaks/WT_CD8_Tcf1_peaks.bed')\n",
    "for alt in Tcf1_peaks_bed_file:\n",
    "    peaks_dict[iv_to_str(alt.iv)] = alt.iv"
   ]
  },
  {
   "cell_type": "code",
   "execution_count": 5,
   "metadata": {
    "collapsed": true
   },
   "outputs": [],
   "source": [
    "up_genes_dict = {}\n",
    "\n",
    "up_genes_bed_file = HTSeq.BED_Reader('processed/HiC_around_Tcf1_peaks/diff_genes/HP_WT_up_only_gene_promoter_iv.bed')\n",
    "for alt in up_genes_bed_file:\n",
    "    up_genes_dict[alt.name] = alt.iv"
   ]
  },
  {
   "cell_type": "code",
   "execution_count": 6,
   "metadata": {
    "collapsed": true
   },
   "outputs": [],
   "source": [
    "down_genes_dict = {}\n",
    "\n",
    "down_genes_bed_file = HTSeq.BED_Reader('processed/HiC_around_Tcf1_peaks/diff_genes/HP_WT_down_only_gene_promoter_iv.bed')\n",
    "for alt in down_genes_bed_file:\n",
    "    down_genes_dict[alt.name] = alt.iv"
   ]
  },
  {
   "cell_type": "code",
   "execution_count": 7,
   "metadata": {},
   "outputs": [
    {
     "name": "stderr",
     "output_type": "stream",
     "text": [
      "/usr/local/lib/python2.7/dist-packages/ipykernel_launcher.py:29: RuntimeWarning: divide by zero encountered in log10\n"
     ]
    }
   ],
   "source": [
    "os.chdir('/home/zzeng/cloud_research/PengGroup/ZZeng/Data/Haihui/Tcf1/HiC-seq/Combine_Jun_Jul_2016/iterative_mapping_3')\n",
    "\n",
    "import numpy as np\n",
    "import pandas as pd\n",
    "import collections\n",
    "import cooler\n",
    "\n",
    "cutoff = 10e-5\n",
    "sig_df = pd.read_csv('fit-hi-c/WT_CD8.spline_pass2.significances.txt.gz', header=0, sep='\\t')\n",
    "sig_df = sig_df[sig_df['q-value'] < cutoff]\n",
    "\n",
    "mycooler = cooler.Cooler('WT_CD8-res-10K.cool')\n",
    "bin_df = mycooler.bins()[:]\n",
    "bin_df['mid'] = ((bin_df['start'] + bin_df['end']) / 2).astype(int)\n",
    "\n",
    "bin_start_dict = collections.defaultdict(lambda: {})\n",
    "for chrom in mycooler.chromnames:\n",
    "    bin_start_dict[chrom] = dict(bin_df.loc[bin_df.chrom == chrom, ['mid', 'start']].values)\n",
    "\n",
    "bin_end_dict = collections.defaultdict(lambda: {})\n",
    "for chrom in mycooler.chromnames:\n",
    "    bin_end_dict[chrom] = dict(bin_df.loc[bin_df.chrom == chrom, ['mid', 'end']].values)\n",
    "\n",
    "sig_df['start1'] = sig_df.apply(lambda row: bin_start_dict[row['chr1']][row['fragmentMid1']], axis=1)\n",
    "sig_df['start2'] = sig_df.apply(lambda row: bin_start_dict[row['chr2']][row['fragmentMid2']], axis=1)\n",
    "\n",
    "sig_df['name'] = sig_df.index\n",
    "sig_df['strand'] = '.'\n",
    "sig_df['score'] = -np.log10(sig_df['p-value'])\n",
    "sig_df.loc[sig_df.score == np.inf, 'score'] = 1000\n",
    "\n",
    "chr_matrix_list = []\n",
    "for chrom in mycooler.chromnames:\n",
    "    chr_matrix = mycooler.matrix(balance=True, as_pixels=True, join=True).fetch(chrom).fillna(0)\n",
    "    chr_matrix = chr_matrix[(abs(chr_matrix.start1 - chr_matrix.start2) >= 20000) & (abs(chr_matrix.start1 - chr_matrix.start2) <= 2000000)]\n",
    "    chr_matrix_list.append(chr_matrix)\n",
    "\n",
    "matrix_df = pd.concat(chr_matrix_list).set_index(['chrom1', 'start1', 'start2'])\n",
    "sig_df['balanced_count'] = sig_df.apply(lambda row: matrix_df.loc[idx[row['chr1'], row['start1'], row['start2']], 'balanced'], axis=1)\n",
    "\n",
    "WT_sig_df = sig_df"
   ]
  },
  {
   "cell_type": "code",
   "execution_count": 8,
   "metadata": {},
   "outputs": [
    {
     "name": "stderr",
     "output_type": "stream",
     "text": [
      "/usr/local/lib/python2.7/dist-packages/ipykernel_launcher.py:29: RuntimeWarning: divide by zero encountered in log10\n"
     ]
    }
   ],
   "source": [
    "os.chdir('/home/zzeng/cloud_research/PengGroup/ZZeng/Data/Haihui/Tcf1/HiC-seq/Combine_Jun_Jul_2016/iterative_mapping_3')\n",
    "\n",
    "import numpy as np\n",
    "import pandas as pd\n",
    "import collections\n",
    "import cooler\n",
    "\n",
    "cutoff = 10e-5\n",
    "sig_df = pd.read_csv('fit-hi-c/DKO_CD8.spline_pass2.significances.txt.gz', header=0, sep='\\t')\n",
    "sig_df = sig_df[sig_df['q-value'] < cutoff]\n",
    "\n",
    "mycooler = cooler.Cooler('DKO_CD8-res-10K.cool')\n",
    "bin_df = mycooler.bins()[:]\n",
    "bin_df['mid'] = ((bin_df['start'] + bin_df['end']) / 2).astype(int)\n",
    "\n",
    "bin_start_dict = collections.defaultdict(lambda: {})\n",
    "for chrom in mycooler.chromnames:\n",
    "    bin_start_dict[chrom] = dict(bin_df.loc[bin_df.chrom == chrom, ['mid', 'start']].values)\n",
    "\n",
    "bin_end_dict = collections.defaultdict(lambda: {})\n",
    "for chrom in mycooler.chromnames:\n",
    "    bin_end_dict[chrom] = dict(bin_df.loc[bin_df.chrom == chrom, ['mid', 'end']].values)\n",
    "\n",
    "sig_df['start1'] = sig_df.apply(lambda row: bin_start_dict[row['chr1']][row['fragmentMid1']], axis=1)\n",
    "sig_df['start2'] = sig_df.apply(lambda row: bin_start_dict[row['chr2']][row['fragmentMid2']], axis=1)\n",
    "\n",
    "sig_df['name'] = sig_df.index\n",
    "sig_df['strand'] = '.'\n",
    "sig_df['score'] = -np.log10(sig_df['p-value'])\n",
    "sig_df.loc[sig_df.score == np.inf, 'score'] = 1000\n",
    "\n",
    "chr_matrix_list = []\n",
    "for chrom in mycooler.chromnames:\n",
    "    chr_matrix = mycooler.matrix(balance=True, as_pixels=True, join=True).fetch(chrom).fillna(0)\n",
    "    chr_matrix = chr_matrix[(abs(chr_matrix.start1 - chr_matrix.start2) >= 20000) & (abs(chr_matrix.start1 - chr_matrix.start2) <= 2000000)]\n",
    "    chr_matrix_list.append(chr_matrix)\n",
    "\n",
    "matrix_df = pd.concat(chr_matrix_list).set_index(['chrom1', 'start1', 'start2'])\n",
    "sig_df['balanced_count'] = sig_df.apply(lambda row: matrix_df.loc[idx[row['chr1'], row['start1'], row['start2']], 'balanced'], axis=1)\n",
    "\n",
    "DKO_sig_df = sig_df"
   ]
  },
  {
   "cell_type": "code",
   "execution_count": 10,
   "metadata": {},
   "outputs": [
    {
     "name": "stderr",
     "output_type": "stream",
     "text": [
      "/usr/local/lib/python2.7/dist-packages/ipykernel_launcher.py:29: RuntimeWarning: divide by zero encountered in log10\n"
     ]
    }
   ],
   "source": [
    "os.chdir('/home/zzeng/cloud_research/PengGroup/ZZeng/Data/Haihui/Tcf1/HiC-seq/Jul2017/iterative_mapping')\n",
    "\n",
    "import numpy as np\n",
    "import pandas as pd\n",
    "import collections\n",
    "import cooler\n",
    "\n",
    "cutoff = 10e-5\n",
    "sig_df = pd.read_csv('fit-hi-c/stim_WT_CD8.spline_pass2.significances.txt.gz', header=0, sep='\\t')\n",
    "sig_df = sig_df[sig_df['q-value'] < cutoff]\n",
    "\n",
    "mycooler = cooler.Cooler('stim_WT_CD8-res-10K.cool')\n",
    "bin_df = mycooler.bins()[:]\n",
    "bin_df['mid'] = ((bin_df['start'] + bin_df['end']) / 2).astype(int)\n",
    "\n",
    "bin_start_dict = collections.defaultdict(lambda: {})\n",
    "for chrom in mycooler.chromnames:\n",
    "    bin_start_dict[chrom] = dict(bin_df.loc[bin_df.chrom == chrom, ['mid', 'start']].values)\n",
    "\n",
    "bin_end_dict = collections.defaultdict(lambda: {})\n",
    "for chrom in mycooler.chromnames:\n",
    "    bin_end_dict[chrom] = dict(bin_df.loc[bin_df.chrom == chrom, ['mid', 'end']].values)\n",
    "\n",
    "sig_df['start1'] = sig_df.apply(lambda row: bin_start_dict[row['chr1']][row['fragmentMid1']], axis=1)\n",
    "sig_df['start2'] = sig_df.apply(lambda row: bin_start_dict[row['chr2']][row['fragmentMid2']], axis=1)\n",
    "\n",
    "sig_df['name'] = sig_df.index\n",
    "sig_df['strand'] = '.'\n",
    "sig_df['score'] = -np.log10(sig_df['p-value'])\n",
    "sig_df.loc[sig_df.score == np.inf, 'score'] = 1000\n",
    "\n",
    "chr_matrix_list = []\n",
    "for chrom in mycooler.chromnames:\n",
    "    chr_matrix = mycooler.matrix(balance=True, as_pixels=True, join=True).fetch(chrom).fillna(0)\n",
    "    chr_matrix = chr_matrix[(abs(chr_matrix.start1 - chr_matrix.start2) >= 20000) & (abs(chr_matrix.start1 - chr_matrix.start2) <= 2000000)]\n",
    "    chr_matrix_list.append(chr_matrix)\n",
    "\n",
    "matrix_df = pd.concat(chr_matrix_list).set_index(['chrom1', 'start1', 'start2'])\n",
    "sig_df['balanced_count'] = sig_df.apply(lambda row: matrix_df.loc[idx[row['chr1'], row['start1'], row['start2']], 'balanced'], axis=1)\n",
    "\n",
    "stim_WT_sig_df = sig_df"
   ]
  },
  {
   "cell_type": "code",
   "execution_count": 11,
   "metadata": {},
   "outputs": [
    {
     "name": "stderr",
     "output_type": "stream",
     "text": [
      "/usr/local/lib/python2.7/dist-packages/ipykernel_launcher.py:30: RuntimeWarning: divide by zero encountered in log10\n"
     ]
    }
   ],
   "source": [
    "os.chdir('/home/zzeng/cloud_research/PengGroup/ZZeng/Data/Haihui/Tcf1/HiC-seq/Jul2017/iterative_mapping')\n",
    "\n",
    "\n",
    "import numpy as np\n",
    "import pandas as pd\n",
    "import collections\n",
    "import cooler\n",
    "\n",
    "cutoff = 10e-5\n",
    "sig_df = pd.read_csv('fit-hi-c/stim_DKO_CD8.spline_pass2.significances.txt.gz', header=0, sep='\\t')\n",
    "sig_df = sig_df[sig_df['q-value'] < cutoff]\n",
    "\n",
    "mycooler = cooler.Cooler('stim_DKO_CD8-res-10K.cool')\n",
    "bin_df = mycooler.bins()[:]\n",
    "bin_df['mid'] = ((bin_df['start'] + bin_df['end']) / 2).astype(int)\n",
    "\n",
    "bin_start_dict = collections.defaultdict(lambda: {})\n",
    "for chrom in mycooler.chromnames:\n",
    "    bin_start_dict[chrom] = dict(bin_df.loc[bin_df.chrom == chrom, ['mid', 'start']].values)\n",
    "\n",
    "bin_end_dict = collections.defaultdict(lambda: {})\n",
    "for chrom in mycooler.chromnames:\n",
    "    bin_end_dict[chrom] = dict(bin_df.loc[bin_df.chrom == chrom, ['mid', 'end']].values)\n",
    "\n",
    "sig_df['start1'] = sig_df.apply(lambda row: bin_start_dict[row['chr1']][row['fragmentMid1']], axis=1)\n",
    "sig_df['start2'] = sig_df.apply(lambda row: bin_start_dict[row['chr2']][row['fragmentMid2']], axis=1)\n",
    "\n",
    "sig_df['name'] = sig_df.index\n",
    "sig_df['strand'] = '.'\n",
    "sig_df['score'] = -np.log10(sig_df['p-value'])\n",
    "sig_df.loc[sig_df.score == np.inf, 'score'] = 1000\n",
    "\n",
    "chr_matrix_list = []\n",
    "for chrom in mycooler.chromnames:\n",
    "    chr_matrix = mycooler.matrix(balance=True, as_pixels=True, join=True).fetch(chrom).fillna(0)\n",
    "    chr_matrix = chr_matrix[(abs(chr_matrix.start1 - chr_matrix.start2) >= 20000) & (abs(chr_matrix.start1 - chr_matrix.start2) <= 2000000)]\n",
    "    chr_matrix_list.append(chr_matrix)\n",
    "\n",
    "matrix_df = pd.concat(chr_matrix_list).set_index(['chrom1', 'start1', 'start2'])\n",
    "sig_df['balanced_count'] = sig_df.apply(lambda row: matrix_df.loc[idx[row['chr1'], row['start1'], row['start2']], 'balanced'], axis=1)\n",
    "\n",
    "stim_DKO_sig_df = sig_df"
   ]
  },
  {
   "cell_type": "code",
   "execution_count": 12,
   "metadata": {},
   "outputs": [
    {
     "name": "stderr",
     "output_type": "stream",
     "text": [
      "/usr/local/lib/python2.7/dist-packages/pandas/core/indexing.py:1310: PerformanceWarning: indexing past lexsort depth may impact performance.\n",
      "  return self._getitem_tuple(key)\n"
     ]
    }
   ],
   "source": [
    "up_gene_WT_interactions_df_list = []\n",
    "\n",
    "score_cutoff = 0\n",
    "cutoff_sig_df = WT_sig_df[WT_sig_df.score >= score_cutoff]\n",
    "cutoff_sig_1_df = cutoff_sig_df.set_index(['chr1', 'start1', 'start2'])\n",
    "cutoff_sig_2_df = cutoff_sig_df.set_index(['chr1', 'start2', 'start1'])\n",
    "idx = pd.IndexSlice\n",
    "\n",
    "for gene_id, gene_iv in up_genes_dict.iteritems():\n",
    "    chrom = gene_iv.chrom\n",
    "\n",
    "    gene_mid = (gene_iv.start + gene_iv.end) / 2\n",
    "    gene_bin_start = gene_mid / 10000 * 10000\n",
    "    \n",
    "    try:\n",
    "        gene_cutoff_sig_2_df = cutoff_sig_2_df.loc[idx[chrom, gene_bin_start],['score', 'balanced_count']]\n",
    "        gene_cutoff_sig_2_df['interaction_site_bin_start'] = gene_cutoff_sig_2_df.index\n",
    "        gene_cutoff_sig_2_df['gene_id'] = gene_id\n",
    "        gene_cutoff_sig_2_df['gene_TSS_bin_start'] = gene_bin_start\n",
    "        gene_cutoff_sig_2_df['chrom'] = chrom\n",
    "    except:\n",
    "        gene_cutoff_sig_2_df = None\n",
    "    \n",
    "    try:\n",
    "        gene_cutoff_sig_1_df = cutoff_sig_1_df.loc[idx[chrom, gene_bin_start],['score', 'balanced_count']]\n",
    "        gene_cutoff_sig_1_df['interaction_site_bin_start'] = gene_cutoff_sig_1_df.index\n",
    "        gene_cutoff_sig_1_df['gene_id'] = gene_id\n",
    "        gene_cutoff_sig_1_df['gene_TSS_bin_start'] = gene_bin_start\n",
    "        gene_cutoff_sig_1_df['chrom'] = chrom\n",
    "    except:\n",
    "        gene_cutoff_sig_1_df = None\n",
    "    \n",
    "    if gene_cutoff_sig_1_df is not None or gene_cutoff_sig_2_df is not None:\n",
    "        up_gene_WT_interactions_df_list.append(pd.concat([gene_cutoff_sig_1_df, gene_cutoff_sig_2_df])) "
   ]
  },
  {
   "cell_type": "code",
   "execution_count": 14,
   "metadata": {
    "collapsed": true
   },
   "outputs": [],
   "source": [
    "up_gene_stim_DKO_interactions_df_list = []\n",
    "\n",
    "score_cutoff = 0\n",
    "cutoff_sig_df = stim_DKO_sig_df[stim_DKO_sig_df.score >= score_cutoff]\n",
    "cutoff_sig_1_df = cutoff_sig_df.set_index(['chr1', 'start1', 'start2'])\n",
    "cutoff_sig_2_df = cutoff_sig_df.set_index(['chr1', 'start2', 'start1'])\n",
    "idx = pd.IndexSlice\n",
    "\n",
    "for gene_id, gene_iv in up_genes_dict.iteritems():\n",
    "    chrom = gene_iv.chrom\n",
    "\n",
    "    gene_mid = (gene_iv.start + gene_iv.end) / 2\n",
    "    gene_bin_start = gene_mid / 10000 * 10000\n",
    "    \n",
    "    try:\n",
    "        gene_cutoff_sig_2_df = cutoff_sig_2_df.loc[idx[chrom, gene_bin_start],['score', 'balanced_count']]\n",
    "        gene_cutoff_sig_2_df['interaction_site_bin_start'] = gene_cutoff_sig_2_df.index\n",
    "        gene_cutoff_sig_2_df['gene_id'] = gene_id\n",
    "        gene_cutoff_sig_2_df['gene_TSS_bin_start'] = gene_bin_start\n",
    "        gene_cutoff_sig_2_df['chrom'] = chrom\n",
    "    except:\n",
    "        gene_cutoff_sig_2_df = None\n",
    "    \n",
    "    try:\n",
    "        gene_cutoff_sig_1_df = cutoff_sig_1_df.loc[idx[chrom, gene_bin_start],['score', 'balanced_count']]\n",
    "        gene_cutoff_sig_1_df['interaction_site_bin_start'] = gene_cutoff_sig_1_df.index\n",
    "        gene_cutoff_sig_1_df['gene_id'] = gene_id\n",
    "        gene_cutoff_sig_1_df['gene_TSS_bin_start'] = gene_bin_start\n",
    "        gene_cutoff_sig_1_df['chrom'] = chrom\n",
    "    except:\n",
    "        gene_cutoff_sig_1_df = None\n",
    "        \n",
    "    if gene_cutoff_sig_1_df is not None or gene_cutoff_sig_2_df is not None:\n",
    "        up_gene_stim_DKO_interactions_df_list.append(pd.concat([gene_cutoff_sig_1_df, gene_cutoff_sig_2_df]))"
   ]
  },
  {
   "cell_type": "code",
   "execution_count": 15,
   "metadata": {
    "collapsed": true
   },
   "outputs": [],
   "source": [
    "peak_chrom_dict = collections.defaultdict(lambda: [])\n",
    "for peak, peak_iv in  peaks_dict.iteritems():\n",
    "    peak_mid = peak_iv.start\n",
    "    peak_bin_start = peak_mid / 10000 * 10000\n",
    "    chrom = peak_iv.chrom\n",
    "    peak_chrom_dict[chrom].append(peak_bin_start)"
   ]
  },
  {
   "cell_type": "code",
   "execution_count": 16,
   "metadata": {
    "collapsed": true
   },
   "outputs": [],
   "source": [
    "up_gene_WT_interactions_df = pd.concat(up_gene_WT_interactions_df_list).loc[:,['gene_id', 'chrom', 'gene_TSS_bin_start', 'interaction_site_bin_start', 'score', 'balanced_count']]\n",
    "up_gene_WT_interactions_df['Tcf1_binding_at_gene_TSS'] = up_gene_WT_interactions_df.apply(lambda row: row['gene_TSS_bin_start'] in peak_chrom_dict[row['chrom']], axis=1)\n",
    "up_gene_WT_interactions_df['Tcf1_binding_at_interaction_site'] = up_gene_WT_interactions_df.apply(lambda row: row['interaction_site_bin_start'] in peak_chrom_dict[row['chrom']], axis=1)"
   ]
  },
  {
   "cell_type": "code",
   "execution_count": 17,
   "metadata": {
    "collapsed": true
   },
   "outputs": [],
   "source": [
    "up_gene_stim_DKO_interactions_df = pd.concat(up_gene_stim_DKO_interactions_df_list).loc[:,['gene_id', 'chrom', 'gene_TSS_bin_start', 'interaction_site_bin_start', 'score', 'balanced_count']]\n",
    "up_gene_stim_DKO_interactions_df['Tcf1_binding_at_gene_TSS'] = up_gene_stim_DKO_interactions_df.apply(lambda row: row['gene_TSS_bin_start'] in peak_chrom_dict[row['chrom']], axis=1)\n",
    "up_gene_stim_DKO_interactions_df['Tcf1_binding_at_interaction_site'] = up_gene_stim_DKO_interactions_df.apply(lambda row: row['interaction_site_bin_start'] in peak_chrom_dict[row['chrom']], axis=1)"
   ]
  },
  {
   "cell_type": "code",
   "execution_count": 18,
   "metadata": {},
   "outputs": [
    {
     "name": "stderr",
     "output_type": "stream",
     "text": [
      "/usr/local/lib/python2.7/dist-packages/pandas/core/frame.py:2834: SettingWithCopyWarning: \n",
      "A value is trying to be set on a copy of a slice from a DataFrame\n",
      "\n",
      "See the caveats in the documentation: http://pandas.pydata.org/pandas-docs/stable/indexing.html#indexing-view-versus-copy\n",
      "  **kwargs)\n"
     ]
    }
   ],
   "source": [
    "up_gene_lost_interactions_df = up_gene_WT_interactions_df[up_gene_WT_interactions_df.apply(lambda row: row['interaction_site_bin_start'] not in up_gene_stim_DKO_interactions_df.loc[up_gene_stim_DKO_interactions_df.gene_id == row['gene_id'], 'interaction_site_bin_start'].tolist(), axis=1)]\n",
    "up_gene_lost_interactions_df.rename(columns={'score': 'WT_CD8_score', 'balanced_count': 'WT_CD8_balanced_count'}, inplace=True)"
   ]
  },
  {
   "cell_type": "markdown",
   "metadata": {},
   "source": [
    "## prep"
   ]
  },
  {
   "cell_type": "code",
   "execution_count": 22,
   "metadata": {},
   "outputs": [
    {
     "name": "stderr",
     "output_type": "stream",
     "text": [
      "/usr/local/lib/python2.7/dist-packages/ipykernel_launcher.py:20: RuntimeWarning: divide by zero encountered in log10\n"
     ]
    }
   ],
   "source": [
    "sig_df = pd.read_csv('fit-hi-c/stim_DKO_CD8.spline_pass2.significances.txt.gz', header=0, sep='\\t')\n",
    "\n",
    "mycooler = cooler.Cooler('stim_DKO_CD8-res-10K.cool')\n",
    "bin_df = mycooler.bins()[:]\n",
    "bin_df['mid'] = ((bin_df['start'] + bin_df['end']) / 2).astype(int)\n",
    "\n",
    "bin_start_dict = collections.defaultdict(lambda: {})\n",
    "for chrom in mycooler.chromnames:\n",
    "    bin_start_dict[chrom] = dict(bin_df.loc[bin_df.chrom == chrom, ['mid', 'start']].values)\n",
    "\n",
    "bin_end_dict = collections.defaultdict(lambda: {})\n",
    "for chrom in mycooler.chromnames:\n",
    "    bin_end_dict[chrom] = dict(bin_df.loc[bin_df.chrom == chrom, ['mid', 'end']].values)\n",
    "\n",
    "sig_df['start1'] = sig_df.apply(lambda row: bin_start_dict[row['chr1']][row['fragmentMid1']], axis=1)\n",
    "sig_df['start2'] = sig_df.apply(lambda row: bin_start_dict[row['chr2']][row['fragmentMid2']], axis=1)\n",
    "\n",
    "sig_df['name'] = sig_df.index\n",
    "sig_df['strand'] = '.'\n",
    "sig_df['score'] = -np.log10(sig_df['p-value'])\n",
    "sig_df.loc[sig_df.score == np.inf, 'score'] = 1000\n",
    "\n",
    "chr_matrix_list = []\n",
    "for chrom in mycooler.chromnames:\n",
    "    chr_matrix = mycooler.matrix(balance=True, as_pixels=True, join=True).fetch(chrom).fillna(0)\n",
    "    chr_matrix = chr_matrix[(abs(chr_matrix.start1 - chr_matrix.start2) >= 20000) & (abs(chr_matrix.start1 - chr_matrix.start2) <= 2000000)]\n",
    "    chr_matrix_list.append(chr_matrix)\n",
    "\n",
    "matrix_df = pd.concat(chr_matrix_list).set_index(['chrom1', 'start1', 'start2'])\n",
    "sig_df['balanced_count'] = sig_df.apply(lambda row: matrix_df.loc[idx[row['chr1'], row['start1'], row['start2']], 'balanced'], axis=1)\n",
    "\n",
    "stim_DKO_all_df = sig_df\n",
    "\n",
    "stim_DKO_all_df.set_index(['chr1', 'start1', 'start2'], inplace=True)"
   ]
  },
  {
   "cell_type": "markdown",
   "metadata": {},
   "source": [
    "## consider from Tcf1 peaks perspective"
   ]
  },
  {
   "cell_type": "code",
   "execution_count": 19,
   "metadata": {
    "collapsed": true
   },
   "outputs": [],
   "source": [
    "Tcf1_WT_interactions_df_list = []\n",
    "Tcf1_stim_DKO_interactions_df_list = []\n",
    "\n",
    "score_cutoff = 0\n",
    "cutoff_sig_df = WT_sig_df[WT_sig_df.score >= score_cutoff]\n",
    "cutoff_sig_1_df = cutoff_sig_df.set_index(['chr1', 'start1', 'start2'])\n",
    "cutoff_sig_2_df = cutoff_sig_df.set_index(['chr1', 'start2', 'start1'])\n",
    "idx = pd.IndexSlice\n",
    "\n",
    "for peak, peak_iv in peaks_dict.iteritems():\n",
    "    peak_mid = peak_iv.start\n",
    "    peak_bin_start = peak_mid / 10000 * 10000\n",
    "    chrom = peak_iv.chrom\n",
    "    \n",
    "    try:\n",
    "        peak_cutoff_sig_2_df = cutoff_sig_2_df.loc[idx[chrom, peak_bin_start],['score', 'balanced_count']]\n",
    "        peak_cutoff_sig_2_df['interaction_site_bin_start'] = peak_cutoff_sig_2_df.index\n",
    "        peak_cutoff_sig_2_df['Tcf1_binding_bin_start'] = peak_bin_start\n",
    "        peak_cutoff_sig_2_df['chrom'] = chrom\n",
    "        peak_cutoff_sig_2_df['Tcf1_binding_iv'] = peak\n",
    "    except:\n",
    "        peak_cutoff_sig_2_df = None\n",
    "    \n",
    "    try:\n",
    "        peak_cutoff_sig_1_df = cutoff_sig_1_df.loc[idx[chrom, peak_bin_start],['score', 'balanced_count']]\n",
    "        peak_cutoff_sig_1_df['interaction_site_bin_start'] = peak_cutoff_sig_1_df.index\n",
    "        peak_cutoff_sig_1_df['Tcf1_binding_bin_start'] = peak_bin_start\n",
    "        peak_cutoff_sig_1_df['chrom'] = chrom\n",
    "        peak_cutoff_sig_1_df['Tcf1_binding_iv'] = peak\n",
    "    except:\n",
    "        peak_cutoff_sig_1_df = None\n",
    "    \n",
    "    if peak_cutoff_sig_1_df is not None or peak_cutoff_sig_2_df is not None:\n",
    "        Tcf1_WT_interactions_df_list.append(pd.concat([peak_cutoff_sig_1_df, peak_cutoff_sig_2_df])) \n",
    "        \n",
    "        \n",
    "score_cutoff = 0\n",
    "cutoff_sig_df = stim_DKO_sig_df[stim_DKO_sig_df.score >= score_cutoff]\n",
    "cutoff_sig_1_df = cutoff_sig_df.set_index(['chr1', 'start1', 'start2'])\n",
    "cutoff_sig_2_df = cutoff_sig_df.set_index(['chr1', 'start2', 'start1'])\n",
    "idx = pd.IndexSlice\n",
    "\n",
    "for peak, peak_iv in peaks_dict.iteritems():\n",
    "    peak_mid = peak_iv.start\n",
    "    peak_bin_start = peak_mid / 10000 * 10000\n",
    "    chrom = peak_iv.chrom\n",
    "    \n",
    "    try:\n",
    "        peak_cutoff_sig_2_df = cutoff_sig_2_df.loc[idx[chrom, peak_bin_start],['score', 'balanced_count']]\n",
    "        peak_cutoff_sig_2_df['interaction_site_bin_start'] = peak_cutoff_sig_2_df.index\n",
    "        peak_cutoff_sig_2_df['Tcf1_binding_bin_start'] = peak_bin_start\n",
    "        peak_cutoff_sig_2_df['chrom'] = chrom\n",
    "        peak_cutoff_sig_2_df['Tcf1_binding_iv'] = peak\n",
    "    except:\n",
    "        peak_cutoff_sig_2_df = None\n",
    "    \n",
    "    try:\n",
    "        peak_cutoff_sig_1_df = cutoff_sig_1_df.loc[idx[chrom, peak_bin_start],['score', 'balanced_count']]\n",
    "        peak_cutoff_sig_1_df['interaction_site_bin_start'] = peak_cutoff_sig_1_df.index\n",
    "        peak_cutoff_sig_1_df['Tcf1_binding_bin_start'] = peak_bin_start\n",
    "        peak_cutoff_sig_1_df['chrom'] = chrom\n",
    "        peak_cutoff_sig_1_df['Tcf1_binding_iv'] = peak\n",
    "    except:\n",
    "        peak_cutoff_sig_1_df = None\n",
    "    \n",
    "    if peak_cutoff_sig_1_df is not None or peak_cutoff_sig_2_df is not None:\n",
    "        Tcf1_stim_DKO_interactions_df_list.append(pd.concat([peak_cutoff_sig_1_df, peak_cutoff_sig_2_df])) "
   ]
  },
  {
   "cell_type": "code",
   "execution_count": 20,
   "metadata": {
    "collapsed": true
   },
   "outputs": [],
   "source": [
    "Tcf1_WT_interactions_df = pd.concat(Tcf1_WT_interactions_df_list).loc[:,['Tcf1_binding_iv', 'chrom', 'Tcf1_binding_bin_start', 'interaction_site_bin_start', 'score', 'balanced_count']]\n",
    "Tcf1_WT_interactions_df.rename(columns={'score': 'WT_CD8_score', 'balanced_count': 'WT_CD8_balanced_count'}, inplace=True)\n",
    "#Tcf1_WT_interactions_df.set_index(['chrom', 'Tcf1_binding_bin_start', 'interaction_site_bin_start'], inplace=True)"
   ]
  },
  {
   "cell_type": "code",
   "execution_count": 21,
   "metadata": {
    "collapsed": true
   },
   "outputs": [],
   "source": [
    "Tcf1_stim_DKO_interactions_df = pd.concat(Tcf1_stim_DKO_interactions_df_list).loc[:,['Tcf1_binding_iv', 'chrom', 'Tcf1_binding_bin_start', 'interaction_site_bin_start', 'score', 'balanced_count']]\n",
    "Tcf1_stim_DKO_interactions_df.rename(columns={'score': 'stim_DKO_CD8_score', 'balanced_count': 'stim_DKO_CD8_balanced_count'}, inplace=True)"
   ]
  },
  {
   "cell_type": "code",
   "execution_count": 23,
   "metadata": {
    "collapsed": true
   },
   "outputs": [],
   "source": [
    "Tcf1_CD8_interactions_df = Tcf1_WT_interactions_df.merge(Tcf1_stim_DKO_interactions_df, on=['Tcf1_binding_iv', 'chrom', 'Tcf1_binding_bin_start', 'interaction_site_bin_start'], how='left')\n",
    "\n",
    "def retrieve_interaction_score_from_stim_DKO(row, colname):\n",
    "    start1 = min(row['Tcf1_binding_bin_start'], row['interaction_site_bin_start'])\n",
    "    start2 = max(row['Tcf1_binding_bin_start'], row['interaction_site_bin_start'])\n",
    "    try:\n",
    "        return stim_DKO_all_df.loc[idx[row['chrom'], start1, start2], colname]\n",
    "    except:\n",
    "        return 0\n",
    "\n",
    "Tcf1_CD8_interactions_df['stim_DKO_CD8_score'] = Tcf1_CD8_interactions_df.apply(lambda row: retrieve_interaction_score_from_stim_DKO(row, 'score'), axis=1)\n",
    "Tcf1_CD8_interactions_df['stim_DKO_CD8_balanced_count'] = Tcf1_CD8_interactions_df.apply(lambda row: retrieve_interaction_score_from_stim_DKO(row, 'balanced_count'), axis=1)"
   ]
  },
  {
   "cell_type": "code",
   "execution_count": 24,
   "metadata": {
    "collapsed": true
   },
   "outputs": [],
   "source": [
    "Tcf1_CD8_interactions_df['diff_score'] = Tcf1_CD8_interactions_df['WT_CD8_score'] - Tcf1_CD8_interactions_df['stim_DKO_CD8_score']\n",
    "Tcf1_CD8_interactions_df['diff_balanced_count'] = Tcf1_CD8_interactions_df['WT_CD8_balanced_count'] - Tcf1_CD8_interactions_df['stim_DKO_CD8_balanced_count']"
   ]
  },
  {
   "cell_type": "code",
   "execution_count": 25,
   "metadata": {},
   "outputs": [
    {
     "data": {
      "text/plain": [
       "(318063, 10)"
      ]
     },
     "execution_count": 25,
     "metadata": {},
     "output_type": "execute_result"
    }
   ],
   "source": [
    "Tcf1_CD8_interactions_df.shape"
   ]
  },
  {
   "cell_type": "code",
   "execution_count": 34,
   "metadata": {},
   "outputs": [
    {
     "data": {
      "text/plain": [
       "1.6427883613971659"
      ]
     },
     "execution_count": 34,
     "metadata": {},
     "output_type": "execute_result"
    }
   ],
   "source": [
    "Tcf1_CD8_interactions_df['diff_score'].median()"
   ]
  },
  {
   "cell_type": "code",
   "execution_count": 26,
   "metadata": {
    "collapsed": true
   },
   "outputs": [],
   "source": [
    "Tcf1_CD8_interactions_df.to_csv('Tcf1_CD8_interactions.tsv', sep='\\t', index=None)"
   ]
  },
  {
   "cell_type": "code",
   "execution_count": null,
   "metadata": {
    "collapsed": true
   },
   "outputs": [],
   "source": [
    "Tcf1_CD8_interactions_df = pd.read_csv('Tcf1_CD8_interactions.tsv', sep='\\t', header=0)"
   ]
  },
  {
   "cell_type": "code",
   "execution_count": 27,
   "metadata": {
    "collapsed": true
   },
   "outputs": [],
   "source": [
    "all_genes_dict = {}\n",
    "\n",
    "all_genes_bed_file = HTSeq.BED_Reader('/home/zzeng/cloud_research/PengGroup/ZZeng/Annotation/gene_iv/mm9/gene_promoter_1k_iv_unique.bed')\n",
    "for alt in all_genes_bed_file:\n",
    "    all_genes_dict[alt.name] = alt.iv"
   ]
  },
  {
   "cell_type": "code",
   "execution_count": 50,
   "metadata": {
    "collapsed": true
   },
   "outputs": [],
   "source": [
    "top_Tcf1_CD8_interactions_df = Tcf1_CD8_interactions_df.sort_values(by='diff_score', ascending=True).iloc[:200000,:]"
   ]
  },
  {
   "cell_type": "code",
   "execution_count": 29,
   "metadata": {
    "collapsed": true
   },
   "outputs": [],
   "source": [
    "all_genes_tuples = []\n",
    "\n",
    "for gene_id, gene_iv in all_genes_dict.iteritems():\n",
    "    gene_chrom = gene_iv.chrom\n",
    "\n",
    "    gene_mid = (gene_iv.start + gene_iv.end) / 2\n",
    "    gene_bin_start = gene_mid / 10000 * 10000\n",
    "    \n",
    "    all_genes_tuples.append((gene_chrom, gene_bin_start))\n",
    "all_genes_tuples = set(all_genes_tuples)\n",
    "\n",
    "up_genes_tuples = []\n",
    "\n",
    "for gene_id, gene_iv in up_genes_dict.iteritems():\n",
    "    gene_chrom = gene_iv.chrom\n",
    "\n",
    "    gene_mid = (gene_iv.start + gene_iv.end) / 2\n",
    "    gene_bin_start = gene_mid / 10000 * 10000\n",
    "    \n",
    "    up_genes_tuples.append((gene_chrom, gene_bin_start))\n",
    "up_genes_tuples = set(up_genes_tuples)\n",
    "\n",
    "down_genes_tuples = []\n",
    "\n",
    "for gene_id, gene_iv in down_genes_dict.iteritems():\n",
    "    gene_chrom = gene_iv.chrom\n",
    "\n",
    "    gene_mid = (gene_iv.start + gene_iv.end) / 2\n",
    "    gene_bin_start = gene_mid / 10000 * 10000\n",
    "    \n",
    "    down_genes_tuples.append((gene_chrom, gene_bin_start))\n",
    "down_genes_tuples = set(down_genes_tuples)"
   ]
  },
  {
   "cell_type": "code",
   "execution_count": 30,
   "metadata": {
    "collapsed": true
   },
   "outputs": [],
   "source": [
    "all_genes_tuples_dict = collections.defaultdict(lambda: [])\n",
    "\n",
    "for gene_id, gene_iv in all_genes_dict.iteritems():\n",
    "    gene_chrom = gene_iv.chrom\n",
    "\n",
    "    gene_mid = (gene_iv.start + gene_iv.end) / 2\n",
    "    gene_bin_start = gene_mid / 10000 * 10000\n",
    "    \n",
    "    all_genes_tuples_dict[(gene_chrom, gene_bin_start)].append(gene_id)\n",
    "\n",
    "up_genes_tuples_dict = collections.defaultdict(lambda: [])\n",
    "\n",
    "for gene_id, gene_iv in up_genes_dict.iteritems():\n",
    "    gene_chrom = gene_iv.chrom\n",
    "\n",
    "    gene_mid = (gene_iv.start + gene_iv.end) / 2\n",
    "    gene_bin_start = gene_mid / 10000 * 10000\n",
    "    \n",
    "    up_genes_tuples_dict[(gene_chrom, gene_bin_start)].append(gene_id)\n",
    "\n",
    "down_genes_tuples_dict = collections.defaultdict(lambda: [])\n",
    "\n",
    "for gene_id, gene_iv in down_genes_dict.iteritems():\n",
    "    gene_chrom = gene_iv.chrom\n",
    "\n",
    "    gene_mid = (gene_iv.start + gene_iv.end) / 2\n",
    "    gene_bin_start = gene_mid / 10000 * 10000\n",
    "    \n",
    "    down_genes_tuples_dict[(gene_chrom, gene_bin_start)].append(gene_id)"
   ]
  },
  {
   "cell_type": "code",
   "execution_count": 51,
   "metadata": {
    "collapsed": true
   },
   "outputs": [],
   "source": [
    "top_Tcf1_CD8_interactions_df['all_gene_TSS_at_interaction_site'] = top_Tcf1_CD8_interactions_df.apply(lambda row: True if (row['chrom'], row['interaction_site_bin_start']) in all_genes_tuples else False, axis=1)\n",
    "top_Tcf1_CD8_interactions_df['up_gene_TSS_at_interaction_site'] = top_Tcf1_CD8_interactions_df.apply(lambda row: True if (row['chrom'], row['interaction_site_bin_start']) in up_genes_tuples else False, axis=1)\n",
    "top_Tcf1_CD8_interactions_df['down_gene_TSS_at_interaction_site'] = top_Tcf1_CD8_interactions_df.apply(lambda row: True if (row['chrom'], row['interaction_site_bin_start']) in down_genes_tuples else False, axis=1)"
   ]
  },
  {
   "cell_type": "code",
   "execution_count": 52,
   "metadata": {},
   "outputs": [
    {
     "name": "stdout",
     "output_type": "stream",
     "text": [
      "20910 50977\n",
      "296 1229\n",
      "151 585\n"
     ]
    }
   ],
   "source": [
    "print len(all_genes_tuples), top_Tcf1_CD8_interactions_df[top_Tcf1_CD8_interactions_df.all_gene_TSS_at_interaction_site].shape[0]\n",
    "print len(up_genes_tuples), top_Tcf1_CD8_interactions_df[top_Tcf1_CD8_interactions_df.up_gene_TSS_at_interaction_site].shape[0]\n",
    "print len(down_genes_tuples), top_Tcf1_CD8_interactions_df[top_Tcf1_CD8_interactions_df.down_gene_TSS_at_interaction_site].shape[0]"
   ]
  },
  {
   "cell_type": "code",
   "execution_count": 53,
   "metadata": {},
   "outputs": [
    {
     "name": "stdout",
     "output_type": "stream",
     "text": [
      "13374\n",
      "255\n",
      "120\n"
     ]
    }
   ],
   "source": [
    "print len(set(reduce(lambda x, y: x + y, top_Tcf1_CD8_interactions_df[top_Tcf1_CD8_interactions_df.all_gene_TSS_at_interaction_site].apply(lambda row: all_genes_tuples_dict[(row['chrom'], row['interaction_site_bin_start'])], axis=1).tolist(), [])))\n",
    "print len(set(reduce(lambda x, y: x + y, top_Tcf1_CD8_interactions_df[top_Tcf1_CD8_interactions_df.up_gene_TSS_at_interaction_site].apply(lambda row: up_genes_tuples_dict[(row['chrom'], row['interaction_site_bin_start'])], axis=1).tolist(), [])))\n",
    "print len(set(reduce(lambda x, y: x + y, top_Tcf1_CD8_interactions_df[top_Tcf1_CD8_interactions_df.down_gene_TSS_at_interaction_site].apply(lambda row: down_genes_tuples_dict[(row['chrom'], row['interaction_site_bin_start'])], axis=1).tolist(), [])))"
   ]
  },
  {
   "cell_type": "code",
   "execution_count": 43,
   "metadata": {},
   "outputs": [
    {
     "name": "stdout",
     "output_type": "stream",
     "text": [
      "set(['Recql4', 'Tha1', 'Pola2', 'Pim1', 'Med20', 'Map3k8', 'Tfrc', 'Ctc1', 'Ms4a4c', 'Fbxl18', 'Cbx1', 'Slc25a10'])\n",
      "set(['Orai1', 'Ercc5', 'Ap3m2', 'Snord83b', 'Amd2', 'Suco'])\n"
     ]
    }
   ],
   "source": [
    "print set(reduce(lambda x, y: x + y, top_Tcf1_CD8_interactions_df[top_Tcf1_CD8_interactions_df.up_gene_TSS_at_interaction_site].apply(lambda row: up_genes_tuples_dict[(row['chrom'], row['interaction_site_bin_start'])], axis=1).tolist(), []))\n",
    "print set(reduce(lambda x, y: x + y, top_Tcf1_CD8_interactions_df[top_Tcf1_CD8_interactions_df.down_gene_TSS_at_interaction_site].apply(lambda row: down_genes_tuples_dict[(row['chrom'], row['interaction_site_bin_start'])], axis=1).tolist(), []))"
   ]
  },
  {
   "cell_type": "code",
   "execution_count": 44,
   "metadata": {},
   "outputs": [
    {
     "data": {
      "text/plain": [
       "'Recql4, Tha1, Pola2, Pim1, Med20, Map3k8, Tfrc, Ctc1, Ms4a4c, Fbxl18, Cbx1, Slc25a10'"
      ]
     },
     "execution_count": 44,
     "metadata": {},
     "output_type": "execute_result"
    }
   ],
   "source": [
    "', '.join(['Recql4', 'Tha1', 'Pola2', 'Pim1', 'Med20', 'Map3k8', 'Tfrc', 'Ctc1', 'Ms4a4c', 'Fbxl18', 'Cbx1', 'Slc25a10'])"
   ]
  },
  {
   "cell_type": "code",
   "execution_count": 45,
   "metadata": {},
   "outputs": [
    {
     "data": {
      "text/plain": [
       "'Orai1, Ercc5, Ap3m2, Snord83b, Amd2, Suco'"
      ]
     },
     "execution_count": 45,
     "metadata": {},
     "output_type": "execute_result"
    }
   ],
   "source": [
    "', '.join(['Orai1', 'Ercc5', 'Ap3m2', 'Snord83b', 'Amd2', 'Suco'])"
   ]
  },
  {
   "cell_type": "code",
   "execution_count": 55,
   "metadata": {
    "collapsed": true
   },
   "outputs": [],
   "source": [
    "import scipy"
   ]
  },
  {
   "cell_type": "code",
   "execution_count": 71,
   "metadata": {},
   "outputs": [
    {
     "data": {
      "text/plain": [
       "(2.9210525832220506,\n",
       " 0.087430814456609718,\n",
       " 1,\n",
       " array([[ 20895.8276371,    165.1723629],\n",
       "        [ 13388.1723629,    105.8276371]]))"
      ]
     },
     "execution_count": 71,
     "metadata": {},
     "output_type": "execute_result"
    }
   ],
   "source": [
    "scipy.stats.chi2_contingency(np.array([[20910, 151], [13374, 120]]))"
   ]
  },
  {
   "cell_type": "code",
   "execution_count": null,
   "metadata": {
    "collapsed": true
   },
   "outputs": [],
   "source": []
  }
 ],
 "metadata": {
  "kernelspec": {
   "display_name": "Python 2",
   "language": "python",
   "name": "python2"
  },
  "language_info": {
   "codemirror_mode": {
    "name": "ipython",
    "version": 2
   },
   "file_extension": ".py",
   "mimetype": "text/x-python",
   "name": "python",
   "nbconvert_exporter": "python",
   "pygments_lexer": "ipython2",
   "version": "2.7.6"
  }
 },
 "nbformat": 4,
 "nbformat_minor": 2
}
