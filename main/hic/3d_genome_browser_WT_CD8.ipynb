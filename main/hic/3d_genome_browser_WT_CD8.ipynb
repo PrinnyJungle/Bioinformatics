{
 "cells": [
  {
   "cell_type": "code",
   "execution_count": 1,
   "metadata": {},
   "outputs": [
    {
     "name": "stdout",
     "output_type": "stream",
     "text": [
      "hello from new mapping\n"
     ]
    }
   ],
   "source": [
    "import os\n",
    "import sys\n",
    "import numpy as np\n",
    "import pandas as pd\n",
    "import collections\n",
    "from mirnylib import h5dict, genome, plotting\n",
    "from hiclib import mapping, fragmentHiC, highResBinnedData"
   ]
  },
  {
   "cell_type": "code",
   "execution_count": 2,
   "metadata": {},
   "outputs": [],
   "source": [
    "genome_db = genome.Genome('/home/xli/cloud_research/PengGroup/ZZeng/Data/Haihui/Tcf1/HiC-seq/Jun2016/exp/iterative_mapping/genome.fa')"
   ]
  },
  {
   "cell_type": "code",
   "execution_count": 3,
   "metadata": {},
   "outputs": [],
   "source": [
    "fname_list = ['WT_CD8_p%d_mapped_reads.hdf5' % i for i in range(1,7)]\n",
    "\n",
    "mapped_reads_list = []\n",
    "for fname in fname_list:\n",
    "    mapped_reads_list.append(h5dict.h5dict(fname))\n",
    "\n",
    "combine_mapped_reads = h5dict.h5dict('WT_CD8_mapped_reads.hdf5')\n",
    "\n",
    "combine_mapped_reads['chrms1'] = np.hstack(map(lambda k: k['chrms1'], mapped_reads_list))\n",
    "combine_mapped_reads['chrms2'] = np.hstack(map(lambda k: k['chrms2'], mapped_reads_list))\n",
    "combine_mapped_reads['cuts1'] = np.hstack(map(lambda k: k['cuts1'], mapped_reads_list))\n",
    "combine_mapped_reads['cuts2'] = np.hstack(map(lambda k: k['cuts2'], mapped_reads_list))\n",
    "combine_mapped_reads['misc'] = map(lambda k: k['misc'], mapped_reads_list)[0]\n",
    "combine_mapped_reads['strands1'] = np.hstack(map(lambda k: k['strands1'], mapped_reads_list))\n",
    "combine_mapped_reads['strands2'] = np.hstack(map(lambda k: k['strands1'], mapped_reads_list))\n"
   ]
  },
  {
   "cell_type": "code",
   "execution_count": 4,
   "metadata": {},
   "outputs": [
    {
     "name": "stdout",
     "output_type": "stream",
     "text": [
      "----> New dataset opened, genome iterative_mapping, filename = WT_CD8_fragment_dataset.hdf5\n"
     ]
    }
   ],
   "source": [
    "fragments = fragmentHiC.HiCdataset(\n",
    "    filename='WT_CD8_fragment_dataset.hdf5',\n",
    "    enzymeName='HindIII',\n",
    "    genome=genome_db,\n",
    "    mode='w')"
   ]
  },
  {
   "cell_type": "code",
   "execution_count": 5,
   "metadata": {},
   "outputs": [
    {
     "name": "stdout",
     "output_type": "stream",
     "text": [
      "     loading data from file WT_CD8_mapped_reads.hdf5 (assuming h5dict)\n",
      "raw read count file {0} does not exist\n",
      "Count not find raw read count\n",
      "filtering SS reads\n",
      "Keeping same-fragment reads\n",
      "keeping --> <-- reads even if they exceed maximumMoleculeLength\n",
      "300_validPairs:  404008692\n"
     ]
    }
   ],
   "source": [
    "fragments.parseInputData(\n",
    "    dictLike='WT_CD8_mapped_reads.hdf5', keepSingleSided=False, keepSameFragment=True, keepReadsMolecules=True)"
   ]
  },
  {
   "cell_type": "code",
   "execution_count": 6,
   "metadata": {},
   "outputs": [
    {
     "name": "stdout",
     "output_type": "stream",
     "text": [
      "----->Filtering duplicates in DS reads: \n",
      "Sorting using 2 chunks\n",
      "----> New dataset opened, genome iterative_mapping, filename = WT_CD8_fragment_dataset.hdf5\n",
      "----->!!!File already exists! It will be opened in the append mode\n",
      "\n"
     ]
    },
    {
     "name": "stderr",
     "output_type": "stream",
     "text": [
      "/opt/miniconda2/lib/python2.7/site-packages/hiclib/fragmentHiC.py:600: FutureWarning: elementwise comparison failed; returning scalar instead, but in the future will perform elementwise comparison\n",
      "  if outVariable[1] == \"ToDefine\":\n",
      "/opt/miniconda2/lib/python2.7/site-packages/hiclib/fragmentHiC.py:600: UnicodeWarning: Unicode equal comparison failed to convert both arguments to Unicode - interpreting them as being unequal\n",
      "  if outVariable[1] == \"ToDefine\":\n"
     ]
    },
    {
     "name": "stdout",
     "output_type": "stream",
     "text": [
      "----> By chromosome Heatmap saved to 'WT_CD8_heatmap-res-10K.hdf5' at 10000 resolution\n"
     ]
    }
   ],
   "source": [
    "fragments.filterDuplicates(mode='ram')\n",
    "fragments._sortData()\n",
    "\n",
    "fragments = fragmentHiC.HiCdataset('WT_CD8_fragment_dataset.hdf5', genome_db, enzymeName='HindIII')\n",
    "\n",
    "fragments.saveByChromosomeHeatmap('WT_CD8_heatmap-res-10K.hdf5', resolution=10000)\n",
    "\n",
    "fragments.printMetadata(saveTo=\"WT_CD8_statistics.txt\")"
   ]
  },
  {
   "cell_type": "code",
   "execution_count": 7,
   "metadata": {},
   "outputs": [],
   "source": [
    "WT_CD8_BD = highResBinnedData.HiResHiC(genome_db, 10000, 'WT_CD8_heatmap-res-10K.hdf5', mode='r+')\n",
    "WT_CD8_BD.loadData('WT_CD8_heatmap-res-10K.hdf5')\n",
    "outdir = '/home/xli/cloud_research/PengGroup/ZZeng/Data/Haihui/Tcf1/HiC-seq/Combine_Jun_Jul_2016/iterative_mapping_3/3d_genome_browser_WT_CD8/'\n",
    "pd.DataFrame({'chrmLabels': WT_CD8_BD.genome.chrmLabels, 'chrmLens': WT_CD8_BD.genome.chrmLens}).to_csv(outdir + 'mm9_genome_size.txt', index=None, header=None, sep='\\t')\n",
    "pd.DataFrame({'chrmLabels': WT_CD8_BD.genome.chrmLabels, 'filename': map(lambda chrm: outdir + 'WT_CD8_' + chrm + '.matrix', WT_CD8_BD.genome.chrmLabels)}).to_csv(outdir + 'WT_CD8_intrachrom_matrix_list.txt', index=None, header=None, sep='\\t')\n"
   ]
  },
  {
   "cell_type": "code",
   "execution_count": 8,
   "metadata": {},
   "outputs": [
    {
     "name": "stdout",
     "output_type": "stream",
     "text": [
      "(0, 0)\n",
      "(1, 1)\n",
      "(2, 2)\n",
      "(3, 3)\n",
      "(4, 4)\n",
      "(5, 5)\n",
      "(6, 6)\n",
      "(7, 7)\n",
      "(8, 8)\n",
      "(9, 9)\n",
      "(10, 10)\n",
      "(11, 11)\n",
      "(12, 12)\n",
      "(13, 13)\n",
      "(14, 14)\n",
      "(15, 15)\n",
      "(16, 16)\n",
      "(17, 17)\n",
      "(18, 18)\n",
      "(19, 19)\n",
      "(20, 20)\n",
      "(21, 21)\n"
     ]
    }
   ],
   "source": [
    "for index, chrmLabel in WT_CD8_BD.genome.idx2label.iteritems():\n",
    "    key = '(%d, %d)' % (index, index)\n",
    "    print key\n",
    "    outputfile = 'WT_CD8_' +  chrmLabel + '.matrix'\n",
    "    \n",
    "    \n",
    "    np.savetxt(outdir + outputfile, WT_CD8_BD._h5dict[key], fmt='%.2e', delimiter='\\t')"
   ]
  },
  {
   "cell_type": "code",
   "execution_count": null,
   "metadata": {},
   "outputs": [],
   "source": [
    "BD = highResBinnedData.HiResHiC(genome_db, 10000, 'WT_CD8_heatmap-res-10K-IC.hdf5')\n",
    "BD.loadData('WT_CD8_heatmap-res-10K.hdf5')"
   ]
  },
  {
   "cell_type": "code",
   "execution_count": null,
   "metadata": {},
   "outputs": [],
   "source": [
    "BD.removeDiagonal()\n",
    "\n",
    "BD.iterativeCorrection()"
   ]
  },
  {
   "cell_type": "code",
   "execution_count": null,
   "metadata": {},
   "outputs": [],
   "source": []
  },
  {
   "cell_type": "code",
   "execution_count": null,
   "metadata": {},
   "outputs": [],
   "source": []
  },
  {
   "cell_type": "markdown",
   "metadata": {},
   "source": [
    "## Genome Size File"
   ]
  },
  {
   "cell_type": "code",
   "execution_count": 4,
   "metadata": {
    "collapsed": true
   },
   "outputs": [],
   "source": [
    "outdir = '/home/lxiang/cloud_research/PengGroup/ZZeng/Data/Haihui/Tcf1/HiC-seq/Combine_Jun_Jul_2016/iterative_mapping_3/3d_genome_browser_test/'"
   ]
  },
  {
   "cell_type": "code",
   "execution_count": 12,
   "metadata": {},
   "outputs": [],
   "source": [
    "pd.DataFrame({'chrmLabels': WT_CD8_BD.genome.chrmLabels, 'chrmLens': WT_CD8_BD.genome.chrmLens}).to_csv(outdir + 'mm9_genome_size.txt', index=None, header=None, sep='\\t')"
   ]
  },
  {
   "cell_type": "code",
   "execution_count": 27,
   "metadata": {
    "collapsed": true
   },
   "outputs": [],
   "source": [
    "pd.DataFrame({'chrmLabels': WT_CD8_BD.genome.chrmLabels, 'filename': map(lambda chrm: outdir + 'WT_CD8_' + chrm + '.matrix', WT_CD8_BD.genome.chrmLabels)}).to_csv(outdir + 'WT_CD8_intrachrom_matrix_list.txt', index=None, header=None, sep='\\t')"
   ]
  },
  {
   "cell_type": "code",
   "execution_count": 28,
   "metadata": {},
   "outputs": [],
   "source": [
    "for index, chrmLabel in WT_CD8_BD.genome.idx2label.iteritems():\n",
    "    key = '(%d, %d)' % (index, index)\n",
    "    outputfile = 'WT_CD8_' +  chrmLabel + '.matrix'\n",
    "    np.savetxt('3d_genome_browser/' + outputfile, WT_CD8_BD._h5dict[key], fmt='%.2e', delimiter='\\t')"
   ]
  },
  {
   "cell_type": "code",
   "execution_count": null,
   "metadata": {
    "collapsed": true
   },
   "outputs": [],
   "source": []
  }
 ],
 "metadata": {
  "kernelspec": {
   "display_name": "Python 2",
   "language": "python",
   "name": "python2"
  },
  "language_info": {
   "codemirror_mode": {
    "name": "ipython",
    "version": 2
   },
   "file_extension": ".py",
   "mimetype": "text/x-python",
   "name": "python",
   "nbconvert_exporter": "python",
   "pygments_lexer": "ipython2",
   "version": "2.7.6"
  }
 },
 "nbformat": 4,
 "nbformat_minor": 1
}
