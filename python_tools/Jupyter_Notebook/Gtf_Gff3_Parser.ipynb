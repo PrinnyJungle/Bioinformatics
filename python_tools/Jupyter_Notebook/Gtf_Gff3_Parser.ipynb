{
 "cells": [
  {
   "cell_type": "markdown",
   "metadata": {},
   "source": [
    "# GTF GFF3 PARSER\n",
    "########################################################################\n",
    "## 05/19/2018\n",
    "## By Xiang Li,\n",
    "## lux@gwu.edu\n",
    "## Peng's Lab1\n",
    "## Ver.1.0\n",
    "########################################################################\n"
   ]
  },
  {
   "cell_type": "code",
   "execution_count": 1,
   "metadata": {},
   "outputs": [],
   "source": [
    "import numpy as np\n",
    "import pandas as pd\n",
    "import os"
   ]
  },
  {
   "cell_type": "code",
   "execution_count": 2,
   "metadata": {},
   "outputs": [],
   "source": [
    "def DIR_CHECK_CREATE(Input_Path):\n",
    "    if (not os.path.isdir(Input_Path)):\n",
    "        print (\"New Dir Made is\" + Input_Path)\n",
    "        os.mkdir(Input_Path)\n",
    "    else: \n",
    "        print ('Dir Exists')\n",
    "def Add_common_header(df,common_header):\n",
    "    name_list=[common_header]*len(df.columns)\n",
    "    tuples = list(zip(name_list,df.columns))\n",
    "    df.columns = pd.MultiIndex.from_tuples(tuples)\n",
    "    return df"
   ]
  },
  {
   "cell_type": "code",
   "execution_count": 159,
   "metadata": {},
   "outputs": [],
   "source": [
    "### gtf\n",
    "def Get_Simple_Genes_gtf2bed(df, out_name):\n",
    "\n",
    "    df_bed = []\n",
    "    i=0\n",
    "    ### Split last column, (gene_id, transcript_id and etc)\n",
    "    df = pd.concat([df.drop([8],axis=1),df.iloc[:,8].str.split(pat=';',expand=True)], axis=1,ignore_index='True')\n",
    "    ### Group by gene_id and transcript_id,\n",
    "    ### If counting results are equal, means it is a simple gene.\n",
    "    ### Some wierd loopole, some row does not have p_id (col 11), some has\n",
    "    ### without p_id, then 10 is transcript_id\n",
    "    df_no_p_id = df[df[12]=='']\n",
    "    ### with p_id, then 11 is transcript_id\n",
    "    df_with_p_id = df[df[12]!='']\n",
    "\n",
    "    ### Iterating Each Gene Group and convert to bed format.\n",
    "    for gene_id, gene_group in df_no_p_id.groupby([8]):\n",
    "        if (len(gene_group[10].unique()) == 1):\n",
    "            df_bed.append([gene_group.iloc[0,0], min(gene_group[3]), max(gene_group[4]), gene_id[9:-1], '.', gene_group.iloc[0,6]])\n",
    "            i+=1\n",
    "    for gene_id, gene_group in df_with_p_id.groupby([8]):\n",
    "        if (len(gene_group[11].unique()) == 1):\n",
    "            df_bed.append([gene_group.iloc[0,0], min(gene_group[3]), max(gene_group[4]), gene_id[9:-1], '.', gene_group.iloc[0,6]])\n",
    "            i+=1\n",
    "    ### Output        \n",
    "    df_bed = pd.DataFrame(df_bed, columns=['#chr','start','end','name','score','strand']).sort_values(by=['#chr','start'])\n",
    "    df_bed.to_csv(str(i)+'_'+out_name+'_Simple_Gene_list.bed', sep='\\t', index=None)\n",
    "    return df_bed\n",
    "\n",
    "def Get_Genes_gtf2bed(df, out_name):\n",
    "    df_bed = []\n",
    "    i=0\n",
    "    ### Split last column, (gene_id, transcript_id and etc)\n",
    "    df = pd.concat([df.drop([8],axis=1),df.iloc[:,8].str.split(pat=';',expand=True)], axis=1,ignore_index='True')\n",
    "      \n",
    "    ### Iterating Each Gene Group and convert to bed format.\n",
    "    for gene_id, gene_group in df.groupby([8]):\n",
    "        df_bed.append([gene_group.iloc[0,0], min(gene_group[3]), max(gene_group[4]), gene_id[9:-1], '.', gene_group.iloc[0,6]])\n",
    "        i+=1\n",
    "    ### Output        \n",
    "    df_bed = pd.DataFrame(df_bed, columns=['#chr','start','end','name','score','strand']).sort_values(by=['#chr','start'])\n",
    "    df_bed.to_csv(str(i)+'_'+out_name+'_Gene_list.bed', sep='\\t', index=None)\n",
    "    return df_bed\n"
   ]
  },
  {
   "cell_type": "code",
   "execution_count": null,
   "metadata": {},
   "outputs": [],
   "source": []
  },
  {
   "cell_type": "code",
   "execution_count": null,
   "metadata": {},
   "outputs": [],
   "source": []
  },
  {
   "cell_type": "code",
   "execution_count": null,
   "metadata": {},
   "outputs": [],
   "source": []
  },
  {
   "cell_type": "code",
   "execution_count": null,
   "metadata": {},
   "outputs": [],
   "source": []
  },
  {
   "cell_type": "code",
   "execution_count": null,
   "metadata": {},
   "outputs": [],
   "source": []
  },
  {
   "cell_type": "code",
   "execution_count": 160,
   "metadata": {},
   "outputs": [
    {
     "name": "stdout",
     "output_type": "stream",
     "text": [
      "Dir Exists\n"
     ]
    }
   ],
   "source": [
    "PATH_FOLDER=os.getcwd()\n",
    "DIR_CHECK_CREATE(PATH_FOLDER)\n",
    "INPUT_LIST=os.listdir(PATH_FOLDER)\n",
    "\n",
    "NAME = '/hg19_2015.gtf'\n",
    "NAME2= '/hg19_2015.gff3'\n",
    "\n",
    "df = pd.read_csv(PATH_FOLDER+NAME, sep='\\t',skiprows=None, header=None ) #, nrows=200)\n",
    "#df = pd.concat([df.drop([8],axis=1),df.iloc[:,8].str.split(pat=';',expand=True)], axis=1,ignore_index='True')\n",
    "\n",
    "#df2 = pd.read_csv(PATH_FOLDER+NAME2, sep='\\t',skiprows=2, header=None , nrows=200)\n",
    "#df2 = pd.concat([df.drop([8],axis=1),df.iloc[:,8].str.split(pat=';',expand=True)], axis=1,ignore_index='True')\n",
    "\n",
    "#df\n",
    "xx = Get_Simple_Genes_gtf2bed(df, 'hg19_2015')"
   ]
  },
  {
   "cell_type": "code",
   "execution_count": null,
   "metadata": {},
   "outputs": [],
   "source": []
  },
  {
   "cell_type": "code",
   "execution_count": 140,
   "metadata": {},
   "outputs": [],
   "source": [
    "df_no_p_id = df[df[12]=='']\n",
    "### with p_id, then 11 is transcript_id\n",
    "df_with_p_id = df[df[12]!='']\n"
   ]
  },
  {
   "cell_type": "code",
   "execution_count": null,
   "metadata": {},
   "outputs": [],
   "source": []
  },
  {
   "cell_type": "code",
   "execution_count": null,
   "metadata": {},
   "outputs": [],
   "source": []
  }
 ],
 "metadata": {
  "kernelspec": {
   "display_name": "Python 2",
   "language": "python",
   "name": "python2"
  },
  "language_info": {
   "codemirror_mode": {
    "name": "ipython",
    "version": 2
   },
   "file_extension": ".py",
   "mimetype": "text/x-python",
   "name": "python",
   "nbconvert_exporter": "python",
   "pygments_lexer": "ipython2",
   "version": "2.7.6"
  }
 },
 "nbformat": 4,
 "nbformat_minor": 2
}
