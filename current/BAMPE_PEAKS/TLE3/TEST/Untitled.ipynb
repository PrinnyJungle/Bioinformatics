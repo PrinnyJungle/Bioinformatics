{
 "cells": [
  {
   "cell_type": "code",
   "execution_count": 4,
   "metadata": {
    "collapsed": true
   },
   "outputs": [],
   "source": [
    "import pandas as pd"
   ]
  },
  {
   "cell_type": "code",
   "execution_count": null,
   "metadata": {
    "collapsed": true
   },
   "outputs": [],
   "source": []
  },
  {
   "cell_type": "code",
   "execution_count": 108,
   "metadata": {},
   "outputs": [
    {
     "data": {
      "text/plain": [
       "(415, 6)"
      ]
     },
     "execution_count": 108,
     "metadata": {},
     "output_type": "execute_result"
    }
   ],
   "source": [
    "df1=pd.read_csv('combine_sorted_count.bed', delimiter='\t', header=-1, names= ['Chr', 'TSS','TES', 'A','B', 'C'])\n",
    "df1.shape"
   ]
  },
  {
   "cell_type": "code",
   "execution_count": 109,
   "metadata": {},
   "outputs": [],
   "source": [
    "df1.loc[df1.index[df1['A']>1], ['A']]=1\n",
    "df1.loc[df1.index[df1['B']>1], ['B']]=1\n",
    "df1.loc[df1.index[df1['C']>1], ['C']]=1"
   ]
  },
  {
   "cell_type": "code",
   "execution_count": 110,
   "metadata": {},
   "outputs": [
    {
     "data": {
      "text/html": [
       "<div>\n",
       "<style>\n",
       "    .dataframe thead tr:only-child th {\n",
       "        text-align: right;\n",
       "    }\n",
       "\n",
       "    .dataframe thead th {\n",
       "        text-align: left;\n",
       "    }\n",
       "\n",
       "    .dataframe tbody tr th {\n",
       "        vertical-align: top;\n",
       "    }\n",
       "</style>\n",
       "<table border=\"1\" class=\"dataframe\">\n",
       "  <thead>\n",
       "    <tr style=\"text-align: right;\">\n",
       "      <th></th>\n",
       "      <th>Chr</th>\n",
       "      <th>TSS</th>\n",
       "      <th>TES</th>\n",
       "      <th>A</th>\n",
       "      <th>B</th>\n",
       "      <th>C</th>\n",
       "      <th>ABC</th>\n",
       "      <th>AB</th>\n",
       "      <th>BC</th>\n",
       "      <th>AC</th>\n",
       "    </tr>\n",
       "  </thead>\n",
       "  <tbody>\n",
       "    <tr>\n",
       "      <th>0</th>\n",
       "      <td>chr1</td>\n",
       "      <td>16678696</td>\n",
       "      <td>16679061</td>\n",
       "      <td>1</td>\n",
       "      <td>0</td>\n",
       "      <td>0</td>\n",
       "      <td>1</td>\n",
       "      <td>1</td>\n",
       "      <td>0</td>\n",
       "      <td>1</td>\n",
       "    </tr>\n",
       "    <tr>\n",
       "      <th>1</th>\n",
       "      <td>chr1</td>\n",
       "      <td>20730584</td>\n",
       "      <td>20730997</td>\n",
       "      <td>1</td>\n",
       "      <td>0</td>\n",
       "      <td>0</td>\n",
       "      <td>1</td>\n",
       "      <td>1</td>\n",
       "      <td>0</td>\n",
       "      <td>1</td>\n",
       "    </tr>\n",
       "    <tr>\n",
       "      <th>2</th>\n",
       "      <td>chr1</td>\n",
       "      <td>24012136</td>\n",
       "      <td>24012461</td>\n",
       "      <td>1</td>\n",
       "      <td>0</td>\n",
       "      <td>0</td>\n",
       "      <td>1</td>\n",
       "      <td>1</td>\n",
       "      <td>0</td>\n",
       "      <td>1</td>\n",
       "    </tr>\n",
       "    <tr>\n",
       "      <th>3</th>\n",
       "      <td>chr1</td>\n",
       "      <td>36823939</td>\n",
       "      <td>36824266</td>\n",
       "      <td>1</td>\n",
       "      <td>0</td>\n",
       "      <td>0</td>\n",
       "      <td>1</td>\n",
       "      <td>1</td>\n",
       "      <td>0</td>\n",
       "      <td>1</td>\n",
       "    </tr>\n",
       "    <tr>\n",
       "      <th>4</th>\n",
       "      <td>chr1</td>\n",
       "      <td>51641738</td>\n",
       "      <td>51642253</td>\n",
       "      <td>1</td>\n",
       "      <td>0</td>\n",
       "      <td>0</td>\n",
       "      <td>1</td>\n",
       "      <td>1</td>\n",
       "      <td>0</td>\n",
       "      <td>1</td>\n",
       "    </tr>\n",
       "  </tbody>\n",
       "</table>\n",
       "</div>"
      ],
      "text/plain": [
       "    Chr       TSS       TES  A  B  C  ABC  AB  BC  AC\n",
       "0  chr1  16678696  16679061  1  0  0    1   1   0   1\n",
       "1  chr1  20730584  20730997  1  0  0    1   1   0   1\n",
       "2  chr1  24012136  24012461  1  0  0    1   1   0   1\n",
       "3  chr1  36823939  36824266  1  0  0    1   1   0   1\n",
       "4  chr1  51641738  51642253  1  0  0    1   1   0   1"
      ]
     },
     "execution_count": 110,
     "metadata": {},
     "output_type": "execute_result"
    }
   ],
   "source": [
    "df1['ABC']=df1['A']+df1['B']+df1['C']\n",
    "df1['AB']=df1['A']+df1['B']\n",
    "df1['BC']=df1['B']+df1['C']\n",
    "df1['AC']=df1['A']+df1['C']\n",
    "df1.head()"
   ]
  },
  {
   "cell_type": "code",
   "execution_count": 133,
   "metadata": {},
   "outputs": [
    {
     "name": "stdout",
     "output_type": "stream",
     "text": [
      "('A', 317)\n",
      "('B', 165)\n",
      "('C', 85)\n",
      "('AB', 110)\n",
      "('AC', 37)\n",
      "('BC', 32)\n",
      "('ABC', 27)\n"
     ]
    }
   ],
   "source": [
    "print(\"A\",df1['A'].value_counts()[1])\n",
    "print(\"B\",df1['B'].value_counts()[1])\n",
    "print(\"C\",df1['C'].value_counts()[1])\n",
    "print(\"AB\",df1['AB'].value_counts()[2])\n",
    "print(\"AC\",df1['AC'].value_counts()[2])\n",
    "print(\"BC\",df1['BC'].value_counts()[2])\n",
    "print(\"ABC\",df1['ABC'].value_counts()[3])"
   ]
  },
  {
   "cell_type": "code",
   "execution_count": 150,
   "metadata": {},
   "outputs": [],
   "source": [
    "#df1.index[df1['C']>1]"
   ]
  },
  {
   "cell_type": "code",
   "execution_count": 145,
   "metadata": {},
   "outputs": [
    {
     "data": {
      "image/png": "[encoded data removed]",
      "text/plain": [
       "<matplotlib.figure.Figure at 0x7fc920f91e10>"
      ]
     },
     "metadata": {},
     "output_type": "display_data"
    }
   ],
   "source": [
    "import matplotlib.pyplot as plt\n",
    "from matplotlib_venn import venn3, venn3_circles\n",
    "\n",
    "##\n",
    "center=df1['ABC'].value_counts()[3]\n",
    "AB_com=df1['AB'].value_counts()[2]-center\n",
    "AC_com=df1['AC'].value_counts()[2]-center\n",
    "BC_com=df1['BC'].value_counts()[2]-center\n",
    "\n",
    "A_solo=df1['A'].value_counts()[1]-AB_com-AC_com-center\n",
    "B_solo=df1['B'].value_counts()[1]-AB_com-BC_com-center\n",
    "C_solo=df1['C'].value_counts()[1]-AC_com-BC_com-center\n",
    "\n",
    "\n",
    "v=venn3(subsets = (A_solo, B_solo, AB_com, C_solo,AC_com,BC_com,center), \\\n",
    "        set_labels = ('TLE3-Tfh_peaks', 'TLE3-Th1_peaks', 'TLE3-CD4_peaks'))\n",
    "#c=venn3_circles(subsets = (10, 8, 22, 6,9,4,2), linestyle='dashed', linewidth=1, color=\"grey\")\n",
    "plt.show()\n"
   ]
  },
  {
   "cell_type": "code",
   "execution_count": null,
   "metadata": {},
   "outputs": [],
   "source": []
  }
 ],
 "metadata": {
  "kernelspec": {
   "display_name": "Python 2",
   "language": "python",
   "name": "python2"
  },
  "language_info": {
   "codemirror_mode": {
    "name": "ipython",
    "version": 2
   },
   "file_extension": ".py",
   "mimetype": "text/x-python",
   "name": "python",
   "nbconvert_exporter": "python",
   "pygments_lexer": "ipython2",
   "version": "2.7.12"
  }
 },
 "nbformat": 4,
 "nbformat_minor": 2
}
