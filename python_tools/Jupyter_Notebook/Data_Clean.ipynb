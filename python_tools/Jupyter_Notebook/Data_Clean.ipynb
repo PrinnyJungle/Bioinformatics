{
 "cells": [
  {
   "cell_type": "code",
   "execution_count": 1,
   "metadata": {
    "collapsed": true
   },
   "outputs": [],
   "source": [
    "## This file contains the basic function of read data and clean filter.\n",
    "## Author: Xiang Li\n",
    "\n",
    "###Sample\n",
    "#### Imput Package\n",
    "import pandas as pd\n",
    "import numpy as np\n",
    "import os"
   ]
  },
  {
   "cell_type": "code",
   "execution_count": 2,
   "metadata": {
    "collapsed": true
   },
   "outputs": [],
   "source": [
    "###PLot package\n",
    "import matplotlib\n",
    "matplotlib.use('AGG')\n",
    "import matplotlib.pyplot as plt\n",
    "import matplotlib.patches as mpatches\n",
    "import seaborn as sns\n",
    "sns.set_style(\"white\") \n",
    "\n",
    "# display plots in this notebook\n",
    "%matplotlib inline"
   ]
  },
  {
   "cell_type": "code",
   "execution_count": 57,
   "metadata": {
    "collapsed": true
   },
   "outputs": [],
   "source": [
    "### For any input of /gene_exp.diff, return its All genes with\n",
    "### gene_id, cond1, cond2, log2(fold_change), p_value, plus a number of order.\n",
    "def generate_All_Genes(Input_Path, number):\n",
    "    #### READ FILE\n",
    "    df = pd.read_csv(Input_Path, sep='\\t', header=0, usecols={'gene_id',\\\n",
    "    'status','sample_1','sample_2', 'value_1','value_2','log2(fold_change)','p_value','q_value'})\n",
    "    #### Rename columns\n",
    "    df=df.rename(columns={'value_1': df['sample_1'].unique()[0], 'value_2': df['sample_2'].unique()[0]})\n",
    "    #### Output   \n",
    "    return df.loc[:,['gene_id',df['sample_1'].unique()[0],df['sample_2'].unique()[0],'log2(fold_change)','p_value','q_value', number]].fillna('')"
   ]
  },
  {
   "cell_type": "code",
   "execution_count": 3,
   "metadata": {
    "collapsed": true
   },
   "outputs": [],
   "source": [
    "def generate_Upregulated_Genes(Input_Path):\n",
    "    #### READ FILE\n",
    "    df = pd.read_csv(Input_Path, sep='\\t', header=0, usecols={'gene_id',\\\n",
    "    'status','sample_1','sample_2', 'value_1','value_2','log2(fold_change)','p_value','q_value'})\n",
    "    #### Filter\n",
    "    \n",
    "    df=df[\n",
    "    (df['status']=='OK') & (df['q_value']<0.05) & (df['value_2']>=1.0)\\\n",
    "    & (df['log2(fold_change)'] > np.log2(1.5))\n",
    "    ]\n",
    "    \n",
    "    #### Rearrange Columns\n",
    "    \n",
    "    df=df.rename(columns={'value_1': df['sample_1'].unique()[0], 'value_2': df['sample_2'].unique()[0]})\n",
    "    df=df.set_index('gene_id')\n",
    "    #### Output\n",
    "    \n",
    "    return df.loc[:,[df['sample_1'].unique()[0],df['sample_2'].unique()[0],'log2(fold_change)','p_value','q_value']]"
   ]
  },
  {
   "cell_type": "code",
   "execution_count": 4,
   "metadata": {
    "collapsed": true
   },
   "outputs": [],
   "source": [
    "def generate_Downregulated_Genes(Input_Path):\n",
    "    #### READ FILE FROM CuffDiff Results\n",
    "    df = pd.read_csv(Input_Path, sep='\\t', header=0, usecols={'gene_id',\\\n",
    "    'status','sample_1','sample_2', 'value_1','value_2','log2(fold_change)','p_value','q_value'})\n",
    "    #### Filter\n",
    "    df=df[\n",
    "    (df['status']=='OK') & (df['q_value']<0.05) & (df['value_1']>=1.0)\\\n",
    "    & (df['log2(fold_change)']< np.log2( 2.0/3.0))\n",
    "    ]\n",
    "    \n",
    "    #### Rearrange Columns\n",
    "    \n",
    "    df=df.rename(columns={'value_1': df['sample_1'].unique()[0], 'value_2': df['sample_2'].unique()[0]})\n",
    "    df=df.set_index('gene_id')\n",
    "    #### Output\n",
    "    return df.loc[:,[df['sample_1'].unique()[0],df['sample_2'].unique()[0],'log2(fold_change)','p_value','q_value']]"
   ]
  },
  {
   "cell_type": "code",
   "execution_count": null,
   "metadata": {
    "collapsed": true
   },
   "outputs": [],
   "source": []
  },
  {
   "cell_type": "code",
   "execution_count": 82,
   "metadata": {
    "collapsed": true
   },
   "outputs": [],
   "source": [
    "#### From CuffDiff Results, generate DEGs and All_Genes in one excel file.\n",
    "\n",
    "#os.makedirs(os.getcwd()+'/genelist/')\n",
    "PATH_FOLDER=os.getcwd()+ '/CuffDiff_Results/'\n",
    "OUT_FOLDER=os.getcwd()+'/genelist/'\n",
    "\n",
    "\n",
    "INPUT_LIST=os.listdir(PATH_FOLDER)\n",
    "writer = pd.ExcelWriter(OUT_FOLDER+'All_genes_DEGs.xlsx', engine='xlsxwriter')\n",
    "\n",
    "i=0\n",
    "for input_name in INPUT_LIST:\n",
    "    INPUT_PATH = PATH_FOLDER+input_name+'/gene_exp.diff'\n",
    "    if (i==0):\n",
    "        df_all=generate_All_Genes(INPUT_PATH,i)\n",
    "        #print(df_all.shape)\n",
    "        i+=1\n",
    "        continue\n",
    "    df_all = df_all.merge(generate_All_Genes(INPUT_PATH,i), on='gene_id', how='inner') \n",
    "    #print ('# of Up:' )\n",
    "    #print(df_all.shape)\n",
    "    i+=1\n",
    "    \n",
    "df_all=df_all.set_index('gene_id')\n",
    "df_all.to_excel(writer, sheet_name='All_Genes')\n",
    "\n",
    "\n",
    "\n",
    "#### Generate INPUT PATH\n",
    "\n",
    "#os.makedirs(os.getcwd()+'/genelist/')\n",
    "PATH_FOLDER=os.getcwd()+ '/CuffDiff_Results/'\n",
    "OUT_FOLDER=os.getcwd()+'/genelist/'\n",
    "\n",
    "\n",
    "INPUT_LIST=os.listdir(PATH_FOLDER)\n",
    "\n",
    "#writer = pd.ExcelWriter(OUT_FOLDER+'All_genes_DEGs.xlsx', engine='xlsxwriter')\n",
    "\n",
    "\n",
    "\n",
    "for input_name in INPUT_LIST:\n",
    "    INPUT_PATH = PATH_FOLDER+input_name+'/gene_exp.diff'\n",
    "    #print ('Library:' + input_name)\n",
    "    df_up = generate_Upregulated_Genes(INPUT_PATH)\n",
    "    df_up.to_excel( writer, sheet_name=input_name)\n",
    "    #print ('# of Up:' )\n",
    "    #print(df_up.shape)\n",
    "    \n",
    "    df_down = generate_Downregulated_Genes(INPUT_PATH)  \n",
    "    df_down.to_excel( writer, sheet_name=input_name)\n",
    "    #print ('# of Down')\n",
    "    #print(df_down.shape)\n",
    "    #print ('')\n",
    "\n",
    "\n",
    "writer.save()"
   ]
  },
  {
   "cell_type": "code",
   "execution_count": 6,
   "metadata": {},
   "outputs": [
    {
     "name": "stdout",
     "output_type": "stream",
     "text": [
      "Library:DKO_0h_vs_WT_0h\n",
      "# of Up:\n",
      "(647, 5)\n",
      "# of Down\n",
      "(704, 5)\n",
      "\n",
      "Library:DKO_72h_vs_DKO_0h\n",
      "# of Up:\n",
      "(1457, 5)\n",
      "# of Down\n",
      "(1025, 5)\n",
      "\n",
      "Library:DKO_72h_vs_WT_72h\n",
      "# of Up:\n",
      "(441, 5)\n",
      "# of Down\n",
      "(749, 5)\n",
      "\n",
      "Library:DKO_CD8_0h_1_2_4n_vs_Ctrl_3n_4n\n",
      "# of Up:\n",
      "(1601, 5)\n",
      "# of Down\n",
      "(1575, 5)\n",
      "\n",
      "Library:WT_72h_vs_WT_0h\n",
      "# of Up:\n",
      "(1812, 5)\n",
      "# of Down\n",
      "(1272, 5)\n",
      "\n"
     ]
    }
   ],
   "source": [
    "#### Generate INPUT PATH\n",
    "\n",
    "#os.makedirs(os.getcwd()+'/genelist/')\n",
    "PATH_FOLDER=os.getcwd()+ '/CuffDiff_Results/'\n",
    "INPUT_LIST=os.listdir(PATH_FOLDER)\n",
    "for input_name in INPUT_LIST:\n",
    "    INPUT_PATH = PATH_FOLDER+input_name+'/gene_exp.diff'\n",
    "    print ('Library:' + input_name)\n",
    "    df_up = generate_Upregulated_Genes(INPUT_PATH)\n",
    "    df_up.to_csv( os.getcwd()+'/genelist/up_'+input_name +'.bed' ,sep='\\t')\n",
    "    print ('# of Up:' )\n",
    "    print(df_up.shape)\n",
    "    \n",
    "    df_down = generate_Downregulated_Genes(INPUT_PATH)  \n",
    "    df_down.to_csv( os.getcwd()+'/genelist/down_'+input_name + '.bed' ,sep='\\t')\n",
    "    print ('# of Down')\n",
    "    print(df_down.shape)\n",
    "    print ('')\n"
   ]
  },
  {
   "cell_type": "code",
   "execution_count": 11,
   "metadata": {},
   "outputs": [
    {
     "name": "stdout",
     "output_type": "stream",
     "text": [
      "(1197, 1)\n"
     ]
    },
    {
     "data": {
      "text/plain": [
       "<matplotlib.text.Text at 0x7f20fdefe050>"
      ]
     },
     "execution_count": 11,
     "metadata": {},
     "output_type": "execute_result"
    },
    {
     "data": {
      "image/png": "[encoded data removed]",
      "text/plain": [
       "<matplotlib.figure.Figure at 0x7f20fdbda890>"
      ]
     },
     "metadata": {},
     "output_type": "display_data"
    }
   ],
   "source": [
    "#### merge into an imported gene_list and plot heat map\n",
    "\n",
    "def Rename_column(Path):\n",
    "    df = pd.read_csv(Path,sep='\\t', header=0, usecols={'gene_id','sample_1','sample_2','value_1','value_2'})\n",
    "    return df.rename(columns={'value_1': df['sample_1'].unique()[0],'value_2': df['sample_2'].unique()[0]})\n",
    "\n",
    "PATH_FOLDER=os.getcwd()+ '/CuffDiff_Results/'\n",
    "INPUT_LIST= ['DKO_CD8_0h_1_2_4n_vs_Ctrl_3n_4n', 'DKO_0h_vs_WT_0h']\n",
    "\n",
    "INPUT_PATH_1 = PATH_FOLDER + INPUT_LIST[0] +'/gene_exp.diff'\n",
    "df1=Rename_column(INPUT_PATH_1)\n",
    "\n",
    "INPUT_PATH_2 = PATH_FOLDER + INPUT_LIST[1] +'/gene_exp.diff'\n",
    "df2=Rename_column(INPUT_PATH_2)\n",
    "df2=df2.rename(columns={'Ctrl-n':'WT_0h', 'dKO-n':'DKO_0h'})\n",
    "\n",
    "\n",
    "RPKM_two_groups=df1.loc[:,['gene_id','Ctrl_3n_4n','DKO_CD8_0h_1_2_4n']].merge(df2.loc[:,['gene_id','WT_0h','DKO_0h']], on='gene_id',how='inner')\n",
    "\n",
    "\n",
    "genelist_name='Only_down_DKO_CD8_0h_1_2_4n_vs_Ctrl_3n_4n'\n",
    "gene_list_path=os.getcwd()+'/Results/Down_Venn/'+genelist_name + '.bed'\n",
    "\n",
    "\n",
    "plot_gene_list=pd.read_csv(gene_list_path)\n",
    "\n",
    "RPKM_two_groups=RPKM_two_groups.merge(plot_gene_list, on='gene_id', how='inner')\n",
    "\n",
    "RPKM_two_groups=RPKM_two_groups.set_index('gene_id')\n",
    "\n",
    "print (plot_gene_list.shape)\n",
    "\n",
    "fig_1 = sns.clustermap( RPKM_two_groups,  yticklabels=False, col_cluster=False,\\\n",
    "z_score=0, cmap=\"RdBu_r\", row_cluster=True) # \n",
    "\n",
    "fig_1.fig.suptitle(genelist_name)\n"
   ]
  },
  {
   "cell_type": "code",
   "execution_count": null,
   "metadata": {
    "collapsed": true
   },
   "outputs": [],
   "source": []
  },
  {
   "cell_type": "code",
   "execution_count": 58,
   "metadata": {},
   "outputs": [
    {
     "name": "stdout",
     "output_type": "stream",
     "text": [
      "(2022, 4)\n",
      "(408, 4)\n"
     ]
    }
   ],
   "source": [
    "#### Generate INPUT PATH\n",
    "\n",
    "PATH_FOLDER=os.getcwd()\n",
    "INPUT_LIST= ['DKO_CD8_0h_1_2_4n_vs_Ctrl_3n_4n', 'DKO_0h_vs_WT_0h']\n",
    "\n",
    "INPUT_PATH = PATH_FOLDER+'/genelist/all_libs/down_'+INPUT_LIST[0] +'.bed'\n",
    "\n",
    "genelist1 = pd.read_csv(INPUT_PATH,sep='\\t')\n",
    "genelist1=genelist1.set_index('gene_id')\n",
    "\n",
    "INPUT_PATH = PATH_FOLDER+'/genelist/all_libs/down_'+INPUT_LIST[1] +'.bed'\n",
    "genelist2 = pd.read_csv(INPUT_PATH,sep='\\t')\n",
    "genelist2 = genelist2.set_index('gene_id')\n",
    "genelist2\n",
    "\n",
    "#genelist1.index.intersection(genelist2.index)\n",
    "\n",
    "genelist2.index.intersection(genelist1.index)\n",
    "#idx1.intersection(idx2)\n",
    "genelist1.iloc[:,[0,1]]\n",
    "genelist2.iloc[:,[0,1]]\n",
    "\n",
    "\n",
    "#### Union\n",
    "genelist_all = genelist1.iloc[:,[0,1]].merge(genelist2.iloc[:,[0,1]],\n",
    "how='outer',left_index=True, right_index=True)\n",
    "\n",
    "print(genelist_all.shape)\n",
    "\n",
    "\n",
    "#### intersection\n",
    "intersection_genelists = pd.DataFrame(index=genelist_all.index)\n",
    "intersection_genelists = intersection_genelists.merge ( genelist1.iloc[:,[0,1]],how='inner',left_index=True, right_index=True)\n",
    "intersection_genelists = intersection_genelists.merge ( genelist2.iloc[:,[0,1]],how='inner',left_index=True, right_index=True)\n",
    "\n",
    "print(intersection_genelists.shape)\n",
    "intersection_genelists.to_csv(os.getcwd()+'/genelist/Overlap_up_genes_'+ '.bed', columns=[],sep='\\t')\n",
    "\n",
    "\n"
   ]
  },
  {
   "cell_type": "code",
   "execution_count": 6,
   "metadata": {},
   "outputs": [
    {
     "name": "stdout",
     "output_type": "stream",
     "text": [
      "(2022, 4)\n",
      "(408, 4)\n"
     ]
    },
    {
     "data": {
      "image/png": "[encoded data removed]",
      "text/plain": [
       "<matplotlib.figure.Figure at 0x7fa5a88f06d0>"
      ]
     },
     "metadata": {},
     "output_type": "display_data"
    },
    {
     "data": {
      "image/png": "[encoded data removed]",
      "text/plain": [
       "<matplotlib.figure.Figure at 0x7fa59ba3ec50>"
      ]
     },
     "metadata": {},
     "output_type": "display_data"
    }
   ],
   "source": [
    "#### Generate INPUT PATH\n",
    "\n",
    "PATH_FOLDER=os.getcwd()\n",
    "INPUT_LIST= ['DKO_CD8_0h_1_2_4n_vs_Ctrl_3n_4n', 'DKO_0h_vs_WT_0h']\n",
    "\n",
    "INPUT_PATH = PATH_FOLDER+'/genelist/down_'+INPUT_LIST[0] +'.bed'\n",
    "\n",
    "genelist1 = pd.read_csv(INPUT_PATH,sep='\\t')\n",
    "genelist1=genelist1.set_index('gene_id')\n",
    "\n",
    "INPUT_PATH = PATH_FOLDER+'/genelist/down_'+INPUT_LIST[1] +'.bed'\n",
    "genelist2 = pd.read_csv(INPUT_PATH,sep='\\t')\n",
    "genelist2 = genelist2.set_index('gene_id')\n",
    "genelist2\n",
    "\n",
    "#genelist1.index.intersection(genelist2.index)\n",
    "\n",
    "genelist2.index.intersection(genelist1.index)\n",
    "#idx1.intersection(idx2)\n",
    "genelist1.iloc[:,[0,1]]\n",
    "genelist2.iloc[:,[0,1]]\n",
    "\n",
    "\n",
    "#### intersection\n",
    "genelist_all = genelist1.iloc[:,[0,1]].merge(genelist2.iloc[:,[0,1]],\n",
    "how='outer',left_index=True, right_index=True)\n",
    "\n",
    "print(genelist_all.shape)\n",
    "\n",
    "\n",
    "#### union\n",
    "union_genelists = pd.DataFrame(index=genelist_all.index)\n",
    "union_genelists = union_genelists.merge ( genelist1.iloc[:,[0,1]],how='inner',left_index=True, right_index=True)\n",
    "union_genelists = union_genelists.merge ( genelist2.iloc[:,[0,1]],how='inner',left_index=True, right_index=True)\n",
    "\n",
    "print(union_genelists.shape)\n",
    "\n",
    "\n",
    "\n",
    "fig_1 = sns.clustermap( np.log1p(np.log1p(genelist_all.dropna().sort_values(by=['Ctrl_3n_4n']))),  yticklabels=False, col_cluster=False,\\\n",
    "z_score=None, cmap=\"RdBu_r\", row_cluster=False) # \n",
    "\n",
    "fig_2 = sns.clustermap( np.log1p(np.log1p(union_genelists.sort_values(by=['Ctrl_3n_4n']))),  yticklabels=False, col_cluster=False,\\\n",
    "z_score=None, cmap=\"RdBu_r\", row_cluster=False) # "
   ]
  },
  {
   "cell_type": "code",
   "execution_count": 18,
   "metadata": {
    "collapsed": true
   },
   "outputs": [],
   "source": [
    "#### Union and find intersection and left only \n",
    "\n",
    "\n",
    "\n",
    "PATH_FOLDER=os.getcwd()\n",
    "Merge_Column='gene_id'\n",
    "INPUT_LIST= ['up_DKO_CD8_0h_1_2_4n_vs_Ctrl_3n_4n', 'up_DKO_0h_vs_WT_0h']\n",
    "INPUT_FILE_A=INPUT_LIST[0]\n",
    "INPUT_FILE_B=INPUT_LIST[1]\n",
    "FILE_TYPE='.bed'\n",
    "\n",
    "INPUT_PATH = PATH_FOLDER+'/genelist/all_libs/'+INPUT_FILE_A +'.bed'\n",
    "df_A = pd.read_csv(INPUT_PATH,sep='\\t')\n",
    "\n",
    "INPUT_PATH = PATH_FOLDER+'/genelist/all_libs/'+INPUT_FILE_B +'.bed'\n",
    "df_B = pd.read_csv(INPUT_PATH,sep='\\t')\n",
    "\n",
    "### Union A and B, use indicator to differentiate them.\n",
    "union_A_B=df_A.loc[:, [Merge_Column]].merge(df_B.loc[:,[Merge_Column]], how='outer', indicator=True)\n",
    "\n",
    "intersection_A_B=union_A_B[union_A_B['_merge']=='both']\n",
    "only_A=union_A_B[union_A_B['_merge']=='left_only']\n",
    "only_B=union_A_B[union_A_B['_merge']=='right_only']\n",
    "\n",
    "\n",
    "INPUT_FOLDER_PATH=os.getcwd()\n",
    "\n",
    "if ( not os.path.isdir(os.getcwd()+'/Results') ):\n",
    "    print \"exist\"\n",
    "    os.mkdir(os.getcwd()+'/Results')\n",
    "#Output\n",
    "intersection_A_B.to_csv(INPUT_FOLDER_PATH+'/Results/Intersection_'+INPUT_FILE_A+'_'+INPUT_FILE_B+FILE_TYPE,index=None, columns=[Merge_Column])\n",
    "only_A.to_csv(INPUT_FOLDER_PATH+'/Results/Only_'+INPUT_FILE_A+FILE_TYPE,index=None, columns=[Merge_Column])\n",
    "only_B.to_csv(INPUT_FOLDER_PATH+'/Results/Only_'+INPUT_FILE_B+FILE_TYPE,index=None, columns=[Merge_Column])\n",
    "union_A_B.to_csv(INPUT_FOLDER_PATH+'/Results/Union_'+INPUT_FILE_A+'_'+INPUT_FILE_B+FILE_TYPE,index=None, columns=[Merge_Column])\n"
   ]
  },
  {
   "cell_type": "code",
   "execution_count": null,
   "metadata": {
    "collapsed": true
   },
   "outputs": [],
   "source": []
  }
 ],
 "metadata": {
  "kernelspec": {
   "display_name": "Python 2",
   "language": "python",
   "name": "python2"
  },
  "language_info": {
   "codemirror_mode": {
    "name": "ipython",
    "version": 2
   },
   "file_extension": ".py",
   "mimetype": "text/x-python",
   "name": "python",
   "nbconvert_exporter": "python",
   "pygments_lexer": "ipython2",
   "version": "2.7.12"
  }
 },
 "nbformat": 4,
 "nbformat_minor": 2
}
