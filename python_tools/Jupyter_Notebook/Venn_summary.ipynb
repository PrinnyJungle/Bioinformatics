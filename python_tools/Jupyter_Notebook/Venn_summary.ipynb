{
 "cells": [
  {
   "cell_type": "markdown",
   "metadata": {},
   "source": [
    "# Venn Diagram for string"
   ]
  },
  {
   "cell_type": "code",
   "execution_count": 1,
   "metadata": {},
   "outputs": [],
   "source": [
    "import numpy as np\n",
    "import pandas as pd\n",
    "import os"
   ]
  },
  {
   "cell_type": "code",
   "execution_count": 2,
   "metadata": {},
   "outputs": [],
   "source": [
    "import matplotlib\n",
    "matplotlib.use('AGG')\n",
    "import matplotlib.pyplot as plt\n",
    "import seaborn as sns\n",
    "sns.set_style(\"white\") \n",
    "\n",
    "# display plots in this notebook\n",
    "%matplotlib inline"
   ]
  },
  {
   "cell_type": "code",
   "execution_count": 3,
   "metadata": {},
   "outputs": [],
   "source": [
    "def Add_common_header(df,common_header):\n",
    "    name_list=[common_header]*len(df.columns)\n",
    "    tuples = list(zip(name_list,df.columns))\n",
    "    df.columns = pd.MultiIndex.from_tuples(tuples)\n",
    "    return df\n",
    "\n",
    "\n",
    "def DIR_CHECK_CREATE(Input_Path):\n",
    "    if (not os.path.isdir(Input_Path)):\n",
    "        print (\"New Dir Made is\" + Input_Path)\n",
    "        os.mkdir(Input_Path)\n",
    "    else: \n",
    "        print ('Dir Exists')"
   ]
  },
  {
   "cell_type": "code",
   "execution_count": 23,
   "metadata": {},
   "outputs": [
    {
     "name": "stdout",
     "output_type": "stream",
     "text": [
      "Dir Exists\n",
      "['/home/lxiang/cloud_research/PengGroup/XLi/Data/Haihui/CD8-HP/DNaseq_seq_RNA_Seq/Macs_diff_Dnaseq/up_up/down_WT_72h_vs_WT_0h.bed', '/home/lxiang/cloud_research/PengGroup/XLi/Data/Haihui/CD8-HP/DNaseq_seq_RNA_Seq/Macs_diff_Dnaseq/up_up/up_WT_72h_vs_WT_0h.bed', '/home/lxiang/cloud_research/PengGroup/XLi/Data/Haihui/CD8-HP/DNaseq_seq_RNA_Seq/Macs_diff_Dnaseq/up_up/genelist_up_ex_50k_diff_WT-s2_vs_WT-na2_c3.0_cond2.bed']\n",
      "down_WT_72h_vs_WT_0h\n",
      "up_WT_72h_vs_WT_0h\n",
      "genelist_up_ex_50k_diff_WT-s2_vs_WT-na2_c3.0_cond2\n"
     ]
    }
   ],
   "source": [
    "#Folder_Name='Up'\n",
    "import glob\n",
    "import fnmatch\n",
    "\n",
    "Folder_Name='up_up/'\n",
    "RAW_PATH=os.getcwd()+'/'+ Folder_Name\n",
    "OUT_PATH=os.getcwd() #+ '/genelist/Venn/Results_' + Folder_Name\n",
    "\n",
    "DIR_CHECK_CREATE(OUT_PATH)\n",
    "#INPUT_LIST=os.listdir(RAW_PATH)\n",
    "FILE_TYPE='bed'\n",
    "Merge_Column='gene_id'\n",
    "#INPUT_LIST[0][-4:]\n",
    "#print('Input File:' )\n",
    "print(glob.glob(RAW_PATH+'*.'+FILE_TYPE))\n",
    "#OUT_PATH=os.getcwd() + '/genelist/Venn/Results_' + Folder_Name\n",
    "\n",
    "union_all   = pd.DataFrame(columns={Merge_Column})\n",
    "column_name_list = []\n",
    "for path in glob.glob(RAW_PATH+'*.'+FILE_TYPE):\n",
    "    #print path\n",
    "    df_tem = pd.read_csv(path,sep='\\t', usecols=[Merge_Column])\n",
    "    col_name_tem = path.replace(RAW_PATH,'')[:-4]\n",
    "    df_tem[col_name_tem]=1\n",
    "    column_name_lis\n",
    "    t.append(col_name_tem)\n",
    "    union_all = union_all.merge(df_tem, how='outer', on=Merge_Column)\n",
    "union_all.fillna(0, inplace=True)\n",
    "\n",
    "for i in range(len(column_name_list)):\n",
    "    print column_name_list[i]"
   ]
  },
  {
   "cell_type": "code",
   "execution_count": 45,
   "metadata": {},
   "outputs": [],
   "source": [
    "def Generate_Venn_Diagram(Raw_Path, Out_Path, Merge_Column):\n",
    "    from matplotlib_venn import venn2\n",
    "    \n",
    "    DIR_CHECK_CREATE(Raw_Path)\n",
    "    DIR_CHECK_CREATE(Out_Path)\n",
    "    Merge_Column='gene_id'\n",
    "    \n",
    "    INPUT_LIST=os.listdir(RAW_PATH)\n",
    "    FILE_TYPE=INPUT_LIST[0][-4:]\n",
    "    print('Input File: ' )\n",
    "    print(INPUT_LIST)\n",
    "    \n",
    "    if len(INPUT_LIST) == 2:\n",
    "        print ('Input Two, Continue.')\n",
    "        PATH_A = RAW_PATH + '/' +INPUT_LIST[0]\n",
    "        PATH_B = RAW_PATH + '/' +INPUT_LIST[1]\n",
    "\n",
    "        df_A = pd.read_csv(PATH_A,sep='\\t')\n",
    "        df_B = pd.read_csv(PATH_B,sep='\\t')\n",
    "\n",
    "        ### Union A and B, use indicator to differentiate them.\n",
    "        union_A_B=df_A.loc[:, [Merge_Column]].merge(df_B.loc[:,[Merge_Column]], how='outer', indicator=True)\n",
    "\n",
    "        intersection_A_B=union_A_B[union_A_B['_merge']=='both']\n",
    "        only_A=union_A_B[union_A_B['_merge']=='left_only']\n",
    "        only_B=union_A_B[union_A_B['_merge']=='right_only']\n",
    "\n",
    "        #Output\n",
    "        intersection_A_B.to_csv(OUT_PATH+'/Intersection_'+INPUT_LIST[0][:-4]+'_'+INPUT_LIST[1][:-4]+FILE_TYPE,index=None, columns=[Merge_Column])\n",
    "        only_A.to_csv(OUT_PATH+'/Only_'+INPUT_LIST[0][:-4]+FILE_TYPE,index=None, columns=[Merge_Column])\n",
    "        only_B.to_csv(OUT_PATH+'/Only_'+INPUT_LIST[1][:-4]+FILE_TYPE,index=None, columns=[Merge_Column])\n",
    "        union_A_B.to_csv(OUT_PATH+'/Union_'+INPUT_LIST[0][:-4]+'_'+INPUT_LIST[1][:-4]+FILE_TYPE,index=None, columns=[Merge_Column])\n",
    "    else:\n",
    "        print('Error!')\n",
    "        print('Input '+str(len(INPUT_LIST))+ ' Files')\n",
    "\n",
    "\n",
    "    out = venn2(subsets=(len(only_A[Merge_Column]), len(only_B[Merge_Column]), len(intersection_A_B[Merge_Column])),\n",
    "          set_labels=(INPUT_LIST[0][:-4], INPUT_LIST[1][:-4] ) )\n",
    "    for text in out.subset_labels:\n",
    "        text.set_fontsize(18)\n",
    "    plt.show()\n",
    "    \n",
    "def Generate_Venn3_Diagram(Raw_Path, Out_Path, Merge_Column):\n",
    "    from matplotlib_venn import venn3, venn3_circles\n",
    "    \n",
    "    DIR_CHECK_CREATE(Raw_Path)\n",
    "    DIR_CHECK_CREATE(Out_Path)\n",
    "    Merge_Column='gene_id'\n",
    "    \n",
    "    INPUT_LIST=os.listdir(RAW_PATH)\n",
    "    FILE_TYPE=INPUT_LIST[0][-4:]\n",
    "    print('Input File: ' )\n",
    "    print(INPUT_LIST)\n",
    "    \n",
    "    if len(INPUT_LIST) == 3:\n",
    "        print ('Input Three, Continue.')\n",
    "        PATH_A = RAW_PATH + '/' +INPUT_LIST[0]\n",
    "        PATH_B = RAW_PATH + '/' +INPUT_LIST[1]\n",
    "        PATH_C = RAW_PATH + '/' +INPUT_LIST[2]\n",
    "\n",
    "        ConA=INPUT_LIST[0][:-4]\n",
    "        ConB=INPUT_LIST[1][:-4]\n",
    "        ConC=INPUT_LIST[2][:-4]\n",
    "\n",
    "        df_A = pd.read_csv(PATH_A,sep='\\t')\n",
    "        df_B = pd.read_csv(PATH_B,sep='\\t')\n",
    "        df_C = pd.read_csv(PATH_C,sep='\\t')\n",
    "\n",
    "        Merge_Column='gene_id'\n",
    "\n",
    "        union_A_B_C = df_C.loc[:, [Merge_Column]].merge( df_A.loc[:, [Merge_Column]].merge(df_B.loc[:,[Merge_Column]], how='outer'), how='outer')\n",
    "\n",
    "        intersection_metrix=np.zeros( (len(union_A_B_C),3), dtype=int)\n",
    "\n",
    "\n",
    "        for j in range(len(union_A_B_C)):\n",
    "            if (union_A_B_C.loc[j,'gene_id'] in df_A.loc[:,'gene_id']):\n",
    "                intersection_metrix[j,0] == 1\n",
    "            if (union_A_B_C.loc[j,'gene_id'] in df_B.loc[:,'gene_id']):\n",
    "                intersection_metrix[j,1] == 1\n",
    "            if (union_A_B_C.loc[j,'gene_id'] in df_C.loc[:,'gene_id']):\n",
    "                intersection_metrix[j,2] == 1\n",
    "\n",
    "        intersection_metrix = pd.DataFrame(union_A_B_C['gene_id'].isin(df_A['gene_id']))\n",
    "        intersection_metrix = pd.concat([intersection_metrix.rename(columns={'gene_id':ConA}),union_A_B_C['gene_id'].isin(df_B['gene_id'])], axis=1, join='inner')\n",
    "        intersection_metrix = pd.concat([intersection_metrix.rename(columns={'gene_id':ConB}),union_A_B_C['gene_id'].isin(df_C['gene_id'])], axis=1, join='inner')\n",
    "        intersection_metrix = intersection_metrix.rename(columns={'gene_id':ConC})\n",
    "\n",
    "        intersection_metrix = intersection_metrix*1\n",
    "\n",
    "\n",
    "        intersection_metrix ['ABC'] = intersection_metrix.iloc[:,0]+intersection_metrix.iloc[:,1]+intersection_metrix.iloc[:,2]\n",
    "        intersection_metrix ['AB'] = intersection_metrix.iloc[:,0]+intersection_metrix.iloc[:,1]\n",
    "        intersection_metrix ['AC'] = intersection_metrix.iloc[:,0]+intersection_metrix.iloc[:,2]\n",
    "        intersection_metrix ['BC'] = intersection_metrix.iloc[:,1]+intersection_metrix.iloc[:,2]\n",
    "        #intersection_metrix\n",
    "        ABC = len(intersection_metrix[intersection_metrix['ABC']==3])\n",
    "        AB = len(intersection_metrix[intersection_metrix['AB']==2])   -ABC\n",
    "        BC = len(intersection_metrix[(intersection_metrix['BC']==2)]) -ABC\n",
    "        AC = len(intersection_metrix[(intersection_metrix['AC']==2)]) -ABC\n",
    "\n",
    "        A_solo = len(df_A) - ABC - AC - AB \n",
    "        B_solo = len(df_B) - ABC - BC - AB \n",
    "        C_solo = len(df_C) - ABC - AC - BC\n",
    "        print (A_solo, B_solo, AB, C_solo, AC, BC, ABC)\n",
    "    else:\n",
    "        print('Error!')\n",
    "        print('Input '+str(len(INPUT_LIST))+ ' Files')\n",
    "        \n",
    "    fig, ax = plt.subplots(nrows=1,ncols=1, figsize=(8,8))\n",
    "    out = venn3(subsets = (A_solo, B_solo, AB, C_solo, AC, BC, ABC), set_labels = (ConA, ConB, ConC))\n",
    "    for text in out.subset_labels:\n",
    "        if text == None:\n",
    "            continue\n",
    "        text.set_fontsize(18)\n",
    "    "
   ]
  },
  {
   "cell_type": "code",
   "execution_count": 46,
   "metadata": {},
   "outputs": [
    {
     "name": "stdout",
     "output_type": "stream",
     "text": [
      "Dir Exists\n",
      "Dir Exists\n",
      "Input File: \n",
      "['genelist_up_ex_50k_diff_WT-s2_vs_WT-na2_c3.0_cond1.bed', 'down_WT_72h_vs_WT_0h.bed', 'up_WT_72h_vs_WT_0h.bed']\n",
      "Input Three, Continue.\n",
      "(126, 491, 2, 947, 7, 0, 0)\n"
     ]
    },
    {
     "data": {
      "image/png": "[encoded data removed]",
      "text/plain": [
       "<Figure size 576x576 with 1 Axes>"
      ]
     },
     "metadata": {},
     "output_type": "display_data"
    }
   ],
   "source": [
    "Folder_Name='up_up'\n",
    "RAW_PATH=os.getcwd()+'/'+ Folder_Name\n",
    "OUT_PATH=os.getcwd() #+ '/genelist/Venn/Results_' + Folder_Name\n",
    "\n",
    "Generate_Venn3_Diagram(RAW_PATH, OUT_PATH, 'gene_id')"
   ]
  }
 ],
 "metadata": {
  "kernelspec": {
   "display_name": "Python 2",
   "language": "python",
   "name": "python2"
  },
  "language_info": {
   "codemirror_mode": {
    "name": "ipython",
    "version": 2
   },
   "file_extension": ".py",
   "mimetype": "text/x-python",
   "name": "python",
   "nbconvert_exporter": "python",
   "pygments_lexer": "ipython2",
   "version": "2.7.6"
  }
 },
 "nbformat": 4,
 "nbformat_minor": 2
}
