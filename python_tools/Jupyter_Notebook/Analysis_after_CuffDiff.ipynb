{
 "cells": [
  {
   "cell_type": "markdown",
   "metadata": {},
   "source": [
    "## CuffDiff Summary\n",
    "### Author: Xiang Li\n",
    "\n"
   ]
  },
  {
   "cell_type": "code",
   "execution_count": 1,
   "metadata": {},
   "outputs": [],
   "source": [
    "import numpy as np\n",
    "import pandas as pd\n",
    "import os"
   ]
  },
  {
   "cell_type": "code",
   "execution_count": 2,
   "metadata": {},
   "outputs": [],
   "source": [
    "# For any input of /gene_exp.diff, return its All genes with\n",
    "### gene_id, cond1, cond2, log2(fold_change), p_value, plus a number of order.\n",
    "def generate_All_Genes(Input_Path, number):\n",
    "#### READ FILE\n",
    "    df = pd.read_csv(Input_Path+'/gene_exp.diff', sep='\\t', header=0, usecols={'test_id',\\\n",
    "    'status','sample_1','sample_2','value_1','value_2','log2(fold_change)','p_value','q_value'})\n",
    "#### Rename columns\n",
    "    df=df.rename(columns={'test_id':'gene_id', 'value_1': df['sample_1'].unique()[0], 'value_2': df['sample_2'].unique()[0]})\n",
    "#### Output   \n",
    "    return df.loc[:,['gene_id',df['sample_1'].unique()[0],df['sample_2'].unique()[0],'log2(fold_change)',\n",
    "                     'p_value','q_value', 'End_'+str(number), '||']].fillna('')\n",
    "####################################################################################\n",
    "\n",
    "## DEGS\n",
    "\n",
    "### For any input of /gene_exp.diff, return its up_DEGs genes with\n",
    "### gene_id, cond1, cond2, log2(fold_change), p_value, plus a number of order.\n",
    "### Parameters for DEGs:\n",
    "FC_UP=2.0\n",
    "q_value_less=0.05\n",
    "FPKM_threshold=1.0\n",
    "####################################################################################\n",
    "\n",
    "\n",
    "def generate_Upregulated_Genes(Input_Path):\n",
    "#### READ FILE\n",
    "    df = pd.read_csv(Input_Path+'/gene_exp.diff', sep='\\t', header=0, usecols={'test_id',\\\n",
    "    'status','sample_1','sample_2', 'value_1','value_2','log2(fold_change)','p_value','q_value'})\n",
    "#### Filter\n",
    "    df=df[(df['status']=='OK') & (df['q_value']<=q_value_less) & (df['value_2']>=FPKM_threshold) & (df['log2(fold_change)'] >= np.log2(FC_UP))]\n",
    "#### Rearrange Columns\n",
    "    df=df.rename(columns={'test_id':'gene_id','value_1': df['sample_1'].unique()[0], 'value_2': df['sample_2'].unique()[0]})\n",
    "#### Output\n",
    "    return df.loc[:,['gene_id', df['sample_1'].unique()[0],df['sample_2'].unique()[0],'log2(fold_change)','p_value','q_value']]\n",
    "####################################################################################\n",
    "\n",
    "def generate_Downregulated_Genes(Input_Path):\n",
    "#### READ FILE FROM CuffDiff Results\n",
    "    df = pd.read_csv(Input_Path+'/gene_exp.diff', sep='\\t', header=0, usecols={'test_id',\\\n",
    "    'status','sample_1','sample_2', 'value_1','value_2','log2(fold_change)','p_value','q_value'})\n",
    "#### Filter\n",
    "    df=df[(df['status']=='OK') & (df['q_value']<=q_value_less) & (df['value_1']>=FPKM_threshold) & (df['log2(fold_change)']<= -np.log2(FC_UP))]   \n",
    "#### Rearrange Columns\n",
    "    df=df.rename(columns={'test_id':'gene_id','value_1': df['sample_1'].unique()[0], 'value_2': df['sample_2'].unique()[0]})\n",
    "#### Output\n",
    "    return df.loc[:,['gene_id', df['sample_1'].unique()[0],df['sample_2'].unique()[0],'log2(fold_change)','p_value','q_value']]\n",
    "\n",
    "\n",
    "#### Functions to read /genes.read_group_tracking and output FPKM\n",
    "def generate_genes_FPKM_df(Input_Path):\n",
    "    df = pd.read_csv(INPUT_PATH+'/genes.read_group_tracking', sep='\\t', header=0)\n",
    "    FPKM_df = None\n",
    "    for cond in df['condition'].unique():\n",
    "        for replica in df[df['condition'] == cond]['replicate'].unique():\n",
    "            #print (cond, replica)\n",
    "            temp_df = (df[ (df['condition'] == cond) & (df['replicate'] == replica)].loc[:,['tracking_id', 'FPKM']])\n",
    "            cond_name= cond+'_'+str(replica)\n",
    "            temp_df.rename(columns={'tracking_id': 'gene_id', 'FPKM': cond_name }, inplace=True)\n",
    "            if FPKM_df is None:\n",
    "                FPKM_df\n",
    "                FPKM_df = temp_df  \n",
    "            else:\n",
    "                FPKM_df = FPKM_df.merge(temp_df, on='gene_id', how='outer', suffixes=('','_'))\n",
    "    return FPKM_df\n",
    "\n",
    "def Add_common_header(df,common_header):\n",
    "    name_list=[common_header]*len(df.columns)\n",
    "    tuples = list(zip(name_list,df.columns))\n",
    "    df.columns = pd.MultiIndex.from_tuples(tuples)\n",
    "    return df\n",
    "\n",
    "\n",
    "def DIR_CHECK_CREATE(Input_Path):\n",
    "    if (not os.path.isdir(Input_Path)):\n",
    "        print (\"New Dir Made is\" + Input_Path)\n",
    "        os.mkdir(Input_Path)\n",
    "    else: \n",
    "        print ('Dir Exists')"
   ]
  },
  {
   "cell_type": "markdown",
   "metadata": {},
   "source": [
    "## Generate Excel file contains all genes, and DEGs. "
   ]
  },
  {
   "cell_type": "code",
   "execution_count": 3,
   "metadata": {
    "scrolled": false
   },
   "outputs": [
    {
     "name": "stdout",
     "output_type": "stream",
     "text": [
      "Dir Exists\n",
      "Dir Exists\n"
     ]
    },
    {
     "name": "stderr",
     "output_type": "stream",
     "text": [
      "/usr/local/lib/python2.7/dist-packages/pandas/core/indexing.py:1472: FutureWarning: \n",
      "Passing list-likes to .loc or [] with any missing label will raise\n",
      "KeyError in the future, you can use .reindex() as an alternative.\n",
      "\n",
      "See the documentation here:\n",
      "https://pandas.pydata.org/pandas-docs/stable/indexing.html#deprecate-loc-reindex-listlike\n",
      "  return self._getitem_tuple(key)\n"
     ]
    },
    {
     "name": "stdout",
     "output_type": "stream",
     "text": [
      "Library:Eed_KO_vs_Eed_WT\n",
      "# of Up:\n",
      "(131, 12)\n",
      "# of Down\n",
      "(32, 12)\n",
      "\n",
      "Library:Hdac12_KO_vs_Hdac12_WT\n",
      "# of Up:\n",
      "(202, 13)\n",
      "# of Down\n",
      "(274, 13)\n",
      "\n",
      "Total Number of DEGs is:545\n"
     ]
    }
   ],
   "source": [
    "PATH_FOLDER=os.getcwd()+ '/CuffDiff_Results/'\n",
    "OUT_FOLDER=os.getcwd()+'/genelist/'\n",
    "\n",
    "DIR_CHECK_CREATE(PATH_FOLDER)\n",
    "DIR_CHECK_CREATE(OUT_FOLDER)\n",
    "\n",
    "\n",
    "INPUT_LIST=os.listdir(PATH_FOLDER)\n",
    "writer = pd.ExcelWriter(OUT_FOLDER+'Treg_Eed_Hdac12_CuffDiff_Summary201901.xlsx', engine='xlsxwriter')\n",
    "\n",
    "i=0\n",
    "for input_name in INPUT_LIST[:]:\n",
    "    INPUT_PATH = PATH_FOLDER+input_name\n",
    "    if (i==0):\n",
    "        df_all=generate_genes_FPKM_df(INPUT_PATH)\n",
    "        df_all[input_name]=''\n",
    "        df_all = df_all.merge(generate_All_Genes(INPUT_PATH,i+1), on='gene_id', how='inner', suffixes=('','_')) \n",
    "        i+=1\n",
    "        continue\n",
    "    df_all = df_all.merge(generate_genes_FPKM_df(INPUT_PATH), on='gene_id', how='inner', suffixes=('','_'))\n",
    "    df_all[input_name]=''\n",
    "    df_all = df_all.merge(generate_All_Genes(INPUT_PATH,i+1), on='gene_id', how='inner', suffixes=('','_')) \n",
    "    \n",
    "    i+=1\n",
    "df_all.to_excel(writer, sheet_name='All_Genes', index=None)\n",
    "\n",
    "\n",
    "\n",
    "###### Generating a DEGs list in the last.\n",
    "DEGs_List=pd.DataFrame([],columns=['gene_id'])\n",
    "\n",
    "\n",
    "for input_name in INPUT_LIST:\n",
    "    INPUT_PATH = PATH_FOLDER+input_name\n",
    "    print ('Library:' + input_name)\n",
    "    df_up = generate_genes_FPKM_df(INPUT_PATH)\n",
    "    df_up[input_name]=''\n",
    "    df_up = df_up.merge(generate_Upregulated_Genes(INPUT_PATH), on='gene_id', how='inner', suffixes=('','_'))\n",
    "    df_up.to_excel( writer, sheet_name='up_'+input_name, index=None)\n",
    "    \n",
    "    DEGs_List=pd.concat([DEGs_List,df_up[['gene_id']]])\n",
    "    print ('# of Up:' )\n",
    "    print(df_up.shape)\n",
    "    \n",
    "    df_down = generate_genes_FPKM_df(INPUT_PATH)\n",
    "    df_down[input_name]=''\n",
    "    df_down = df_down.merge(generate_Downregulated_Genes(INPUT_PATH), on='gene_id', how='inner', suffixes=('','_')) \n",
    "    df_down.to_excel( writer, sheet_name='down_'+input_name,index=None)\n",
    "    DEGs_List=pd.concat([DEGs_List,df_down[['gene_id']]])\n",
    "    print ('# of Down')\n",
    "    print(df_down.shape)\n",
    "    print ('')\n",
    "\n",
    "print (\"Total Number of DEGs is:\" + str(len(DEGs_List['gene_id'].unique())))\n",
    "\n",
    "DEGs_List = pd.DataFrame( list(DEGs_List['gene_id'].unique()), columns=['gene_id'])\n",
    "DEGs_List.to_excel( writer, sheet_name='Union_DGEs_List',index=None)\n",
    "\n",
    "writer.save()"
   ]
  },
  {
   "cell_type": "code",
   "execution_count": 11,
   "metadata": {},
   "outputs": [
    {
     "name": "stdout",
     "output_type": "stream",
     "text": [
      "Library:Eed_KO_vs_Eed_WT\n",
      "# of Up:\n",
      "(131, 6)\n",
      "# of Down\n",
      "(32, 6)\n",
      "\n",
      "Library:Hdac12_KO_vs_Hdac12_WT\n",
      "# of Up:\n",
      "(202, 6)\n",
      "# of Down\n",
      "(274, 6)\n",
      "\n"
     ]
    }
   ],
   "source": [
    "#### Generate DEGs Seperately\n",
    "#os.makedirs(os.getcwd()+'/genelist/')\n",
    "PATH_FOLDER=os.getcwd()+ '/CuffDiff_Results/'\n",
    "INPUT_LIST=os.listdir(PATH_FOLDER)\n",
    "for input_name in INPUT_LIST:\n",
    "    INPUT_PATH = PATH_FOLDER+input_name\n",
    "    print ('Library:' + input_name)\n",
    "    df_up = generate_Upregulated_Genes(INPUT_PATH)\n",
    "    df_up.to_csv( os.getcwd()+'/genelist/up_'+input_name +'.bed' ,sep='\\t')\n",
    "    print ('# of Up:' )\n",
    "    print(df_up.shape)\n",
    "    \n",
    "    df_down = generate_Downregulated_Genes(INPUT_PATH)  \n",
    "    df_down.to_csv( os.getcwd()+'/genelist/down_'+input_name + '.bed' ,sep='\\t')\n",
    "    print ('# of Down')\n",
    "    print(df_down.shape)\n",
    "    print ('')\n"
   ]
  },
  {
   "cell_type": "markdown",
   "metadata": {},
   "source": [
    "### Test output Results"
   ]
  },
  {
   "cell_type": "code",
   "execution_count": 21,
   "metadata": {},
   "outputs": [],
   "source": [
    "df_all=generate_genes_FPKM_df(INPUT_PATH)\n",
    "#df_down = generate_genes_FPKM_df(INPUT_PATH)\n",
    "#df_down[df_down['gene_id']=='Rnaset2a,Rnaset2b']\n",
    "df_all = df_all.set_index('gene_id')"
   ]
  },
  {
   "cell_type": "markdown",
   "metadata": {},
   "source": [
    "#### ALL DEGs Generating"
   ]
  },
  {
   "cell_type": "code",
   "execution_count": 4,
   "metadata": {},
   "outputs": [
    {
     "data": {
      "text/plain": [
       "['Eed_KO_vs_Eed_WT', 'Hdac12_KO_vs_Hdac12_WT']"
      ]
     },
     "execution_count": 4,
     "metadata": {},
     "output_type": "execute_result"
    }
   ],
   "source": [
    "INPUT_LIST"
   ]
  },
  {
   "cell_type": "code",
   "execution_count": 5,
   "metadata": {
    "scrolled": false
   },
   "outputs": [
    {
     "name": "stdout",
     "output_type": "stream",
     "text": [
      "Dir Exists\n",
      "Library:Eed_KO_vs_Eed_WT\n",
      "Library:Hdac12_KO_vs_Hdac12_WT\n",
      "# of DEGs:\n",
      "(545, 12)\n"
     ]
    }
   ],
   "source": [
    "####Generating  FPKM of all DEGs replicates\n",
    "DIR_CHECK_CREATE(os.getcwd()+'/genelist/')\n",
    "PATH_FOLDER=os.getcwd()+ '/CuffDiff_Results/'\n",
    "INPUT_LIST=os.listdir(PATH_FOLDER)\n",
    "\n",
    "DEGs_INPUT_LIST=[INPUT_LIST[0],INPUT_LIST[1]]\n",
    "DEGs_INPUT_LIST=INPUT_LIST\n",
    "\n",
    "#DEGs_List\n",
    "df_ALL_DEGs=DEGs_List\n",
    "\n",
    "for input_name in DEGs_INPUT_LIST:\n",
    "    INPUT_PATH = PATH_FOLDER+input_name\n",
    "    print ('Library:' + input_name)\n",
    "    df_ALL_DEGs = df_ALL_DEGs.merge(generate_genes_FPKM_df(INPUT_PATH), on='gene_id',how='inner')\n",
    "\n",
    "\n",
    "\n",
    "print ('# of DEGs:' )\n",
    "print(df_ALL_DEGs.shape)\n",
    "df_ALL_DEGs=df_ALL_DEGs.set_index('gene_id')\n"
   ]
  },
  {
   "cell_type": "markdown",
   "metadata": {},
   "source": [
    "## From above we can continue using:\n",
    "# \"df_ALL_DEGs\" for plot"
   ]
  },
  {
   "cell_type": "markdown",
   "metadata": {},
   "source": [
    "# Plot Part"
   ]
  },
  {
   "cell_type": "code",
   "execution_count": 6,
   "metadata": {},
   "outputs": [],
   "source": [
    "import matplotlib\n",
    "matplotlib.use('AGG')\n",
    "import matplotlib.pyplot as plt\n",
    "import seaborn as sns\n",
    "sns.set_style(\"white\") \n",
    "\n",
    "# display plots in this notebook\n",
    "%matplotlib inline"
   ]
  },
  {
   "cell_type": "markdown",
   "metadata": {},
   "source": [
    "# Venn 2 and 3D"
   ]
  },
  {
   "cell_type": "code",
   "execution_count": 5,
   "metadata": {
    "collapsed": true
   },
   "outputs": [],
   "source": [
    "def Generate_Venn_Diagram(Raw_Path, Out_Path, Merge_Column):\n",
    "    from matplotlib_venn import venn2\n",
    "    \n",
    "    DIR_CHECK_CREATE(Raw_Path)\n",
    "    DIR_CHECK_CREATE(Out_Path)\n",
    "    Merge_Column='gene_id'\n",
    "    \n",
    "    INPUT_LIST=os.listdir(RAW_PATH)\n",
    "    FILE_TYPE=INPUT_LIST[0][-4:]\n",
    "    print('Input File: ' )\n",
    "    print(INPUT_LIST)\n",
    "    \n",
    "    if len(INPUT_LIST) == 2:\n",
    "        print ('Input Two, Continue.')\n",
    "        PATH_A = RAW_PATH + '/' +INPUT_LIST[0]\n",
    "        PATH_B = RAW_PATH + '/' +INPUT_LIST[1]\n",
    "\n",
    "        df_A = pd.read_csv(PATH_A,sep='\\t')\n",
    "        df_B = pd.read_csv(PATH_B,sep='\\t')\n",
    "\n",
    "        ### Union A and B, use indicator to differentiate them.\n",
    "        union_A_B=df_A.loc[:, [Merge_Column]].merge(df_B.loc[:,[Merge_Column]], how='outer', indicator=True)\n",
    "\n",
    "        intersection_A_B=union_A_B[union_A_B['_merge']=='both']\n",
    "        only_A=union_A_B[union_A_B['_merge']=='left_only']\n",
    "        only_B=union_A_B[union_A_B['_merge']=='right_only']\n",
    "\n",
    "        #Output\n",
    "        intersection_A_B.to_csv(OUT_PATH+'/Intersection_'+INPUT_LIST[0][:-4]+'_'+INPUT_LIST[1][:-4]+FILE_TYPE,index=None, columns=[Merge_Column])\n",
    "        only_A.to_csv(OUT_PATH+'/Only_'+INPUT_LIST[0][:-4]+FILE_TYPE,index=None, columns=[Merge_Column])\n",
    "        only_B.to_csv(OUT_PATH+'/Only_'+INPUT_LIST[1][:-4]+FILE_TYPE,index=None, columns=[Merge_Column])\n",
    "        union_A_B.to_csv(OUT_PATH+'/Union_'+INPUT_LIST[0][:-4]+'_'+INPUT_LIST[1][:-4]+FILE_TYPE,index=None, columns=[Merge_Column])\n",
    "    else:\n",
    "        print('Error!')\n",
    "        print('Input '+str(len(INPUT_LIST))+ ' Files')\n",
    "\n",
    "\n",
    "    out = venn2(subsets=(len(only_A[Merge_Column]), len(only_B[Merge_Column]), len(intersection_A_B[Merge_Column])),\n",
    "          set_labels=(INPUT_LIST[0][:-4], INPUT_LIST[1][:-4] ) )\n",
    "    for text in out.subset_labels:\n",
    "        text.set_fontsize(18)\n",
    "    plt.show()\n",
    "    \n",
    "def Generate_Venn3_Diagram(Raw_Path, Out_Path, Merge_Column):\n",
    "    from matplotlib_venn import venn3, venn3_circles\n",
    "    \n",
    "    DIR_CHECK_CREATE(Raw_Path)\n",
    "    DIR_CHECK_CREATE(Out_Path)\n",
    "    Merge_Column='gene_id'\n",
    "    \n",
    "    INPUT_LIST=os.listdir(RAW_PATH)\n",
    "    FILE_TYPE=INPUT_LIST[0][-4:]\n",
    "    print('Input File: ' )\n",
    "    print(INPUT_LIST)\n",
    "    \n",
    "    if len(INPUT_LIST) == 3:\n",
    "        print ('Input Three, Continue.')\n",
    "        PATATH_A = RAW_PATH + '/' +INPUT_LIST[0]\n",
    "        PATH_B = RAW_PATH + '/' +INPUT_LIST[1]\n",
    "        PATH_C = RAW_PATH + '/' +INPUT_LIST[2]\n",
    "\n",
    "        ConA=INPUT_LIST[0][:-4]\n",
    "        ConB=INPUT_LIST[1][:-4]\n",
    "        ConC=INPUT_LIST[2][:-4]\n",
    "\n",
    "        df_A = pd.read_csv(PATH_A,sep='\\t')\n",
    "        df_B = pd.read_csv(PATH_B,sep='\\t')\n",
    "        df_C = pd.read_csv(PATH_C,sep='\\t')\n",
    "\n",
    "        Merge_Column='gene_id'\n",
    "\n",
    "        union_A_B_C = df_C.loc[:, [Merge_Column]].merge( df_A.loc[:, [Merge_Column]].merge(df_B.loc[:,[Merge_Column]], how='outer'), how='outer')\n",
    "\n",
    "        intersection_metrix=np.zeros( (len(union_A_B_C),3), dtype=int)\n",
    "\n",
    "\n",
    "        for j in range(len(union_A_B_C)):\n",
    "            if (union_A_B_C.loc[j,'gene_id'] in df_A.loc[:,'gene_id']):\n",
    "                intersection_metrix[j,0] == 1\n",
    "            if (union_A_B_C.loc[j,'gene_id'] in df_B.loc[:,'gene_id']):\n",
    "                intersection_metrix[j,1] == 1\n",
    "            if (union_A_B_C.loc[j,'gene_id'] in df_C.loc[:,'gene_id']):\n",
    "                intersection_metrix[j,2] == 1\n",
    "\n",
    "        intersection_metrix = pd.DataFrame(union_A_B_C['gene_id'].isin(df_A['gene_id']))\n",
    "        intersection_metrix = pd.concat([intersection_metrix.rename(columns={'gene_id':ConA}),union_A_B_C['gene_id'].isin(df_B['gene_id'])], axis=1, join='inner')\n",
    "        intersection_metrix = pd.concat([intersection_metrix.rename(columns={'gene_id':ConB}),union_A_B_C['gene_id'].isin(df_C['gene_id'])], axis=1, join='inner')\n",
    "        intersection_metrix = intersection_metrix.rename(columns={'gene_id':ConC})\n",
    "\n",
    "        intersection_metrix = intersection_metrix*1\n",
    "\n",
    "\n",
    "        intersection_metrix ['ABC'] = intersection_metrix.iloc[:,0]+intersection_metrix.iloc[:,1]+intersection_metrix.iloc[:,2]\n",
    "        intersection_metrix ['AB'] = intersection_metrix.iloc[:,0]+intersection_metrix.iloc[:,1]\n",
    "        intersection_metrix ['AC'] = intersection_metrix.iloc[:,0]+intersection_metrix.iloc[:,2]\n",
    "        intersection_metrix ['BC'] = intersection_metrix.iloc[:,1]+intersection_metrix.iloc[:,2]\n",
    "        #intersection_metrix\n",
    "        ABC = len(intersection_metrix[intersection_metrix['ABC']==3])\n",
    "        AB = len(intersection_metrix[intersection_metrix['AB']==2])   -ABC\n",
    "        BC = len(intersection_metrix[(intersection_metrix['BC']==2)]) -ABC\n",
    "        AC = len(intersection_metrix[(intersection_metrix['AC']==2)]) -ABC\n",
    "\n",
    "        A_solo = len(df_A) - ABC - AC - AB \n",
    "        B_solo = len(df_B) - ABC - BC - AB \n",
    "        C_solo = len(df_C) - ABC - AC - BC\n",
    "    else:\n",
    "        print('Error!')\n",
    "        print('Input '+str(len(INPUT_LIST))+ ' Files')\n",
    "        \n",
    "    fig, ax = plt.subplots(nrows=1,ncols=1, figsize=(8,8))\n",
    "    out = venn3(subsets = (A_solo, B_solo, AB, C_solo, AC, BC,ABC), \\\n",
    "    set_labels = (ConA, ConB, ConC))\n",
    "    for text in out.subset_labels:\n",
    "        text.set_fontsize(18)\n",
    "\n"
   ]
  },
  {
   "cell_type": "code",
   "execution_count": null,
   "metadata": {},
   "outputs": [],
   "source": [
    "Folder_Name='Down'\n",
    "RAW_PATH=os.getcwd() + '/genelist/Venn/' + Folder_Name\n",
    "OUT_PATH=os.getcwd() + '/genelist/Venn/Results_' + Folder_Name\n",
    "\n",
    "Generate_Venn3_Diagram(RAW_PATH, OUT_PATH, 'gene_id')"
   ]
  },
  {
   "cell_type": "code",
   "execution_count": 14,
   "metadata": {},
   "outputs": [
    {
     "name": "stdout",
     "output_type": "stream",
     "text": [
      "Dir Exists\n",
      "Dir Exists\n",
      "Input File: \n",
      "['up_DKO_0h_vs_WT_0h.bed', 'Up_DKO_CD8_0h_over_WT_CD8_0h_ZZ.bed']\n",
      "Input Two, Continue.\n"
     ]
    },
    {
     "data": {
      "image/png": "[encoded data removed]",
      "text/plain": [
       "<Figure size 432x288 with 1 Axes>"
      ]
     },
     "metadata": {},
     "output_type": "display_data"
    }
   ],
   "source": [
    "Folder_Name='Up'\n",
    "RAW_PATH=os.getcwd() + '/Venn_Results_WT_0h_DKO_0h_vs_ZZ_2016/' + Folder_Name\n",
    "OUT_PATH=os.getcwd() + '/Venn_Results_WT_0h_DKO_0h_vs_ZZ_2016/Results_' + Folder_Name\n",
    "\n",
    "Generate_Venn_Diagram(RAW_PATH, OUT_PATH, 'gene_id')"
   ]
  },
  {
   "cell_type": "code",
   "execution_count": null,
   "metadata": {
    "collapsed": true
   },
   "outputs": [],
   "source": []
  },
  {
   "cell_type": "markdown",
   "metadata": {},
   "source": [
    "# heatmap"
   ]
  },
  {
   "cell_type": "code",
   "execution_count": 7,
   "metadata": {},
   "outputs": [
    {
     "data": {
      "text/plain": [
       "(545, 11)"
      ]
     },
     "execution_count": 7,
     "metadata": {},
     "output_type": "execute_result"
    },
    {
     "data": {
      "image/png": "[encoded data removed]",
      "text/plain": [
       "<Figure size 720x720 with 4 Axes>"
      ]
     },
     "metadata": {
      "needs_background": "light"
     },
     "output_type": "display_data"
    }
   ],
   "source": [
    "### Drop all zeros rows for plot\n",
    "Heatmap_Df = df_ALL_DEGs.loc[(df_ALL_DEGs!=0).any(axis=1)]\n",
    "\n",
    "Heatmap_Name='DEGs_'+str(len(Heatmap_Df.index))\n",
    "#### Very Important\n",
    "\n",
    "#Heatmap_Df=FPKM_df.fillna(0)\n",
    "\n",
    "fig_1 = sns.clustermap(Heatmap_Df,  yticklabels=False, z_score=0, col_cluster=True, cmap='RdBu_r' )\n",
    "fig_1.savefig(Heatmap_Name+'.png')\n",
    "fig_1.fig.suptitle(Heatmap_Name)\n",
    "Heatmap_Df.shape"
   ]
  },
  {
   "cell_type": "markdown",
   "metadata": {},
   "source": [
    "# PCA\n",
    "\n",
    "\n",
    "\n",
    "## Input a DataFrame then plot."
   ]
  },
  {
   "cell_type": "code",
   "execution_count": 8,
   "metadata": {},
   "outputs": [
    {
     "data": {
      "text/html": [
       "<div>\n",
       "<style scoped>\n",
       "    .dataframe tbody tr th:only-of-type {\n",
       "        vertical-align: middle;\n",
       "    }\n",
       "\n",
       "    .dataframe tbody tr th {\n",
       "        vertical-align: top;\n",
       "    }\n",
       "\n",
       "    .dataframe thead th {\n",
       "        text-align: right;\n",
       "    }\n",
       "</style>\n",
       "<table border=\"1\" class=\"dataframe\">\n",
       "  <thead>\n",
       "    <tr style=\"text-align: right;\">\n",
       "      <th></th>\n",
       "      <th>principal component 1</th>\n",
       "      <th>principal component 2</th>\n",
       "    </tr>\n",
       "  </thead>\n",
       "  <tbody>\n",
       "    <tr>\n",
       "      <th>Eed_WT_1</th>\n",
       "      <td>22.192883</td>\n",
       "      <td>3.729777</td>\n",
       "    </tr>\n",
       "    <tr>\n",
       "      <th>Eed_WT_0</th>\n",
       "      <td>16.897765</td>\n",
       "      <td>-3.796935</td>\n",
       "    </tr>\n",
       "    <tr>\n",
       "      <th>Eed_KO_0</th>\n",
       "      <td>-0.335678</td>\n",
       "      <td>-3.305163</td>\n",
       "    </tr>\n",
       "    <tr>\n",
       "      <th>Eed_KO_1</th>\n",
       "      <td>-9.229247</td>\n",
       "      <td>42.482836</td>\n",
       "    </tr>\n",
       "    <tr>\n",
       "      <th>Eed_KO_2</th>\n",
       "      <td>-3.066269</td>\n",
       "      <td>-1.400220</td>\n",
       "    </tr>\n",
       "    <tr>\n",
       "      <th>Hdac12_WT_1</th>\n",
       "      <td>19.803314</td>\n",
       "      <td>-3.946864</td>\n",
       "    </tr>\n",
       "    <tr>\n",
       "      <th>Hdac12_WT_0</th>\n",
       "      <td>20.984498</td>\n",
       "      <td>-3.509577</td>\n",
       "    </tr>\n",
       "    <tr>\n",
       "      <th>Hdac12_KO_0</th>\n",
       "      <td>-15.253907</td>\n",
       "      <td>-7.188794</td>\n",
       "    </tr>\n",
       "    <tr>\n",
       "      <th>Hdac12_KO_1</th>\n",
       "      <td>-15.685201</td>\n",
       "      <td>-6.937712</td>\n",
       "    </tr>\n",
       "    <tr>\n",
       "      <th>Hdac12_KO_2</th>\n",
       "      <td>-15.586816</td>\n",
       "      <td>-6.384677</td>\n",
       "    </tr>\n",
       "    <tr>\n",
       "      <th>Hdac12_KO_3</th>\n",
       "      <td>-20.721343</td>\n",
       "      <td>-9.742669</td>\n",
       "    </tr>\n",
       "  </tbody>\n",
       "</table>\n",
       "</div>"
      ],
      "text/plain": [
       "             principal component 1  principal component 2\n",
       "Eed_WT_1                 22.192883               3.729777\n",
       "Eed_WT_0                 16.897765              -3.796935\n",
       "Eed_KO_0                 -0.335678              -3.305163\n",
       "Eed_KO_1                 -9.229247              42.482836\n",
       "Eed_KO_2                 -3.066269              -1.400220\n",
       "Hdac12_WT_1              19.803314              -3.946864\n",
       "Hdac12_WT_0              20.984498              -3.509577\n",
       "Hdac12_KO_0             -15.253907              -7.188794\n",
       "Hdac12_KO_1             -15.685201              -6.937712\n",
       "Hdac12_KO_2             -15.586816              -6.384677\n",
       "Hdac12_KO_3             -20.721343              -9.742669"
      ]
     },
     "execution_count": 8,
     "metadata": {},
     "output_type": "execute_result"
    }
   ],
   "source": [
    "# PCA\n",
    "df_2 = df_ALL_DEGs #.reset_index()\n",
    "\n",
    "#### Remove unicode of list in python \n",
    "df2_gene_id = [x.encode('ascii', 'ignore') for x in df_2.index]\n",
    "\n",
    "\n",
    "from sklearn.decomposition import PCA\n",
    "from sklearn import datasets\n",
    "from sklearn.discriminant_analysis import LinearDiscriminantAnalysis\n",
    "from sklearn.preprocessing import StandardScaler\n",
    "\n",
    "#### In here we set targets as the name of columns, which means our purpose is to compare \\\n",
    "#### the relationship between different columns.\n",
    "targets= [x.encode('ascii', 'ignore') for x in df_2.columns]\n",
    "\n",
    "colors=[]\n",
    "for i in range(len(targets)):\n",
    "    colors.append( \"C\"+ str(i))\n",
    "    #print(colors[i])\n",
    "\n",
    "################################################################################\n",
    "\n",
    "df_2_T = df_2.transpose()\n",
    "\n",
    "# Separating out the features\n",
    "x = df_2_T.loc[ :, df2_gene_id ].values\n",
    "\n",
    "\n",
    "# Separating out the target\n",
    "y = df_2_T.loc[targets,:].values\n",
    "\n",
    "\n",
    "# Standardizing the featuresbio\n",
    "x = StandardScaler().fit_transform(x)\n",
    "\n",
    "pca = PCA(n_components=2)\n",
    "principalComponents = pca.fit_transform(x)\n",
    "principalDf = pd.DataFrame(data = principalComponents\n",
    "             , columns = ['principal component 1', 'principal component 2'])\n",
    "\n",
    "\n",
    "########### THIS is fucking killing me. reindex df with df2, just using following command.\n",
    "principalDf.index = df_2_T.index\n",
    "\n",
    "#finalDf = pd.concat( [principalDf, df_2_T.loc['target']], axis = 1)\n",
    "principalDf"
   ]
  },
  {
   "cell_type": "code",
   "execution_count": 9,
   "metadata": {},
   "outputs": [
    {
     "data": {
      "text/plain": [
       "(545, 11)"
      ]
     },
     "execution_count": 9,
     "metadata": {},
     "output_type": "execute_result"
    },
    {
     "data": {
      "image/png": "[encoded data removed]",
      "text/plain": [
       "<Figure size 720x576 with 1 Axes>"
      ]
     },
     "metadata": {
      "needs_background": "light"
     },
     "output_type": "display_data"
    }
   ],
   "source": [
    "### PLOT\n",
    "\n",
    "fig = plt.figure(figsize = (10,8))\n",
    "ax = fig.add_subplot(1,1,1) \n",
    "ax.set_xlabel('Principal Component 1', fontsize = 15)\n",
    "ax.set_ylabel('Principal Component 2', fontsize = 15)\n",
    "ax.set_title('2 component PCA', fontsize = 20)\n",
    "\n",
    "colors = ['C5','C5',\n",
    "          'C4','C3','C4',\n",
    "          'C9','C9',\n",
    "          'C1','C1','C1','C1',\n",
    "          'C0','C1', \n",
    "          'C6','C6','C6',\n",
    "          'C2','C2','C2',\n",
    "          'C3','C3','C3']\n",
    "\n",
    "for target, color in zip( targets,colors):\n",
    "    indicesToKeep = principalDf.index == target\n",
    "    ax.scatter(principalDf.loc[indicesToKeep, 'principal component 1']\n",
    "               , principalDf.loc[indicesToKeep, 'principal component 2']\n",
    "               , s = 100, c=color, alpha=0.9)\n",
    "ax.legend(targets)\n",
    "#ax.set_xlim(-2,8)\n",
    "ax.grid()\n",
    "Parameters_Detail='xx'\n",
    "fig.savefig('PCA'+Parameters_Detail+'.png')\n",
    "df_ALL_DEGs.shape"
   ]
  },
  {
   "cell_type": "markdown",
   "metadata": {
    "collapsed": true
   },
   "source": [
    "## Violin Plot"
   ]
  },
  {
   "cell_type": "code",
   "execution_count": 29,
   "metadata": {},
   "outputs": [
    {
     "ename": "NameError",
     "evalue": "name 'df3' is not defined",
     "output_type": "error",
     "traceback": [
      "\u001b[0;31m\u001b[0m",
      "\u001b[0;31mNameError\u001b[0mTraceback (most recent call last)",
      "\u001b[0;32m<ipython-input-29-78f48c089285>\u001b[0m in \u001b[0;36m<module>\u001b[0;34m()\u001b[0m\n\u001b[0;32m----> 1\u001b[0;31m \u001b[0mall_data\u001b[0m\u001b[0;34m=\u001b[0m\u001b[0;34m[\u001b[0m\u001b[0mnp\u001b[0m\u001b[0;34m.\u001b[0m\u001b[0mlog1p\u001b[0m\u001b[0;34m(\u001b[0m\u001b[0;34m(\u001b[0m\u001b[0mdf3\u001b[0m\u001b[0;34m.\u001b[0m\u001b[0miloc\u001b[0m\u001b[0;34m[\u001b[0m\u001b[0;34m:\u001b[0m\u001b[0;34m,\u001b[0m\u001b[0;36m0\u001b[0m\u001b[0;34m]\u001b[0m\u001b[0;34m)\u001b[0m\u001b[0;34m)\u001b[0m\u001b[0;34m,\u001b[0m \u001b[0mnp\u001b[0m\u001b[0;34m.\u001b[0m\u001b[0mlog1p\u001b[0m\u001b[0;34m(\u001b[0m\u001b[0;34m(\u001b[0m\u001b[0mdf2\u001b[0m\u001b[0;34m.\u001b[0m\u001b[0miloc\u001b[0m\u001b[0;34m[\u001b[0m\u001b[0;34m:\u001b[0m\u001b[0;34m,\u001b[0m\u001b[0;36m0\u001b[0m\u001b[0;34m]\u001b[0m\u001b[0;34m)\u001b[0m\u001b[0;34m)\u001b[0m\u001b[0;34m]\u001b[0m\u001b[0;34m\u001b[0m\u001b[0m\n\u001b[0m\u001b[1;32m      2\u001b[0m \u001b[0;34m\u001b[0m\u001b[0m\n\u001b[1;32m      3\u001b[0m \u001b[0my_max\u001b[0m\u001b[0;34m,\u001b[0m \u001b[0my_min\u001b[0m \u001b[0;34m=\u001b[0m \u001b[0;34m(\u001b[0m\u001b[0mmax\u001b[0m\u001b[0;34m(\u001b[0m \u001b[0;34m[\u001b[0m\u001b[0mmax\u001b[0m\u001b[0;34m(\u001b[0m\u001b[0mx\u001b[0m\u001b[0;34m)\u001b[0m  \u001b[0;32mfor\u001b[0m \u001b[0mx\u001b[0m \u001b[0;32min\u001b[0m \u001b[0mall_data\u001b[0m \u001b[0;34m]\u001b[0m\u001b[0;34m)\u001b[0m\u001b[0;34m,\u001b[0m \u001b[0mmin\u001b[0m\u001b[0;34m(\u001b[0m \u001b[0;34m[\u001b[0m\u001b[0mmin\u001b[0m\u001b[0;34m(\u001b[0m\u001b[0mx\u001b[0m\u001b[0;34m)\u001b[0m  \u001b[0;32mfor\u001b[0m \u001b[0mx\u001b[0m \u001b[0;32min\u001b[0m \u001b[0mall_data\u001b[0m \u001b[0;34m]\u001b[0m\u001b[0;34m)\u001b[0m\u001b[0;34m)\u001b[0m\u001b[0;34m\u001b[0m\u001b[0m\n\u001b[1;32m      4\u001b[0m \u001b[0;34m\u001b[0m\u001b[0m\n\u001b[1;32m      5\u001b[0m \u001b[0mfig\u001b[0m\u001b[0;34m,\u001b[0m \u001b[0maxes\u001b[0m \u001b[0;34m=\u001b[0m \u001b[0mplt\u001b[0m\u001b[0;34m.\u001b[0m\u001b[0msubplots\u001b[0m\u001b[0;34m(\u001b[0m\u001b[0mnrows\u001b[0m\u001b[0;34m=\u001b[0m\u001b[0;36m1\u001b[0m\u001b[0;34m,\u001b[0m \u001b[0mncols\u001b[0m\u001b[0;34m=\u001b[0m\u001b[0;36m1\u001b[0m\u001b[0;34m,\u001b[0m \u001b[0mfigsize\u001b[0m\u001b[0;34m=\u001b[0m\u001b[0;34m(\u001b[0m\u001b[0;36m5\u001b[0m\u001b[0;34m,\u001b[0m \u001b[0;36m5\u001b[0m\u001b[0;34m)\u001b[0m\u001b[0;34m)\u001b[0m\u001b[0;34m\u001b[0m\u001b[0m\n",
      "\u001b[0;31mNameError\u001b[0m: name 'df3' is not defined"
     ]
    }
   ],
   "source": [
    "all_data=[np.log1p((df3.iloc[:,0])), np.log1p((df2.iloc[:,0]))]\n",
    "\n",
    "y_max, y_min = (max( [max(x)  for x in all_data ]), min( [min(x)  for x in all_data ]))\n",
    "\n",
    "fig, axes = plt.subplots(nrows=1, ncols=1, figsize=(5, 5))\n",
    "axes.violinplot( all_data,showmeans=False,showmedians=True)\n",
    "axes.grid(color='grey', linestyle='dashed', linewidth=0.5)\n",
    "#axes.set_xlabel('Frequency')\n",
    "axes.set_ylabel('log1p(RPKM)')\n",
    "axes.set_ylim(y_min-1,y_max+1)\n",
    "\n",
    "\n",
    "\n",
    "plt.setp(axes, xticks=[y + 1 for y in range(len(all_data))],\n",
    "         xticklabels=['Intersection_'+str(len(all_data[0])), 'Only_Tcf1_'+str(len(all_data[1]))])\n",
    "\n",
    "\n",
    "\n",
    "from scipy import stats\n",
    "MWU, pvalue = ( stats.mannwhitneyu((df3.iloc[:,0]), (df2.iloc[:,0]), alternative=None )[0], \n",
    "                stats.mannwhitneyu((df3.iloc[:,0]), (df2.iloc[:,0]), alternative='two-sided')[1])\n",
    "#print \"U= %d p = %.1e\" % (MWU, pvalue)\n",
    "\n",
    "if float(\"%.1e\" % pvalue) == 1.0:\n",
    "    plt.text(0.1, r'p = 1.0', fontsize=15)\n",
    "    print('P_value is: %.1e' % pvalue )\n",
    "else:\n",
    "    if pvalue !=0:\n",
    "        sign = '='\n",
    "        digit, exp = re.search(r'(\\S+)e(\\S+)' , '%.1e' % pvalue).group(1,2)\n",
    "    else:\n",
    "        sign, digit, exp = '<', '1.0', '-300'\n",
    "        print('P_value is: %.1e' % pvalue )\n",
    "        plt.text( 1.1, (y_max+0.5) , r'P_value {} {} x $10^{{{}}}$'.format(sign, digit, int(exp)), fontsize=15)\n",
    "        "
   ]
  },
  {
   "cell_type": "code",
   "execution_count": null,
   "metadata": {
    "collapsed": true
   },
   "outputs": [],
   "source": []
  },
  {
   "cell_type": "code",
   "execution_count": null,
   "metadata": {
    "collapsed": true
   },
   "outputs": [],
   "source": [
    "df0_a = pd.read_csv(PATH_FOLDER+'RPKM_genes_read_count_Sample_CD4_TCF1_20160827000_genelist_Only_Foxp3_5k.csv', sep='\\t', header=0)\n",
    "df0_a = df0_a.set_index('gene_id').dropna(axis=0, how='any')\n",
    "df0_a = df0_a.loc[ (df0_a['RPKM'] > 0 ) ]\n",
    "df0_a = df0_a.rename(columns={'RPKM':'RPKM_WT_Only_Foxp3'})\n",
    "\n",
    "df0_b = pd.read_csv(PATH_FOLDER+'RPKM_genes_read_count_Sample_TKOCD4_TCF1_20160827000_genelist_Only_Foxp3_5k.csv', sep='\\t', header=0)\n",
    "df0_b = df0_b.set_index('gene_id').dropna(axis=0, how='any')\n",
    "df0_b = df0_b.loc[ (df0_b['RPKM'] > 0 ) ]\n",
    "df0_b = df0_b.rename(columns={'RPKM':'RPKM_KO_Only_Foxp3'})\n",
    "\n",
    "###################################################################################################################\n",
    "df1_a = pd.read_csv(PATH_FOLDER+'RPKM_genes_read_count_Sample_CD4_TCF1_20160827000_genelist_Intersection_Foxp3_5k_Treg_TCF1.csv', sep='\\t', header=0)\n",
    "df1_a = df1_a.set_index('gene_id').dropna(axis=0, how='any')\n",
    "df1_a = df1_a.loc[ (df1_a['RPKM'] > 0 ) ]\n",
    "df1_a = df1_a.rename(columns={'RPKM':'RPKM_WT_Intersection'})\n",
    "\n",
    "df1_b = pd.read_csv(PATH_FOLDER+'RPKM_genes_read_count_Sample_TKOCD4_TCF1_20160827000_genelist_Intersection_Foxp3_5k_Treg_TCF1.csv', sep='\\t', header=0)\n",
    "df1_b = df1_b.set_index('gene_id').dropna(axis=0, how='any')\n",
    "df1_b = df1_b.loc[ (df1_b['RPKM'] > 0 ) ]\n",
    "df1_b = df1_b.rename(columns={'RPKM':'RPKM_KO_Intersection'})\n",
    "\n",
    "###################################################################################################################\n",
    "df2_a = pd.read_csv(PATH_FOLDER+'RPKM_genes_read_count_Sample_CD4_TCF1_20160827000_genelist_Only_Treg_TCF1.csv', sep='\\t', header=0)\n",
    "df2_a = df2_a.set_index('gene_id').dropna(axis=0, how='any')\n",
    "df2_a = df2_a.loc[ (df2_a['RPKM'] > 0 ) ]\n",
    "df2_a = df2_a.rename(columns={'RPKM':'RPKM_WT_Only_Treg'})\n",
    "\n",
    "df2_b = pd.read_csv(PATH_FOLDER+'RPKM_genes_read_count_Sample_TKOCD4_TCF1_20160827000_genelist_Only_Treg_TCF1.csv', sep='\\t', header=0)\n",
    "df2_b = df2_b.set_index('gene_id').dropna(axis=0, how='any')\n",
    "df2_b = df2_b.loc[ (df2_b['RPKM'] > 0 ) ]\n",
    "df2_b = df2_b.rename(columns={'RPKM':'RPKM_KO_Only_Treg'})\n",
    "\n",
    "fig, axes = plt.subplots(nrows=2, ncols=3, figsize=(20, 8))\n",
    "\n",
    "axes[0,0].violinplot(  (np.log10(df0_a.iloc[:,0])),showmeans=False,showmedians=True )\n",
    "axes[0,0].set_title('gene_list_WT_Only_FoxP3_'+str(len(df0_a)))\n",
    "\n",
    "axes[1,0].violinplot( ( np.log10(df0_b.iloc[:,0] )),showmeans=False,showmedians=True)\n",
    "axes[1,0].set_title('gene_list_KO_Only_FoxP3_'+str(len(df0_b)))\n",
    "\n",
    "\n",
    "\n",
    "axes[0,1].violinplot( ( np.log10(df1_a.iloc[:,0] )),showmeans=False,showmedians=True)\n",
    "axes[0,1].set_title('gene_list_WT_Intersection_'+str(len(df1_a)))\n",
    "\n",
    "axes[1,1].violinplot( ( np.log10(df1_b.iloc[:,0] )),showmeans=False,showmedians=True)\n",
    "axes[1,1].set_title('gene_list_KO_Intersection_'+str(len(df1_b)))\n",
    "\n",
    "\n",
    "\n",
    "axes[0,2].violinplot( ( np.log10(df2_a.iloc[:,0] )),showmeans=False,showmedians=True)\n",
    "axes[0,2].set_title('gene_list_WT_Only_Treg_'+str(len(df2_a)))\n",
    "\n",
    "axes[1,2].violinplot( ( np.log10(df2_b.iloc[:,0] )),showmeans=False,showmedians=True)\n",
    "axes[1,2].set_title('gene_list_KO_Only_Treg_'+str(len(df2_b)))\n",
    "\n",
    "\n",
    "\n",
    "for i in range(2):\n",
    "    for j in range(3):\n",
    "        ax=axes[i,j]\n",
    "        ax.yaxis.grid(True)\n",
    "        #ax.set_xticks([y + 1 for y in range(max(df1))])\n",
    "        ax.set_ylim(-0.5,2)\n",
    "        ax.set_xlabel('Frequency')\n",
    "        ax.set_ylabel('log10(RPKM)')\n",
    "\n",
    "fig.savefig('gene_list_WT_KO.png') "
   ]
  },
  {
   "cell_type": "markdown",
   "metadata": {},
   "source": [
    "# Scattering Plot + Heatmap"
   ]
  },
  {
   "cell_type": "code",
   "execution_count": 104,
   "metadata": {},
   "outputs": [],
   "source": [
    "def hexbin_with_density(df, highlight_name, title_name, density_scale, drop_top_outlier):\n",
    "    ### drop outlier\n",
    "    import re\n",
    "    df = df.drop(df.iloc[:,0].nlargest(n=drop_top_outlier,keep='first').index)\n",
    "    \n",
    "    \n",
    "    range_limit=df.max().max()\n",
    "    fig, ax = plt.subplots(nrows=1, ncols=1, figsize=(12, 9), sharex=False, sharey=False)\n",
    "    \n",
    "    if density_scale == 'log':\n",
    "        hb = ax.hexbin(df.iloc[:,[0]], df.iloc[:,[1]], gridsize=(100,100), cmap=plt.cm.jet,\n",
    "                   bins='log',mincnt=1,alpha=2, edgecolors='face')\n",
    "        cb = fig.colorbar(hb,ax=ax)\n",
    "        cb.set_label('Log$_{10}$(1+Counts)', fontsize=18)\n",
    "    else:\n",
    "        hb = ax.hexbin(df.iloc[:,[0]], df.iloc[:,[1]], gridsize=(100,100), cmap=plt.cm.jet,\n",
    "                   mincnt=1,alpha=2, edgecolors='face')\n",
    "        cb = fig.colorbar(hb,ax=ax)\n",
    "        cb.set_label('Counts', fontsize=18)\n",
    "\n",
    "    ###  highlight a point\n",
    "    if len(highlight_name) >= 1:\n",
    "        for highlight_index in highlight_name[:]:\n",
    "            ax.scatter(df[df.index == highlight_index].iloc[:,[0]],\n",
    "                        df[df.index == highlight_index].iloc[:,[1]],\n",
    "                        alpha=1.0,s=50,color='red', label=highlight_index,edgecolor='red')\n",
    "            ax.text(df[df.index == highlight_index].iloc[:,0]-range_limit/20.0,\n",
    "                      df[df.index == highlight_index].iloc[:,1]+range_limit/25.0, highlight_index, fontsize=16, color='r')\n",
    "\n",
    "\n",
    "    ax.yaxis.grid(False)\n",
    "    ax.set_ylim(-0.1*range_limit,range_limit+0.1*range_limit)\n",
    "    ax.set_xlim(-0.1*range_limit,range_limit+0.1*range_limit)\n",
    "    ax.set_xlabel(str(df.columns[0]), fontsize=18)\n",
    "    ax.set_ylabel(str(df.columns[1]), fontsize=18)\n",
    "    ax.plot([-0.1*range_limit,range_limit+0.1*range_limit], [-0.1*range_limit, range_limit+0.1*range_limit], ls=\"--\", c=\"gray\")\n",
    "    ax.set_title(str(len(df))+ ': '+ title_name , fontsize=18)\n",
    "    \n",
    "    \n",
    "    \n",
    "    from scipy.stats import pearsonr\n",
    "    r, pvalue = ( pearsonr((df.iloc[:,0]), (df.iloc[:,1]))[0], \n",
    "                    pearsonr((df.iloc[:,0]), (df.iloc[:,1]))[1])\n",
    "    #print \"U= %d p = %.1e\" % (MWU, pvalue)\n",
    "\n",
    "    \n",
    "    print df.iloc[:,[0,1]].columns[0],\"&\", df.iloc[:,[0,1]].columns[1]\n",
    "    if float(\"%.1e\" % pvalue) == 1.0:\n",
    "        plt.text(range_limit/2-0.1*range_limit, range_limit+0.17*range_limit, r'p = 1.0', fontsize=15)\n",
    "        print('Pearson_r is: %.1e' % round(r,4) )\n",
    "        print('P_value is: %.1e' % pvalue )\n",
    "    else:\n",
    "        if pvalue !=0:\n",
    "            sign = '='\n",
    "            digit, exp = re.search(r'(\\S+)e(\\S+)' , '%.1e' % pvalue).group(1,2)\n",
    "            plt.text(range_limit/2-0.35*range_limit, range_limit+0.17*range_limit, r'Pearson_r {} {} with P_value {} {} x $10^{{{}}}$'.format(sign, round(r,4), sign, digit, int(exp)), fontsize=15)\n",
    "            print('Pearson_r is: %.4f' % r )\n",
    "            print('P_value is: %.1e' % pvalue )\n",
    "        else:\n",
    "            sign, digit, exp = '<', '1.0', '-300'\n",
    "            plt.text(range_limit/2-0.35*range_limit, range_limit+0.17*range_limit, r'Pearson_r {} {} with P_value {} {} x $10^{{{}}}$'.format(sign, round(r,4), sign, digit, int(exp)), fontsize=15)\n",
    "            print('Pearson_r is: %.4f' % r )\n",
    "            print('P_value is: %.1e' % pvalue )\n",
    "    return 0"
   ]
  },
  {
   "cell_type": "code",
   "execution_count": 101,
   "metadata": {},
   "outputs": [
    {
     "data": {
      "text/plain": [
       "Index([u'Eed_WT_1', u'Eed_WT_0', u'Eed_KO_0', u'Eed_KO_1', u'Eed_KO_2',\n",
       "       u'Hdac12_WT_1', u'Hdac12_WT_0', u'Hdac12_KO_0', u'Hdac12_KO_1',\n",
       "       u'Hdac12_KO_2', u'Hdac12_KO_3'],\n",
       "      dtype='object')"
      ]
     },
     "execution_count": 101,
     "metadata": {},
     "output_type": "execute_result"
    }
   ],
   "source": [
    "df_ALL_DEGs.columns"
   ]
  },
  {
   "cell_type": "code",
   "execution_count": 114,
   "metadata": {},
   "outputs": [
    {
     "name": "stdout",
     "output_type": "stream",
     "text": [
      "Hdac12_KO_1 & Hdac12_KO_2\n",
      "Pearson_r is: 0.9621\n",
      "P_value is: 1.4e-308\n"
     ]
    },
    {
     "data": {
      "image/png": "[encoded data removed]",
      "text/plain": [
       "<Figure size 864x648 with 2 Axes>"
      ]
     },
     "metadata": {
      "needs_background": "light"
     },
     "output_type": "display_data"
    }
   ],
   "source": [
    "aa = hexbin_with_density(df_ALL_DEGs.iloc[:,[8,9]],'', 'DEGs_scale=log$_2$(1+RPKM)', 'log',0)\n"
   ]
  },
  {
   "cell_type": "code",
   "execution_count": 92,
   "metadata": {},
   "outputs": [
    {
     "data": {
      "text/plain": [
       "'Eed_WT_1'"
      ]
     },
     "execution_count": 92,
     "metadata": {},
     "output_type": "execute_result"
    }
   ],
   "source": []
  },
  {
   "cell_type": "code",
   "execution_count": null,
   "metadata": {},
   "outputs": [],
   "source": []
  },
  {
   "cell_type": "code",
   "execution_count": null,
   "metadata": {
    "collapsed": true
   },
   "outputs": [],
   "source": [
    "from scipy.stats import gaussian_kde\n",
    "        # Calculate the point density\n",
    "    fig, axis = plt.subplots(nrows=1, ncols=3, figsize=(15, 4), sharex=False, sharey=True)\n",
    "\n",
    "    range_limit=1000\n",
    "    xy = np.vstack([df_gene_Intersection_WT, df_gene_Intersection_KO])\n",
    "    z = gaussian_kde(xy)(xy)\n",
    "\n",
    "    axis[1].axis('equal')\n",
    "    cax_1 = axis[1].scatter(df_gene_Intersection_WT, df_gene_Intersection_KO, alpha=1.0,s=5,c=z, label='Intersection',edgecolor='')\n",
    "    \n",
    "    ###  highlight a point\n",
    "    highlight_index='Tcf7'\n",
    "    axis[1].scatter(df_gene_Intersection_WT[df_gene_Intersection_WT.index == highlight_index],\n",
    "                df_gene_Intersection_KO[df_gene_Intersection_KO.index == highlight_index],\n",
    "                alpha=1.0,s=50,color='blue', label=highlight_index,edgecolor='blue')\n",
    "    axis[1].text(df_gene_Intersection_WT[df_gene_Intersection_WT.index == highlight_index]+range_limit/20,\n",
    "                df_gene_Intersection_KO[df_gene_Intersection_KO.index == highlight_index]-range_limit/20, highlight_index, fontsize=14)\n",
    "    ###\n",
    "    \n",
    "    axis[1].set_title('Intersection: '+ str(len(df_gene_Intersection_WT)) + ' elements')\n",
    "    axis[1].plot([0,range_limit], [0, range_limit], ls=\"--\", c=\".3\")\n",
    "    \n",
    "    \n",
    "    \n",
    "    \n",
    "    axis[0].axis('equal')\n",
    "    xy = np.vstack([df_gene_Only_Foxp3_WT, df_gene_Only_Foxp3_KO])\n",
    "    z = gaussian_kde(xy)(xy)\n",
    "    cax_0 = axis[0].scatter(df_gene_Only_Foxp3_WT, df_gene_Only_Foxp3_KO, alpha=1.0,s=5, c=z, label='Only_Foxp3',edgecolor='')\n",
    "    axis[0].set_title('Only_Foxp3: ' + str(len(df_gene_Only_Foxp3_WT))+' elements')\n",
    "    axis[0].plot([0,range_limit], [0, range_limit], ls=\"--\", c=\".3\")\n",
    "    \n",
    "\n",
    "    axis[2].axis('equal')\n",
    "    xy = np.vstack([df_gene_Only_Tcf1_WT, df_gene_Only_Tcf1_KO])\n",
    "    z = gaussian_kde(xy)(xy)\n",
    "    cax_2 = axis[2].scatter(df_gene_Only_Tcf1_WT, df_gene_Only_Tcf1_KO, alpha=1.0,s=5, c=z, label='Only_Tcf1',edgecolor='')\n",
    "    axis[2].set_title( 'Only_Tcf1: '+str(len(df_gene_Only_Tcf1_WT))+' elements')\n",
    "    axis[2].plot([0,range_limit], [0, range_limit], ls=\"--\", c=\".3\")\n",
    "    \n",
    "    for ax in axis:\n",
    "            ax.yaxis.grid(True)\n",
    "            ax.set_ylim(-50,range_limit)\n",
    "            ax.set_xlim(-50,range_limit)\n",
    "            ax.set_xlabel('WT_RPKM')\n",
    "            ax.set_ylabel('KO_RPKM')\n",
    "\n",
    "fig.subplots_adjust(right=0.8)\n",
    "#cbar_ax = fig.add_axes([0.85, 0.15, 0.01, 0.7]) # A 4-length sequence of [left, bottom, width, height] quantities.\n",
    "#fig.colorbar(cax=cbar_ax)\n",
    "\n",
    "\n",
    "\n",
    "    "
   ]
  }
 ],
 "metadata": {
  "celltoolbar": "Edit Metadata",
  "kernelspec": {
   "display_name": "Python 2",
   "language": "python",
   "name": "python2"
  },
  "language_info": {
   "codemirror_mode": {
    "name": "ipython",
    "version": 2
   },
   "file_extension": ".py",
   "mimetype": "text/x-python",
   "name": "python",
   "nbconvert_exporter": "python",
   "pygments_lexer": "ipython2",
   "version": "2.7.6"
  }
 },
 "nbformat": 4,
 "nbformat_minor": 2
}
