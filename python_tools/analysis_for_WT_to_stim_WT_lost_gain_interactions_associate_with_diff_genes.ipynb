{
 "cells": [
  {
   "cell_type": "code",
   "execution_count": 1,
   "metadata": {},
   "outputs": [
    {
     "name": "stdout",
     "output_type": "stream",
     "text": [
      "hi\n",
      "hello from new mapping\n"
     ]
    }
   ],
   "source": [
    "import os\n",
    "import sys\n",
    "import numpy as np\n",
    "import pandas as pd\n",
    "import collections\n",
    "import itertools\n",
    "from mirnylib import h5dict, genome\n",
    "from hiclib import mapping, fragmentHiC\n",
    "import cooler\n",
    "from multiprocessing import Pool"
   ]
  },
  {
   "cell_type": "code",
   "execution_count": 2,
   "metadata": {
    "collapsed": true
   },
   "outputs": [],
   "source": [
    "genome_db = genome.Genome('/home/zzeng/cloud_research/PengGroup/ZZeng/Data/Haihui/Tcf1/HiC-seq/Jun2016/exp/iterative_mapping/genome.fa')"
   ]
  },
  {
   "cell_type": "code",
   "execution_count": null,
   "metadata": {
    "collapsed": true
   },
   "outputs": [],
   "source": []
  },
  {
   "cell_type": "code",
   "execution_count": 3,
   "metadata": {
    "collapsed": true
   },
   "outputs": [],
   "source": [
    "import HTSeq\n",
    "def iv_to_str(iv):\n",
    "        return iv.chrom + ':' + str(iv.start) + '-' + str(iv.end)  \n",
    "    \n",
    "idx = pd.IndexSlice"
   ]
  },
  {
   "cell_type": "code",
   "execution_count": 4,
   "metadata": {
    "collapsed": true
   },
   "outputs": [],
   "source": [
    "up_genes_dict = {}\n",
    "\n",
    "up_genes_bed_file = HTSeq.BED_Reader('processed/HiC_around_Tcf1_peaks/diff_genes/HP_WT_up_gene_promoter_iv.bed')\n",
    "for alt in up_genes_bed_file:\n",
    "    up_genes_dict[alt.name] = alt.iv"
   ]
  },
  {
   "cell_type": "code",
   "execution_count": 5,
   "metadata": {
    "collapsed": true
   },
   "outputs": [],
   "source": [
    "down_genes_dict = {}\n",
    "\n",
    "down_genes_bed_file = HTSeq.BED_Reader('processed/HiC_around_Tcf1_peaks/diff_genes/HP_WT_down_gene_promoter_iv.bed')\n",
    "for alt in down_genes_bed_file:\n",
    "    down_genes_dict[alt.name] = alt.iv"
   ]
  },
  {
   "cell_type": "code",
   "execution_count": 6,
   "metadata": {},
   "outputs": [
    {
     "name": "stderr",
     "output_type": "stream",
     "text": [
      "/usr/local/lib/python2.7/dist-packages/ipykernel_launcher.py:29: RuntimeWarning: divide by zero encountered in log10\n"
     ]
    }
   ],
   "source": [
    "os.chdir('/home/zzeng/cloud_research/PengGroup/ZZeng/Data/Haihui/Tcf1/HiC-seq/Combine_Jun_Jul_2016/iterative_mapping_3')\n",
    "\n",
    "import numpy as np\n",
    "import pandas as pd\n",
    "import collections\n",
    "import cooler\n",
    "\n",
    "cutoff = 10e-5\n",
    "sig_df = pd.read_csv('fit-hi-c/WT_CD8.spline_pass2.significances.txt.gz', header=0, sep='\\t')\n",
    "sig_df = sig_df[sig_df['q-value'] < cutoff]\n",
    "\n",
    "mycooler = cooler.Cooler('WT_CD8-res-10K.cool')\n",
    "bin_df = mycooler.bins()[:]\n",
    "bin_df['mid'] = ((bin_df['start'] + bin_df['end']) / 2).astype(int)\n",
    "\n",
    "bin_start_dict = collections.defaultdict(lambda: {})\n",
    "for chrom in mycooler.chromnames:\n",
    "    bin_start_dict[chrom] = dict(bin_df.loc[bin_df.chrom == chrom, ['mid', 'start']].values)\n",
    "\n",
    "bin_end_dict = collections.defaultdict(lambda: {})\n",
    "for chrom in mycooler.chromnames:\n",
    "    bin_end_dict[chrom] = dict(bin_df.loc[bin_df.chrom == chrom, ['mid', 'end']].values)\n",
    "\n",
    "sig_df['start1'] = sig_df.apply(lambda row: bin_start_dict[row['chr1']][row['fragmentMid1']], axis=1)\n",
    "sig_df['start2'] = sig_df.apply(lambda row: bin_start_dict[row['chr2']][row['fragmentMid2']], axis=1)\n",
    "\n",
    "sig_df['name'] = sig_df.index\n",
    "sig_df['strand'] = '.'\n",
    "sig_df['score'] = -np.log10(sig_df['p-value'])\n",
    "sig_df.loc[sig_df.score == np.inf, 'score'] = 1000\n",
    "\n",
    "chr_matrix_list = []\n",
    "for chrom in mycooler.chromnames:\n",
    "    chr_matrix = mycooler.matrix(balance=True, as_pixels=True, join=True).fetch(chrom).fillna(0)\n",
    "    chr_matrix = chr_matrix[(abs(chr_matrix.start1 - chr_matrix.start2) >= 20000) & (abs(chr_matrix.start1 - chr_matrix.start2) <= 2000000)]\n",
    "    chr_matrix_list.append(chr_matrix)\n",
    "\n",
    "matrix_df = pd.concat(chr_matrix_list).set_index(['chrom1', 'start1', 'start2'])\n",
    "sig_df['balanced_count'] = sig_df.apply(lambda row: matrix_df.loc[idx[row['chr1'], row['start1'], row['start2']], 'balanced'], axis=1)\n",
    "\n",
    "WT_sig_df = sig_df\n",
    "\n",
    "WT_sig_df.set_index(['chr1', 'start1', 'start2'], inplace=True)"
   ]
  },
  {
   "cell_type": "code",
   "execution_count": 7,
   "metadata": {},
   "outputs": [
    {
     "name": "stderr",
     "output_type": "stream",
     "text": [
      "/usr/local/lib/python2.7/dist-packages/ipykernel_launcher.py:29: RuntimeWarning: divide by zero encountered in log10\n"
     ]
    }
   ],
   "source": [
    "os.chdir('/home/zzeng/cloud_research/PengGroup/ZZeng/Data/Haihui/Tcf1/HiC-seq/Jul2017/iterative_mapping')\n",
    "\n",
    "import numpy as np\n",
    "import pandas as pd\n",
    "import collections\n",
    "import cooler\n",
    "\n",
    "cutoff = 10e-5\n",
    "sig_df = pd.read_csv('fit-hi-c/stim_WT_CD8.spline_pass2.significances.txt.gz', header=0, sep='\\t')\n",
    "sig_df = sig_df[sig_df['q-value'] < cutoff]\n",
    "\n",
    "mycooler = cooler.Cooler('stim_WT_CD8-res-10K.cool')\n",
    "bin_df = mycooler.bins()[:]\n",
    "bin_df['mid'] = ((bin_df['start'] + bin_df['end']) / 2).astype(int)\n",
    "\n",
    "bin_start_dict = collections.defaultdict(lambda: {})\n",
    "for chrom in mycooler.chromnames:\n",
    "    bin_start_dict[chrom] = dict(bin_df.loc[bin_df.chrom == chrom, ['mid', 'start']].values)\n",
    "\n",
    "bin_end_dict = collections.defaultdict(lambda: {})\n",
    "for chrom in mycooler.chromnames:\n",
    "    bin_end_dict[chrom] = dict(bin_df.loc[bin_df.chrom == chrom, ['mid', 'end']].values)\n",
    "\n",
    "sig_df['start1'] = sig_df.apply(lambda row: bin_start_dict[row['chr1']][row['fragmentMid1']], axis=1)\n",
    "sig_df['start2'] = sig_df.apply(lambda row: bin_start_dict[row['chr2']][row['fragmentMid2']], axis=1)\n",
    "\n",
    "sig_df['name'] = sig_df.index\n",
    "sig_df['strand'] = '.'\n",
    "sig_df['score'] = -np.log10(sig_df['p-value'])\n",
    "sig_df.loc[sig_df.score == np.inf, 'score'] = 1000\n",
    "\n",
    "chr_matrix_list = []\n",
    "for chrom in mycooler.chromnames:\n",
    "    chr_matrix = mycooler.matrix(balance=True, as_pixels=True, join=True).fetch(chrom).fillna(0)\n",
    "    chr_matrix = chr_matrix[(abs(chr_matrix.start1 - chr_matrix.start2) >= 20000) & (abs(chr_matrix.start1 - chr_matrix.start2) <= 2000000)]\n",
    "    chr_matrix_list.append(chr_matrix)\n",
    "\n",
    "matrix_df = pd.concat(chr_matrix_list).set_index(['chrom1', 'start1', 'start2'])\n",
    "sig_df['balanced_count'] = sig_df.apply(lambda row: matrix_df.loc[idx[row['chr1'], row['start1'], row['start2']], 'balanced'], axis=1)\n",
    "\n",
    "stim_WT_sig_df = sig_df\n",
    "\n",
    "stim_WT_sig_df.set_index(['chr1', 'start1', 'start2'], inplace=True)"
   ]
  },
  {
   "cell_type": "code",
   "execution_count": 8,
   "metadata": {},
   "outputs": [
    {
     "name": "stderr",
     "output_type": "stream",
     "text": [
      "/usr/local/lib/python2.7/dist-packages/ipykernel_launcher.py:22: RuntimeWarning: divide by zero encountered in log10\n"
     ]
    }
   ],
   "source": [
    "os.chdir('/home/zzeng/cloud_research/PengGroup/ZZeng/Data/Haihui/Tcf1/HiC-seq/Jul2017/iterative_mapping')\n",
    "\n",
    "sig_df = pd.read_csv('fit-hi-c/stim_WT_CD8.spline_pass2.significances.txt.gz', header=0, sep='\\t')\n",
    "\n",
    "mycooler = cooler.Cooler('stim_WT_CD8-res-10K.cool')\n",
    "bin_df = mycooler.bins()[:]\n",
    "bin_df['mid'] = ((bin_df['start'] + bin_df['end']) / 2).astype(int)\n",
    "\n",
    "bin_start_dict = collections.defaultdict(lambda: {})\n",
    "for chrom in mycooler.chromnames:\n",
    "    bin_start_dict[chrom] = dict(bin_df.loc[bin_df.chrom == chrom, ['mid', 'start']].values)\n",
    "\n",
    "bin_end_dict = collections.defaultdict(lambda: {})\n",
    "for chrom in mycooler.chromnames:\n",
    "    bin_end_dict[chrom] = dict(bin_df.loc[bin_df.chrom == chrom, ['mid', 'end']].values)\n",
    "\n",
    "sig_df['start1'] = sig_df.apply(lambda row: bin_start_dict[row['chr1']][row['fragmentMid1']], axis=1)\n",
    "sig_df['start2'] = sig_df.apply(lambda row: bin_start_dict[row['chr2']][row['fragmentMid2']], axis=1)\n",
    "\n",
    "sig_df['name'] = sig_df.index\n",
    "sig_df['strand'] = '.'\n",
    "sig_df['score'] = -np.log10(sig_df['p-value'])\n",
    "sig_df.loc[sig_df.score == np.inf, 'score'] = 1000\n",
    "\n",
    "chr_matrix_list = []\n",
    "for chrom in mycooler.chromnames:\n",
    "    chr_matrix = mycooler.matrix(balance=True, as_pixels=True, join=True).fetch(chrom).fillna(0)\n",
    "    chr_matrix = chr_matrix[(abs(chr_matrix.start1 - chr_matrix.start2) >= 20000) & (abs(chr_matrix.start1 - chr_matrix.start2) <= 2000000)]\n",
    "    chr_matrix_list.append(chr_matrix)\n",
    "\n",
    "matrix_df = pd.concat(chr_matrix_list).set_index(['chrom1', 'start1', 'start2'])\n",
    "sig_df['balanced_count'] = sig_df.apply(lambda row: matrix_df.loc[idx[row['chr1'], row['start1'], row['start2']], 'balanced'], axis=1)\n",
    "\n",
    "stim_WT_all_df = sig_df\n",
    "\n",
    "stim_WT_all_df.set_index(['chr1', 'start1', 'start2'], inplace=True)"
   ]
  },
  {
   "cell_type": "code",
   "execution_count": 9,
   "metadata": {},
   "outputs": [
    {
     "name": "stderr",
     "output_type": "stream",
     "text": [
      "/usr/local/lib/python2.7/dist-packages/ipykernel_launcher.py:22: RuntimeWarning: divide by zero encountered in log10\n"
     ]
    }
   ],
   "source": [
    "os.chdir('/home/zzeng/cloud_research/PengGroup/ZZeng/Data/Haihui/Tcf1/HiC-seq/Combine_Jun_Jul_2016/iterative_mapping_3')\n",
    "\n",
    "sig_df = pd.read_csv('fit-hi-c/WT_CD8.spline_pass2.significances.txt.gz', header=0, sep='\\t')\n",
    "\n",
    "mycooler = cooler.Cooler('WT_CD8-res-10K.cool')\n",
    "bin_df = mycooler.bins()[:]\n",
    "bin_df['mid'] = ((bin_df['start'] + bin_df['end']) / 2).astype(int)\n",
    "\n",
    "bin_start_dict = collections.defaultdict(lambda: {})\n",
    "for chrom in mycooler.chromnames:\n",
    "    bin_start_dict[chrom] = dict(bin_df.loc[bin_df.chrom == chrom, ['mid', 'start']].values)\n",
    "\n",
    "bin_end_dict = collections.defaultdict(lambda: {})\n",
    "for chrom in mycooler.chromnames:\n",
    "    bin_end_dict[chrom] = dict(bin_df.loc[bin_df.chrom == chrom, ['mid', 'end']].values)\n",
    "\n",
    "sig_df['start1'] = sig_df.apply(lambda row: bin_start_dict[row['chr1']][row['fragmentMid1']], axis=1)\n",
    "sig_df['start2'] = sig_df.apply(lambda row: bin_start_dict[row['chr2']][row['fragmentMid2']], axis=1)\n",
    "\n",
    "sig_df['name'] = sig_df.index\n",
    "sig_df['strand'] = '.'\n",
    "sig_df['score'] = -np.log10(sig_df['p-value'])\n",
    "sig_df.loc[sig_df.score == np.inf, 'score'] = 1000\n",
    "\n",
    "chr_matrix_list = []\n",
    "for chrom in mycooler.chromnames:\n",
    "    chr_matrix = mycooler.matrix(balance=True, as_pixels=True, join=True).fetch(chrom).fillna(0)\n",
    "    chr_matrix = chr_matrix[(abs(chr_matrix.start1 - chr_matrix.start2) >= 20000) & (abs(chr_matrix.start1 - chr_matrix.start2) <= 2000000)]\n",
    "    chr_matrix_list.append(chr_matrix)\n",
    "\n",
    "matrix_df = pd.concat(chr_matrix_list).set_index(['chrom1', 'start1', 'start2'])\n",
    "sig_df['balanced_count'] = sig_df.apply(lambda row: matrix_df.loc[idx[row['chr1'], row['start1'], row['start2']], 'balanced'], axis=1)\n",
    "\n",
    "WT_all_df = sig_df\n",
    "\n",
    "WT_all_df.set_index(['chr1', 'start1', 'start2'], inplace=True)"
   ]
  },
  {
   "cell_type": "code",
   "execution_count": 11,
   "metadata": {},
   "outputs": [
    {
     "data": {
      "text/plain": [
       "(1462917, 10)"
      ]
     },
     "execution_count": 11,
     "metadata": {},
     "output_type": "execute_result"
    }
   ],
   "source": [
    "WT_sig_df.shape"
   ]
  },
  {
   "cell_type": "code",
   "execution_count": 12,
   "metadata": {},
   "outputs": [
    {
     "data": {
      "text/plain": [
       "(16794270, 10)"
      ]
     },
     "execution_count": 12,
     "metadata": {},
     "output_type": "execute_result"
    }
   ],
   "source": [
    "stim_WT_all_df.shape"
   ]
  },
  {
   "cell_type": "code",
   "execution_count": 13,
   "metadata": {},
   "outputs": [
    {
     "data": {
      "text/html": [
       "<div>\n",
       "<table border=\"1\" class=\"dataframe\">\n",
       "  <thead>\n",
       "    <tr style=\"text-align: right;\">\n",
       "      <th></th>\n",
       "      <th></th>\n",
       "      <th></th>\n",
       "      <th>fragmentMid1</th>\n",
       "      <th>chr2</th>\n",
       "      <th>fragmentMid2</th>\n",
       "      <th>contactCount</th>\n",
       "      <th>p-value</th>\n",
       "      <th>q-value</th>\n",
       "      <th>name</th>\n",
       "      <th>strand</th>\n",
       "      <th>score</th>\n",
       "      <th>balanced_count</th>\n",
       "    </tr>\n",
       "    <tr>\n",
       "      <th>chr1</th>\n",
       "      <th>start1</th>\n",
       "      <th>start2</th>\n",
       "      <th></th>\n",
       "      <th></th>\n",
       "      <th></th>\n",
       "      <th></th>\n",
       "      <th></th>\n",
       "      <th></th>\n",
       "      <th></th>\n",
       "      <th></th>\n",
       "      <th></th>\n",
       "      <th></th>\n",
       "    </tr>\n",
       "  </thead>\n",
       "  <tbody>\n",
       "    <tr>\n",
       "      <th rowspan=\"5\" valign=\"top\">chr10</th>\n",
       "      <th rowspan=\"2\" valign=\"top\">3030000</th>\n",
       "      <th>3060000</th>\n",
       "      <td>3035000</td>\n",
       "      <td>chr10</td>\n",
       "      <td>3065000</td>\n",
       "      <td>33</td>\n",
       "      <td>3.422402e-17</td>\n",
       "      <td>4.394544e-15</td>\n",
       "      <td>177</td>\n",
       "      <td>.</td>\n",
       "      <td>16.465669</td>\n",
       "      <td>35.996060</td>\n",
       "    </tr>\n",
       "    <tr>\n",
       "      <th>3080000</th>\n",
       "      <td>3035000</td>\n",
       "      <td>chr10</td>\n",
       "      <td>3085000</td>\n",
       "      <td>24</td>\n",
       "      <td>3.337704e-16</td>\n",
       "      <td>3.932169e-14</td>\n",
       "      <td>179</td>\n",
       "      <td>.</td>\n",
       "      <td>15.476552</td>\n",
       "      <td>21.371896</td>\n",
       "    </tr>\n",
       "    <tr>\n",
       "      <th>3040000</th>\n",
       "      <th>3080000</th>\n",
       "      <td>3045000</td>\n",
       "      <td>chr10</td>\n",
       "      <td>3085000</td>\n",
       "      <td>22</td>\n",
       "      <td>4.458737e-09</td>\n",
       "      <td>2.371207e-07</td>\n",
       "      <td>293</td>\n",
       "      <td>.</td>\n",
       "      <td>8.350788</td>\n",
       "      <td>29.605478</td>\n",
       "    </tr>\n",
       "    <tr>\n",
       "      <th rowspan=\"2\" valign=\"top\">3050000</th>\n",
       "      <th>3080000</th>\n",
       "      <td>3055000</td>\n",
       "      <td>chr10</td>\n",
       "      <td>3085000</td>\n",
       "      <td>25</td>\n",
       "      <td>2.869542e-10</td>\n",
       "      <td>1.798844e-08</td>\n",
       "      <td>372</td>\n",
       "      <td>.</td>\n",
       "      <td>9.542187</td>\n",
       "      <td>29.215431</td>\n",
       "    </tr>\n",
       "    <tr>\n",
       "      <th>3190000</th>\n",
       "      <td>3055000</td>\n",
       "      <td>chr10</td>\n",
       "      <td>3195000</td>\n",
       "      <td>11</td>\n",
       "      <td>6.887101e-07</td>\n",
       "      <td>2.550045e-05</td>\n",
       "      <td>383</td>\n",
       "      <td>.</td>\n",
       "      <td>6.161964</td>\n",
       "      <td>15.681448</td>\n",
       "    </tr>\n",
       "  </tbody>\n",
       "</table>\n",
       "</div>"
      ],
      "text/plain": [
       "                       fragmentMid1   chr2  fragmentMid2  contactCount  \\\n",
       "chr1  start1  start2                                                     \n",
       "chr10 3030000 3060000       3035000  chr10       3065000            33   \n",
       "              3080000       3035000  chr10       3085000            24   \n",
       "      3040000 3080000       3045000  chr10       3085000            22   \n",
       "      3050000 3080000       3055000  chr10       3085000            25   \n",
       "              3190000       3055000  chr10       3195000            11   \n",
       "\n",
       "                            p-value       q-value  name strand      score  \\\n",
       "chr1  start1  start2                                                        \n",
       "chr10 3030000 3060000  3.422402e-17  4.394544e-15   177      .  16.465669   \n",
       "              3080000  3.337704e-16  3.932169e-14   179      .  15.476552   \n",
       "      3040000 3080000  4.458737e-09  2.371207e-07   293      .   8.350788   \n",
       "      3050000 3080000  2.869542e-10  1.798844e-08   372      .   9.542187   \n",
       "              3190000  6.887101e-07  2.550045e-05   383      .   6.161964   \n",
       "\n",
       "                       balanced_count  \n",
       "chr1  start1  start2                   \n",
       "chr10 3030000 3060000       35.996060  \n",
       "              3080000       21.371896  \n",
       "      3040000 3080000       29.605478  \n",
       "      3050000 3080000       29.215431  \n",
       "              3190000       15.681448  "
      ]
     },
     "execution_count": 13,
     "metadata": {},
     "output_type": "execute_result"
    }
   ],
   "source": [
    "WT_sig_df.head()"
   ]
  },
  {
   "cell_type": "code",
   "execution_count": null,
   "metadata": {
    "collapsed": true
   },
   "outputs": [],
   "source": []
  },
  {
   "cell_type": "code",
   "execution_count": null,
   "metadata": {
    "collapsed": true
   },
   "outputs": [],
   "source": [
    "Tcf1_CD8_interactions_df = Tcf1_WT_interactions_df.merge(Tcf1_stim_DKO_interactions_df, on=['Tcf1_binding_iv', 'chrom', 'Tcf1_binding_bin_start', 'interaction_site_bin_start'], how='left')\n",
    "\n",
    "def retrieve_interaction_score_from_stim_DKO(row, colname):\n",
    "    start1 = min(row['Tcf1_binding_bin_start'], row['interaction_site_bin_start'])\n",
    "    start2 = max(row['Tcf1_binding_bin_start'], row['interaction_site_bin_start'])\n",
    "    try:\n",
    "        return stim_DKO_all_df.loc[idx[row['chrom'], start1, start2], colname]\n",
    "    except:\n",
    "        return 0\n",
    "\n",
    "Tcf1_CD8_interactions_df['stim_DKO_CD8_score'] = Tcf1_CD8_interactions_df.apply(lambda row: retrieve_interaction_score_from_stim_DKO(row, 'score'), axis=1)\n",
    "Tcf1_CD8_interactions_df['stim_DKO_CD8_balanced_count'] = Tcf1_CD8_interactions_df.apply(lambda row: retrieve_interaction_score_from_stim_DKO(row, 'balanced_count'), axis=1)"
   ]
  },
  {
   "cell_type": "code",
   "execution_count": null,
   "metadata": {
    "collapsed": true
   },
   "outputs": [],
   "source": []
  },
  {
   "cell_type": "code",
   "execution_count": null,
   "metadata": {
    "collapsed": true
   },
   "outputs": [],
   "source": []
  },
  {
   "cell_type": "code",
   "execution_count": 22,
   "metadata": {
    "collapsed": true
   },
   "outputs": [],
   "source": [
    "lost_interactions_df = WT_sig_df.loc[WT_sig_df.index.difference(stim_WT_sig_df.index),:]\n",
    "lost_interactions_df.rename(columns={'score': 'WT_CD8_score', 'balanced_count': 'WT_CD8_balanced_count'}, inplace=True) \n",
    "lost_interactions_df.reset_index(inplace=True)"
   ]
  },
  {
   "cell_type": "code",
   "execution_count": 28,
   "metadata": {
    "collapsed": true
   },
   "outputs": [],
   "source": [
    "def retrieve_interaction_score_from_stim_WT(row, colname):\n",
    "    try:\n",
    "        return stim_WT_all_df.loc[idx[row['chr1'], row['start1'], row['start2']], colname]\n",
    "    except:\n",
    "        return 0\n",
    "\n",
    "lost_interactions_df['stim_WT_CD8_score'] = lost_interactions_df.apply(lambda row: retrieve_interaction_score_from_stim_WT(row, 'score'), axis=1)\n",
    "lost_interactions_df['stim_WT_CD8_balanced_count'] = lost_interactions_df.apply(lambda row: retrieve_interaction_score_from_stim_WT(row, 'balanced_count'), axis=1)"
   ]
  },
  {
   "cell_type": "code",
   "execution_count": 33,
   "metadata": {
    "collapsed": true
   },
   "outputs": [],
   "source": [
    "lost_interactions_df['diff_score'] = lost_interactions_df['WT_CD8_score'] - lost_interactions_df['stim_WT_CD8_score']\n",
    "lost_interactions_df['diff_balanced_count'] = lost_interactions_df['WT_CD8_balanced_count'] - lost_interactions_df['stim_WT_CD8_balanced_count']"
   ]
  },
  {
   "cell_type": "code",
   "execution_count": 34,
   "metadata": {
    "collapsed": true
   },
   "outputs": [],
   "source": [
    "lost_interactions_df.to_csv('/home/zzeng/cloud_research/PengGroup/ZZeng/Data/Haihui/Tcf1/HiC-seq/Jul2017/iterative_mapping/WT_to_stim_WT_lost_interactions.tsv', sep='\\t', index=None)"
   ]
  },
  {
   "cell_type": "code",
   "execution_count": null,
   "metadata": {
    "collapsed": true
   },
   "outputs": [],
   "source": [
    "lost_interactions_df = pd.read_csv('/home/zzeng/cloud_research/PengGroup/ZZeng/Data/Haihui/Tcf1/HiC-seq/Jul2017/iterative_mapping/WT_to_stim_WT_lost_interactions.tsv', sep='\\t', header=0)"
   ]
  },
  {
   "cell_type": "code",
   "execution_count": 52,
   "metadata": {},
   "outputs": [
    {
     "data": {
      "text/plain": [
       "(713742, 17)"
      ]
     },
     "execution_count": 52,
     "metadata": {},
     "output_type": "execute_result"
    }
   ],
   "source": [
    "lost_interactions_df.shape"
   ]
  },
  {
   "cell_type": "code",
   "execution_count": 53,
   "metadata": {},
   "outputs": [
    {
     "data": {
      "text/plain": [
       "(1462917, 10)"
      ]
     },
     "execution_count": 53,
     "metadata": {},
     "output_type": "execute_result"
    }
   ],
   "source": [
    "WT_sig_df.shape"
   ]
  },
  {
   "cell_type": "code",
   "execution_count": 54,
   "metadata": {},
   "outputs": [
    {
     "data": {
      "text/plain": [
       "(1068444, 10)"
      ]
     },
     "execution_count": 54,
     "metadata": {},
     "output_type": "execute_result"
    }
   ],
   "source": [
    "stim_WT_sig_df.shape"
   ]
  },
  {
   "cell_type": "code",
   "execution_count": null,
   "metadata": {
    "collapsed": true
   },
   "outputs": [],
   "source": []
  },
  {
   "cell_type": "code",
   "execution_count": 8,
   "metadata": {
    "collapsed": true
   },
   "outputs": [],
   "source": [
    "all_genes_dict = {}\n",
    "\n",
    "all_genes_bed_file = HTSeq.BED_Reader('/home/zzeng/cloud_research/PengGroup/ZZeng/Annotation/gene_iv/mm9/gene_promoter_1k_iv_unique.bed')\n",
    "for alt in all_genes_bed_file:\n",
    "    all_genes_dict[alt.name] = alt.iv"
   ]
  },
  {
   "cell_type": "code",
   "execution_count": 9,
   "metadata": {
    "collapsed": true
   },
   "outputs": [],
   "source": [
    "all_genes_tuples = []\n",
    "\n",
    "for gene_id, gene_iv in all_genes_dict.iteritems():\n",
    "    gene_chrom = gene_iv.chrom\n",
    "\n",
    "    gene_mid = (gene_iv.start + gene_iv.end) / 2\n",
    "    gene_bin_start = gene_mid / 10000 * 10000\n",
    "    \n",
    "    all_genes_tuples.append((gene_chrom, gene_bin_start))\n",
    "all_genes_tuples = set(all_genes_tuples)\n",
    "\n",
    "\n",
    "up_genes_tuples = []\n",
    "\n",
    "for gene_id, gene_iv in up_genes_dict.iteritems():\n",
    "    gene_chrom = gene_iv.chrom\n",
    "\n",
    "    gene_mid = (gene_iv.start + gene_iv.end) / 2\n",
    "    gene_bin_start = gene_mid / 10000 * 10000\n",
    "    \n",
    "    up_genes_tuples.append((gene_chrom, gene_bin_start))\n",
    "up_genes_tuples = set(up_genes_tuples)\n",
    "\n",
    "\n",
    "down_genes_tuples = []\n",
    "\n",
    "for gene_id, gene_iv in down_genes_dict.iteritems():\n",
    "    gene_chrom = gene_iv.chrom\n",
    "\n",
    "    gene_mid = (gene_iv.start + gene_iv.end) / 2\n",
    "    gene_bin_start = gene_mid / 10000 * 10000\n",
    "    \n",
    "    down_genes_tuples.append((gene_chrom, gene_bin_start))\n",
    "down_genes_tuples = set(down_genes_tuples)"
   ]
  },
  {
   "cell_type": "code",
   "execution_count": 10,
   "metadata": {
    "collapsed": true
   },
   "outputs": [],
   "source": [
    "all_genes_tuples_dict = collections.defaultdict(lambda: [])\n",
    "\n",
    "for gene_id, gene_iv in all_genes_dict.iteritems():\n",
    "    gene_chrom = gene_iv.chrom\n",
    "\n",
    "    gene_mid = (gene_iv.start + gene_iv.end) / 2\n",
    "    gene_bin_start = gene_mid / 10000 * 10000\n",
    "    \n",
    "    all_genes_tuples_dict[(gene_chrom, gene_bin_start)].append(gene_id)\n",
    "    \n",
    "\n",
    "up_genes_tuples_dict = collections.defaultdict(lambda: [])\n",
    "\n",
    "for gene_id, gene_iv in up_genes_dict.iteritems():\n",
    "    gene_chrom = gene_iv.chrom\n",
    "\n",
    "    gene_mid = (gene_iv.start + gene_iv.end) / 2\n",
    "    gene_bin_start = gene_mid / 10000 * 10000\n",
    "    \n",
    "    up_genes_tuples_dict[(gene_chrom, gene_bin_start)].append(gene_id)\n",
    "\n",
    "    \n",
    "down_genes_tuples_dict = collections.defaultdict(lambda: [])\n",
    "\n",
    "for gene_id, gene_iv in down_genes_dict.iteritems():\n",
    "    gene_chrom = gene_iv.chrom\n",
    "\n",
    "    gene_mid = (gene_iv.start + gene_iv.end) / 2\n",
    "    gene_bin_start = gene_mid / 10000 * 10000\n",
    "    \n",
    "    down_genes_tuples_dict[(gene_chrom, gene_bin_start)].append(gene_id)"
   ]
  },
  {
   "cell_type": "code",
   "execution_count": null,
   "metadata": {
    "collapsed": true
   },
   "outputs": [],
   "source": []
  },
  {
   "cell_type": "code",
   "execution_count": 146,
   "metadata": {
    "collapsed": true
   },
   "outputs": [],
   "source": [
    "top_lost_interactions_df = lost_interactions_df.sort_values(by='diff_score', ascending=False).iloc[:2000,:]"
   ]
  },
  {
   "cell_type": "code",
   "execution_count": 147,
   "metadata": {
    "collapsed": true
   },
   "outputs": [],
   "source": [
    "top_lost_interactions_df['all_gene_TSS_at_interaction_site'] = top_lost_interactions_df.apply(lambda row: True if ((row['chr1'], row['start1']) in all_genes_tuples) or ((row['chr1'], row['start2']) in all_genes_tuples) else False, axis=1)\n",
    "top_lost_interactions_df['up_gene_TSS_at_interaction_site'] = top_lost_interactions_df.apply(lambda row: True if ((row['chr1'], row['start1']) in up_genes_tuples) or ((row['chr1'], row['start2']) in up_genes_tuples) else False, axis=1)\n",
    "top_lost_interactions_df['down_gene_TSS_at_interaction_site'] = top_lost_interactions_df.apply(lambda row: True if ((row['chr1'], row['start1']) in down_genes_tuples) or ((row['chr1'], row['start2']) in down_genes_tuples) else False, axis=1)"
   ]
  },
  {
   "cell_type": "code",
   "execution_count": 142,
   "metadata": {},
   "outputs": [
    {
     "name": "stdout",
     "output_type": "stream",
     "text": [
      "20910 45917\n",
      "1186 4317\n",
      "958 3860\n"
     ]
    }
   ],
   "source": [
    "print len(all_genes_tuples), top_lost_interactions_df[top_lost_interactions_df.all_gene_TSS_at_interaction_site].shape[0]\n",
    "print len(up_genes_tuples), top_lost_interactions_df[top_lost_interactions_df.up_gene_TSS_at_interaction_site].shape[0]\n",
    "print len(down_genes_tuples), top_lost_interactions_df[top_lost_interactions_df.down_gene_TSS_at_interaction_site].shape[0]"
   ]
  },
  {
   "cell_type": "code",
   "execution_count": 143,
   "metadata": {},
   "outputs": [
    {
     "name": "stdout",
     "output_type": "stream",
     "text": [
      "3.0e-51\n",
      "8.5e-62\n"
     ]
    }
   ],
   "source": [
    "v1 = len(all_genes_tuples)\n",
    "v2 = len(up_genes_tuples)\n",
    "v3 = top_lost_interactions_df[top_lost_interactions_df.all_gene_TSS_at_interaction_site].shape[0]\n",
    "v4 = top_lost_interactions_df[top_lost_interactions_df.up_gene_TSS_at_interaction_site].shape[0]\n",
    "\n",
    "print '%.1e' % scipy.stats.chi2_contingency(np.array([[v1, v2], [v3, v4]]))[1]\n",
    "\n",
    "v2 = len(down_genes_tuples)\n",
    "v4 = top_lost_interactions_df[top_lost_interactions_df.down_gene_TSS_at_interaction_site].shape[0]\n",
    "print '%.1e' % scipy.stats.chi2_contingency(np.array([[v1, v2], [v3, v4]]))[1]"
   ]
  },
  {
   "cell_type": "code",
   "execution_count": 58,
   "metadata": {
    "collapsed": true
   },
   "outputs": [],
   "source": [
    "def helper(genes_tuples_dict, row):\n",
    "    if (row['chr1'], row['start1']) in genes_tuples_dict:\n",
    "        return genes_tuples_dict[(row['chr1'], row['start1'])]\n",
    "    else:\n",
    "        return genes_tuples_dict[(row['chr1'], row['start2'])]"
   ]
  },
  {
   "cell_type": "code",
   "execution_count": 144,
   "metadata": {},
   "outputs": [
    {
     "name": "stdout",
     "output_type": "stream",
     "text": [
      "13889\n",
      "993\n",
      "814\n"
     ]
    }
   ],
   "source": [
    "print len(set(reduce(lambda x, y: x + y, top_lost_interactions_df[top_lost_interactions_df.all_gene_TSS_at_interaction_site].apply(lambda row: helper(all_genes_tuples_dict, row), axis=1).tolist(), [])))\n",
    "print len(set(reduce(lambda x, y: x + y, top_lost_interactions_df[top_lost_interactions_df.up_gene_TSS_at_interaction_site].apply(lambda row: helper(up_genes_tuples_dict, row), axis=1).tolist(), [])))\n",
    "print len(set(reduce(lambda x, y: x + y, top_lost_interactions_df[top_lost_interactions_df.down_gene_TSS_at_interaction_site].apply(lambda row: helper(down_genes_tuples_dict, row), axis=1).tolist(), [])))"
   ]
  },
  {
   "cell_type": "code",
   "execution_count": 145,
   "metadata": {},
   "outputs": [
    {
     "name": "stdout",
     "output_type": "stream",
     "text": [
      "2.0e-07\n",
      "5.1e-07\n"
     ]
    }
   ],
   "source": [
    "v3 = len(set(reduce(lambda x, y: x + y, top_lost_interactions_df[top_lost_interactions_df.all_gene_TSS_at_interaction_site].apply(lambda row: helper(all_genes_tuples_dict, row), axis=1).tolist(), [])))\n",
    "\n",
    "v2 = len(up_genes_tuples)\n",
    "v4 = len(set(reduce(lambda x, y: x + y, top_lost_interactions_df[top_lost_interactions_df.up_gene_TSS_at_interaction_site].apply(lambda row: helper(up_genes_tuples_dict, row), axis=1).tolist(), [])))\n",
    "\n",
    "print '%.1e' % scipy.stats.chi2_contingency(np.array([[v1, v2], [v3, v4]]))[1]\n",
    "\n",
    "v2 = len(down_genes_tuples)\n",
    "v4 = len(set(reduce(lambda x, y: x + y, top_lost_interactions_df[top_lost_interactions_df.down_gene_TSS_at_interaction_site].apply(lambda row: helper(down_genes_tuples_dict, row), axis=1).tolist(), [])))\n",
    "\n",
    "print '%.1e' % scipy.stats.chi2_contingency(np.array([[v1, v2], [v3, v4]]))[1]"
   ]
  },
  {
   "cell_type": "code",
   "execution_count": null,
   "metadata": {
    "collapsed": true
   },
   "outputs": [],
   "source": []
  },
  {
   "cell_type": "code",
   "execution_count": 148,
   "metadata": {},
   "outputs": [
    {
     "name": "stdout",
     "output_type": "stream",
     "text": [
      "set(['Chst12', 'Tbcc', 'Parp11', 'Kdm8', 'Cbx2', 'Cinp', 'Cdc7', 'Nek2', 'Kif24', 'Zfp790', 'Mbd4', 'Emc8', 'Vdac3', '2210016L21Rik', 'Tssc1', 'Rad51c', 'Hirip3', 'Neurl1b', 'Recql4', 'Tecpr2', 'F2r', 'Cish', '1700001O22Rik', 'Rfc2', 'Dscc1', 'Cd48', 'Nudt2', 'Uhrf1', 'Tnfrsf18', 'Zfp60'])\n"
     ]
    }
   ],
   "source": [
    "print set(reduce(lambda x, y: x + y, top_lost_interactions_df[top_lost_interactions_df.up_gene_TSS_at_interaction_site].apply(lambda row: helper(up_genes_tuples_dict, row), axis=1).tolist(), []))"
   ]
  },
  {
   "cell_type": "code",
   "execution_count": 150,
   "metadata": {},
   "outputs": [
    {
     "name": "stdout",
     "output_type": "stream",
     "text": [
      "set(['Bsdc1', 'Gpr183', 'Smim7', 'Leng8', 'Qprt', 'Rgcc', 'D8Ertd82e', 'Tnfaip3', 'Zfpm1', 'Slc35f6', 'Tubb2a', 'Matk', 'Tgif1', 'Zfp330', 'Rgl2', 'Amz2', 'Smad7', 'Plcxd2', 'Xylt1', 'Abt1', 'Dyrk2', 'Rgs3', 'Tiprl', 'Kremen1', 'Slc25a38', 'Cd74', 'Hsph1', 'Arid5a', 'Oasl1', 'Bambi', 'Snhg1', 'Cxcr4', 'Tdrp', 'Fuk', 'Rasgef1b', 'Cd28', 'Btg1', 'Zhx2', 'Il21r', 'Rap1b', 'Agrn', 'Isg15', 'Mvb12b', 'Zcchc2', 'Ccdc88c'])\n"
     ]
    }
   ],
   "source": [
    "print set(reduce(lambda x, y: x + y, top_lost_interactions_df[top_lost_interactions_df.down_gene_TSS_at_interaction_site].apply(lambda row: helper(down_genes_tuples_dict, row), axis=1).tolist(), []))"
   ]
  },
  {
   "cell_type": "code",
   "execution_count": 149,
   "metadata": {},
   "outputs": [
    {
     "data": {
      "text/plain": [
       "'1700001O22Rik, 2210016L21Rik, Cbx2, Cd48, Cdc7, Chst12, Cinp, Cish, Dscc1, Emc8, F2r, Hirip3, Kdm8, Kif24, Mbd4, Nek2, Neurl1b, Nudt2, Parp11, Rad51c, Recql4, Rfc2, Tbcc, Tecpr2, Tnfrsf18, Tssc1, Uhrf1, Vdac3, Zfp60, Zfp790'"
      ]
     },
     "execution_count": 149,
     "metadata": {},
     "output_type": "execute_result"
    }
   ],
   "source": [
    "', '.join(sorted(['Chst12', 'Tbcc', 'Parp11', 'Kdm8', 'Cbx2', 'Cinp', 'Cdc7', 'Nek2', 'Kif24', 'Zfp790', 'Mbd4', 'Emc8', 'Vdac3', '2210016L21Rik', 'Tssc1', 'Rad51c', 'Hirip3', 'Neurl1b', 'Recql4', 'Tecpr2', 'F2r', 'Cish', '1700001O22Rik', 'Rfc2', 'Dscc1', 'Cd48', 'Nudt2', 'Uhrf1', 'Tnfrsf18', 'Zfp60']))"
   ]
  },
  {
   "cell_type": "code",
   "execution_count": 151,
   "metadata": {},
   "outputs": [
    {
     "data": {
      "text/plain": [
       "'Abt1, Agrn, Amz2, Arid5a, Bambi, Bsdc1, Btg1, Ccdc88c, Cd28, Cd74, Cxcr4, D8Ertd82e, Dyrk2, Fuk, Gpr183, Hsph1, Il21r, Isg15, Kremen1, Leng8, Matk, Mvb12b, Oasl1, Plcxd2, Qprt, Rap1b, Rasgef1b, Rgcc, Rgl2, Rgs3, Slc25a38, Slc35f6, Smad7, Smim7, Snhg1, Tdrp, Tgif1, Tiprl, Tnfaip3, Tubb2a, Xylt1, Zcchc2, Zfp330, Zfpm1, Zhx2'"
      ]
     },
     "execution_count": 151,
     "metadata": {},
     "output_type": "execute_result"
    }
   ],
   "source": [
    "', '.join(sorted(['Bsdc1', 'Gpr183', 'Smim7', 'Leng8', 'Qprt', 'Rgcc', 'D8Ertd82e', 'Tnfaip3', 'Zfpm1', 'Slc35f6', 'Tubb2a', 'Matk', 'Tgif1', 'Zfp330', 'Rgl2', 'Amz2', 'Smad7', 'Plcxd2', 'Xylt1', 'Abt1', 'Dyrk2', 'Rgs3', 'Tiprl', 'Kremen1', 'Slc25a38', 'Cd74', 'Hsph1', 'Arid5a', 'Oasl1', 'Bambi', 'Snhg1', 'Cxcr4', 'Tdrp', 'Fuk', 'Rasgef1b', 'Cd28', 'Btg1', 'Zhx2', 'Il21r', 'Rap1b', 'Agrn', 'Isg15', 'Mvb12b', 'Zcchc2', 'Ccdc88c']))"
   ]
  },
  {
   "cell_type": "code",
   "execution_count": 75,
   "metadata": {
    "collapsed": true
   },
   "outputs": [],
   "source": [
    "import scipy"
   ]
  },
  {
   "cell_type": "code",
   "execution_count": 91,
   "metadata": {},
   "outputs": [
    {
     "data": {
      "text/plain": [
       "(15.115614071038255,\n",
       " 0.00010112342626251068,\n",
       " 1,\n",
       " array([[ 20828.70108386,   1048.29891614],\n",
       "        [ 15889.29891614,    799.70108386]]))"
      ]
     },
     "execution_count": 91,
     "metadata": {},
     "output_type": "execute_result"
    }
   ],
   "source": []
  },
  {
   "cell_type": "code",
   "execution_count": null,
   "metadata": {
    "collapsed": true
   },
   "outputs": [],
   "source": []
  },
  {
   "cell_type": "code",
   "execution_count": 92,
   "metadata": {
    "collapsed": true
   },
   "outputs": [],
   "source": [
    "gain_interactions_df = stim_WT_sig_df.loc[stim_WT_sig_df.index.difference(WT_sig_df.index),:]\n",
    "gain_interactions_df.rename(columns={'score': 'stim_WT_CD8_score', 'balanced_count': 'stim_WT_CD8_balanced_count'}, inplace=True) \n",
    "gain_interactions_df.reset_index(inplace=True)"
   ]
  },
  {
   "cell_type": "code",
   "execution_count": 93,
   "metadata": {
    "collapsed": true
   },
   "outputs": [],
   "source": [
    "def retrieve_interaction_score_from_WT(row, colname):\n",
    "    try:\n",
    "        return WT_all_df.loc[idx[row['chr1'], row['start1'], row['start2']], colname]\n",
    "    except:\n",
    "        return 0\n",
    "\n",
    "gain_interactions_df['WT_CD8_score'] = gain_interactions_df.apply(lambda row: retrieve_interaction_score_from_WT(row, 'score'), axis=1)\n",
    "gain_interactions_df['WT_CD8_balanced_count'] = gain_interactions_df.apply(lambda row: retrieve_interaction_score_from_WT(row, 'balanced_count'), axis=1)"
   ]
  },
  {
   "cell_type": "code",
   "execution_count": 94,
   "metadata": {
    "collapsed": true
   },
   "outputs": [],
   "source": [
    "gain_interactions_df['diff_score'] = gain_interactions_df['stim_WT_CD8_score'] - gain_interactions_df['WT_CD8_score']\n",
    "gain_interactions_df['diff_balanced_count'] = gain_interactions_df['stim_WT_CD8_balanced_count'] - gain_interactions_df['WT_CD8_balanced_count']"
   ]
  },
  {
   "cell_type": "code",
   "execution_count": 152,
   "metadata": {},
   "outputs": [
    {
     "data": {
      "text/plain": [
       "(319269, 17)"
      ]
     },
     "execution_count": 152,
     "metadata": {},
     "output_type": "execute_result"
    }
   ],
   "source": [
    "gain_interactions_df.shape"
   ]
  },
  {
   "cell_type": "code",
   "execution_count": 95,
   "metadata": {
    "collapsed": true
   },
   "outputs": [],
   "source": [
    "gain_interactions_df.to_csv('/home/zzeng/cloud_research/PengGroup/ZZeng/Data/Haihui/Tcf1/HiC-seq/Jul2017/iterative_mapping/WT_to_stim_WT_gain_interactions.tsv', sep='\\t', index=None)"
   ]
  },
  {
   "cell_type": "code",
   "execution_count": 6,
   "metadata": {
    "collapsed": true
   },
   "outputs": [],
   "source": [
    "gain_interactions_df = pd.read_csv('/home/zzeng/cloud_research/PengGroup/ZZeng/Data/Haihui/Tcf1/HiC-seq/Jul2017/iterative_mapping/WT_to_stim_WT_gain_interactions.tsv', sep='\\t', header=0)"
   ]
  },
  {
   "cell_type": "code",
   "execution_count": null,
   "metadata": {
    "collapsed": true
   },
   "outputs": [],
   "source": []
  },
  {
   "cell_type": "code",
   "execution_count": 17,
   "metadata": {
    "collapsed": true
   },
   "outputs": [],
   "source": [
    "import scipy"
   ]
  },
  {
   "cell_type": "code",
   "execution_count": 13,
   "metadata": {
    "collapsed": true
   },
   "outputs": [],
   "source": [
    "top_gain_interactions_df = gain_interactions_df.sort_values(by='diff_score', ascending=False).iloc[:200000,:]"
   ]
  },
  {
   "cell_type": "code",
   "execution_count": 14,
   "metadata": {
    "collapsed": true
   },
   "outputs": [],
   "source": [
    "top_gain_interactions_df['all_gene_TSS_at_interaction_site'] = top_gain_interactions_df.apply(lambda row: True if ((row['chr1'], row['start1']) in all_genes_tuples) or ((row['chr1'], row['start2']) in all_genes_tuples) else False, axis=1)\n",
    "top_gain_interactions_df['up_gene_TSS_at_interaction_site'] = top_gain_interactions_df.apply(lambda row: True if ((row['chr1'], row['start1']) in up_genes_tuples) or ((row['chr1'], row['start2']) in up_genes_tuples) else False, axis=1)\n",
    "top_gain_interactions_df['down_gene_TSS_at_interaction_site'] = top_gain_interactions_df.apply(lambda row: True if ((row['chr1'], row['start1']) in down_genes_tuples) or ((row['chr1'], row['start2']) in down_genes_tuples) else False, axis=1)"
   ]
  },
  {
   "cell_type": "code",
   "execution_count": 15,
   "metadata": {},
   "outputs": [
    {
     "name": "stdout",
     "output_type": "stream",
     "text": [
      "20910 60377\n",
      "1186 6448\n",
      "958 4511\n"
     ]
    }
   ],
   "source": [
    "print len(all_genes_tuples), top_gain_interactions_df[top_gain_interactions_df.all_gene_TSS_at_interaction_site].shape[0]\n",
    "print len(up_genes_tuples), top_gain_interactions_df[top_gain_interactions_df.up_gene_TSS_at_interaction_site].shape[0]\n",
    "print len(down_genes_tuples), top_gain_interactions_df[top_gain_interactions_df.down_gene_TSS_at_interaction_site].shape[0]"
   ]
  },
  {
   "cell_type": "code",
   "execution_count": 16,
   "metadata": {},
   "outputs": [
    {
     "ename": "NameError",
     "evalue": "name 'scipy' is not defined",
     "output_type": "error",
     "traceback": [
      "\u001b[0;31m---------------------------------------------------------------------------\u001b[0m",
      "\u001b[0;31mNameError\u001b[0m                                 Traceback (most recent call last)",
      "\u001b[0;32m<ipython-input-16-0e3e29fe017c>\u001b[0m in \u001b[0;36m<module>\u001b[0;34m()\u001b[0m\n\u001b[1;32m      4\u001b[0m \u001b[0mv4\u001b[0m \u001b[0;34m=\u001b[0m \u001b[0mtop_gain_interactions_df\u001b[0m\u001b[0;34m[\u001b[0m\u001b[0mtop_gain_interactions_df\u001b[0m\u001b[0;34m.\u001b[0m\u001b[0mup_gene_TSS_at_interaction_site\u001b[0m\u001b[0;34m]\u001b[0m\u001b[0;34m.\u001b[0m\u001b[0mshape\u001b[0m\u001b[0;34m[\u001b[0m\u001b[0;36m0\u001b[0m\u001b[0;34m]\u001b[0m\u001b[0;34m\u001b[0m\u001b[0m\n\u001b[1;32m      5\u001b[0m \u001b[0;34m\u001b[0m\u001b[0m\n\u001b[0;32m----> 6\u001b[0;31m \u001b[0;32mprint\u001b[0m \u001b[0;34m'%.1e'\u001b[0m \u001b[0;34m%\u001b[0m \u001b[0mscipy\u001b[0m\u001b[0;34m.\u001b[0m\u001b[0mstats\u001b[0m\u001b[0;34m.\u001b[0m\u001b[0mchi2_contingency\u001b[0m\u001b[0;34m(\u001b[0m\u001b[0mnp\u001b[0m\u001b[0;34m.\u001b[0m\u001b[0marray\u001b[0m\u001b[0;34m(\u001b[0m\u001b[0;34m[\u001b[0m\u001b[0;34m[\u001b[0m\u001b[0mv1\u001b[0m\u001b[0;34m,\u001b[0m \u001b[0mv2\u001b[0m\u001b[0;34m]\u001b[0m\u001b[0;34m,\u001b[0m \u001b[0;34m[\u001b[0m\u001b[0mv3\u001b[0m\u001b[0;34m,\u001b[0m \u001b[0mv4\u001b[0m\u001b[0;34m]\u001b[0m\u001b[0;34m]\u001b[0m\u001b[0;34m)\u001b[0m\u001b[0;34m)\u001b[0m\u001b[0;34m[\u001b[0m\u001b[0;36m1\u001b[0m\u001b[0;34m]\u001b[0m\u001b[0;34m\u001b[0m\u001b[0m\n\u001b[0m\u001b[1;32m      7\u001b[0m \u001b[0;34m\u001b[0m\u001b[0m\n\u001b[1;32m      8\u001b[0m \u001b[0mv2\u001b[0m \u001b[0;34m=\u001b[0m \u001b[0mlen\u001b[0m\u001b[0;34m(\u001b[0m\u001b[0mdown_genes_tuples\u001b[0m\u001b[0;34m)\u001b[0m\u001b[0;34m\u001b[0m\u001b[0m\n",
      "\u001b[0;31mNameError\u001b[0m: name 'scipy' is not defined"
     ]
    }
   ],
   "source": [
    "v1 = len(all_genes_tuples)\n",
    "v2 = len(up_genes_tuples)\n",
    "v3 = top_gain_interactions_df[top_gain_interactions_df.all_gene_TSS_at_interaction_site].shape[0]\n",
    "v4 = top_gain_interactions_df[top_gain_interactions_df.up_gene_TSS_at_interaction_site].shape[0]\n",
    "\n",
    "print '%.1e' % scipy.stats.chi2_contingency(np.array([[v1, v2], [v3, v4]]))[1]\n",
    "\n",
    "v2 = len(down_genes_tuples)\n",
    "v4 = top_gain_interactions_df[top_gain_interactions_df.down_gene_TSS_at_interaction_site].shape[0]\n",
    "print '%.1e' % scipy.stats.chi2_contingency(np.array([[v1, v2], [v3, v4]]))[1]"
   ]
  },
  {
   "cell_type": "code",
   "execution_count": 180,
   "metadata": {},
   "outputs": [
    {
     "name": "stdout",
     "output_type": "stream",
     "text": [
      "14849\n",
      "1079\n",
      "819\n"
     ]
    }
   ],
   "source": [
    "print len(set(reduce(lambda x, y: x + y, top_gain_interactions_df[top_gain_interactions_df.all_gene_TSS_at_interaction_site].apply(lambda row: helper(all_genes_tuples_dict, row), axis=1).tolist(), [])))\n",
    "print len(set(reduce(lambda x, y: x + y, top_gain_interactions_df[top_gain_interactions_df.up_gene_TSS_at_interaction_site].apply(lambda row: helper(up_genes_tuples_dict, row), axis=1).tolist(), [])))\n",
    "print len(set(reduce(lambda x, y: x + y, top_gain_interactions_df[top_gain_interactions_df.down_gene_TSS_at_interaction_site].apply(lambda row: helper(down_genes_tuples_dict, row), axis=1).tolist(), [])))"
   ]
  },
  {
   "cell_type": "code",
   "execution_count": 181,
   "metadata": {},
   "outputs": [
    {
     "name": "stdout",
     "output_type": "stream",
     "text": [
      "1.2e-08\n",
      "1.5e-04\n"
     ]
    }
   ],
   "source": [
    "v3 = len(set(reduce(lambda x, y: x + y, top_gain_interactions_df[top_gain_interactions_df.all_gene_TSS_at_interaction_site].apply(lambda row: helper(all_genes_tuples_dict, row), axis=1).tolist(), [])))\n",
    "\n",
    "v2 = len(up_genes_tuples)\n",
    "v4 = len(set(reduce(lambda x, y: x + y, top_gain_interactions_df[top_gain_interactions_df.up_gene_TSS_at_interaction_site].apply(lambda row: helper(up_genes_tuples_dict, row), axis=1).tolist(), [])))\n",
    "\n",
    "print '%.1e' % scipy.stats.chi2_contingency(np.array([[v1, v2], [v3, v4]]))[1]\n",
    "\n",
    "v2 = len(down_genes_tuples)\n",
    "v4 = len(set(reduce(lambda x, y: x + y, top_gain_interactions_df[top_gain_interactions_df.down_gene_TSS_at_interaction_site].apply(lambda row: helper(down_genes_tuples_dict, row), axis=1).tolist(), [])))\n",
    "\n",
    "print '%.1e' % scipy.stats.chi2_contingency(np.array([[v1, v2], [v3, v4]]))[1]"
   ]
  },
  {
   "cell_type": "code",
   "execution_count": null,
   "metadata": {
    "collapsed": true
   },
   "outputs": [],
   "source": []
  },
  {
   "cell_type": "code",
   "execution_count": 185,
   "metadata": {},
   "outputs": [
    {
     "name": "stdout",
     "output_type": "stream",
     "text": [
      "set(['Cep55', 'Ctnnb1', 'Txn1', 'Gyg', 'Itgb3', 'Pigc', 'C330027C09Rik', 'Wdr12', 'Ska3', 'Ska2', 'Slc30a4', 'Pxmp2', 'Them6', 'Zgrf1', 'Bub1', 'Tacc3', 'Mrpl45', 'Nudt1', 'Pole', 'Ceacam15', 'Gm4532', 'Kif4', 'Uba6', 'Cnpy2', 'Kif20b', 'Psmb2', 'Cdc7', 'Zfp553', 'Rpa3', 'Prr11', 'Gatad1', 'Wdr76', 'Map3k8', 'Ly6a', 'Timeless', 'Map3k5', 'Tfrc', 'Dna2', 'Tada2a', 'Spag5', 'Mgst2', 'Osm', 'Cdk6', 'Tmem107', '2700094K13Rik', 'Whsc1', 'Ftsj2', 'Gbp5', 'Ezh2', 'Setbp1', 'Fut11', 'Rwdd2b', 'Gpsm2', 'Pros1', 'Gm4890', 'Mov10', 'Rcn1', 'Itpripl1', 'Lrrc32', 'Ppm1j', 'Itpa', 'Nhp2', '2810417H13Rik', 'Senp8', 'Rrp1b', 'Anln', 'Tmem129', 'Nbn', 'Chaf1a', 'Zscan12', 'Ap5b1', 'Espl1', 'Cdca5', 'Zbtb26', 'Gcsh', 'Nipa1', 'Jdp2', 'Leprel4', 'Shisa2', 'Dclre1b', 'Sephs1', 'Cercam', 'Zbtb8os', 'Fem1b', 'Rps27l', 'Mast2', 'Fanca', 'Prelid2', 'Sapcd2'])\n"
     ]
    }
   ],
   "source": [
    "print set(reduce(lambda x, y: x + y, top_gain_interactions_df[top_gain_interactions_df.up_gene_TSS_at_interaction_site].apply(lambda row: helper(up_genes_tuples_dict, row), axis=1).tolist(), []))"
   ]
  },
  {
   "cell_type": "code",
   "execution_count": 186,
   "metadata": {},
   "outputs": [
    {
     "name": "stdout",
     "output_type": "stream",
     "text": [
      "set(['Errfi1', 'Rab33b', 'Tet1', 'Epc2', 'Fbxo33', 'Zfp592', 'Dusp6', 'Ctla4', 'Bend4', 'C330024D21Rik', 'Abi2', 'Ier5', 'Prdm11', 'P2ry10', 'Ier2', 'Nfkbiz', 'Zfp36', 'Arc', 'Dyrk1a', 'Bcl6', 'Pacs1', 'Gem', 'Ankrd50', 'Uvssa', 'Ccl4', 'Plk2', 'Glycam1', 'Med7', 'Sipa1', 'St7l', 'Sox4', 'Inpp5a', 'Armc5', 'A930024E05Rik', 'Plekhm3', 'Rictor', 'Arl5b'])\n"
     ]
    }
   ],
   "source": [
    "print set(reduce(lambda x, y: x + y, top_gain_interactions_df[top_gain_interactions_df.down_gene_TSS_at_interaction_site].apply(lambda row: helper(down_genes_tuples_dict, row), axis=1).tolist(), []))"
   ]
  },
  {
   "cell_type": "code",
   "execution_count": 187,
   "metadata": {},
   "outputs": [
    {
     "data": {
      "text/plain": [
       "'2700094K13Rik, 2810417H13Rik, Anln, Ap5b1, Bub1, C330027C09Rik, Cdc7, Cdca5, Cdk6, Ceacam15, Cep55, Cercam, Chaf1a, Cnpy2, Ctnnb1, Dclre1b, Dna2, Espl1, Ezh2, Fanca, Fem1b, Ftsj2, Fut11, Gatad1, Gbp5, Gcsh, Gm4532, Gm4890, Gpsm2, Gyg, Itgb3, Itpa, Itpripl1, Jdp2, Kif20b, Kif4, Leprel4, Lrrc32, Ly6a, Map3k5, Map3k8, Mast2, Mgst2, Mov10, Mrpl45, Nbn, Nhp2, Nipa1, Nudt1, Osm, Pigc, Pole, Ppm1j, Prelid2, Pros1, Prr11, Psmb2, Pxmp2, Rcn1, Rpa3, Rps27l, Rrp1b, Rwdd2b, Sapcd2, Senp8, Sephs1, Setbp1, Shisa2, Ska2, Ska3, Slc30a4, Spag5, Tacc3, Tada2a, Tfrc, Them6, Timeless, Tmem107, Tmem129, Txn1, Uba6, Wdr12, Wdr76, Whsc1, Zbtb26, Zbtb8os, Zfp553, Zgrf1, Zscan12'"
      ]
     },
     "execution_count": 187,
     "metadata": {},
     "output_type": "execute_result"
    }
   ],
   "source": [
    "', '.join(sorted(['Cep55', 'Ctnnb1', 'Txn1', 'Gyg', 'Itgb3', 'Pigc', 'C330027C09Rik', 'Wdr12', 'Ska3', 'Ska2', 'Slc30a4', 'Pxmp2', 'Them6', 'Zgrf1', 'Bub1', 'Tacc3', 'Mrpl45', 'Nudt1', 'Pole', 'Ceacam15', 'Gm4532', 'Kif4', 'Uba6', 'Cnpy2', 'Kif20b', 'Psmb2', 'Cdc7', 'Zfp553', 'Rpa3', 'Prr11', 'Gatad1', 'Wdr76', 'Map3k8', 'Ly6a', 'Timeless', 'Map3k5', 'Tfrc', 'Dna2', 'Tada2a', 'Spag5', 'Mgst2', 'Osm', 'Cdk6', 'Tmem107', '2700094K13Rik', 'Whsc1', 'Ftsj2', 'Gbp5', 'Ezh2', 'Setbp1', 'Fut11', 'Rwdd2b', 'Gpsm2', 'Pros1', 'Gm4890', 'Mov10', 'Rcn1', 'Itpripl1', 'Lrrc32', 'Ppm1j', 'Itpa', 'Nhp2', '2810417H13Rik', 'Senp8', 'Rrp1b', 'Anln', 'Tmem129', 'Nbn', 'Chaf1a', 'Zscan12', 'Ap5b1', 'Espl1', 'Cdca5', 'Zbtb26', 'Gcsh', 'Nipa1', 'Jdp2', 'Leprel4', 'Shisa2', 'Dclre1b', 'Sephs1', 'Cercam', 'Zbtb8os', 'Fem1b', 'Rps27l', 'Mast2', 'Fanca', 'Prelid2', 'Sapcd2']))"
   ]
  },
  {
   "cell_type": "code",
   "execution_count": 189,
   "metadata": {},
   "outputs": [
    {
     "data": {
      "text/plain": [
       "'A930024E05Rik, Abi2, Ankrd50, Arc, Arl5b, Armc5, Bcl6, Bend4, C330024D21Rik, Ccl4, Ctla4, Dusp6, Dyrk1a, Epc2, Errfi1, Fbxo33, Gem, Glycam1, Ier2, Ier5, Inpp5a, Med7, Nfkbiz, P2ry10, Pacs1, Plekhm3, Plk2, Prdm11, Rab33b, Rictor, Sipa1, Sox4, St7l, Tet1, Uvssa, Zfp36, Zfp592'"
      ]
     },
     "execution_count": 189,
     "metadata": {},
     "output_type": "execute_result"
    }
   ],
   "source": [
    "', '.join(sorted(['Errfi1', 'Rab33b', 'Tet1', 'Epc2', 'Fbxo33', 'Zfp592', 'Dusp6', 'Ctla4', 'Bend4', 'C330024D21Rik', 'Abi2', 'Ier5', 'Prdm11', 'P2ry10', 'Ier2', 'Nfkbiz', 'Zfp36', 'Arc', 'Dyrk1a', 'Bcl6', 'Pacs1', 'Gem', 'Ankrd50', 'Uvssa', 'Ccl4', 'Plk2', 'Glycam1', 'Med7', 'Sipa1', 'St7l', 'Sox4', 'Inpp5a', 'Armc5', 'A930024E05Rik', 'Plekhm3', 'Rictor', 'Arl5b']))"
   ]
  },
  {
   "cell_type": "code",
   "execution_count": null,
   "metadata": {
    "collapsed": true
   },
   "outputs": [],
   "source": []
  }
 ],
 "metadata": {
  "kernelspec": {
   "display_name": "Python 2",
   "language": "python",
   "name": "python2"
  },
  "language_info": {
   "codemirror_mode": {
    "name": "ipython",
    "version": 2
   },
   "file_extension": ".py",
   "mimetype": "text/x-python",
   "name": "python",
   "nbconvert_exporter": "python",
   "pygments_lexer": "ipython2",
   "version": "2.7.6"
  }
 },
 "nbformat": 4,
 "nbformat_minor": 2
}
