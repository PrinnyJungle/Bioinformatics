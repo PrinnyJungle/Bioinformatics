{
 "cells": [
  {
   "cell_type": "code",
   "execution_count": 1,
   "metadata": {
    "collapsed": true
   },
   "outputs": [],
   "source": [
    "## PCA\n",
    "## Library: CD8-HP\n",
    "## This file contains the basic function of PCA.\n",
    "## Author: Xiang Li\n",
    "\n",
    "###Sample\n",
    "#### Imput Package\n",
    "import pandas as pd\n",
    "import numpy as np\n",
    "import os"
   ]
  },
  {
   "cell_type": "code",
   "execution_count": 2,
   "metadata": {
    "collapsed": true
   },
   "outputs": [],
   "source": [
    "import matplotlib\n",
    "matplotlib.use('AGG')\n",
    "import matplotlib.pyplot as plt\n",
    "import seaborn as sns\n",
    "sns.set_style(\"white\") \n",
    "\n",
    "# display plots in this notebook\n",
    "%matplotlib inline"
   ]
  },
  {
   "cell_type": "code",
   "execution_count": 3,
   "metadata": {
    "collapsed": true
   },
   "outputs": [],
   "source": [
    "#Functions to read cuffdiff outputs\n",
    "def generate_genes_FPKM_df(fname, sample_name_dict):\n",
    "    df = pd.read_csv(fname, sep='\\t', header=0)\n",
    "    \n",
    "    FPKM_df = None\n",
    "    for condition in set(df.condition):\n",
    "        for replicate in set(df.replicate):\n",
    "            temp_df = df[(df.condition == condition) & (df.replicate == replicate) & (df.FPKM >=1)].loc[:,['tracking_id', 'FPKM']]\n",
    "            temp_df.rename(columns={'tracking_id': 'gene_id', 'FPKM': sample_name_dict[(condition, replicate)]}, inplace=True)\n",
    "            if FPKM_df is None:\n",
    "                FPKM_df = temp_df\n",
    "            else:\n",
    "                #FPKM_df = FPKM_df.merge(temp_df, on='gene_id')\n",
    "                FPKM_df = FPKM_df.merge(temp_df, how='outer')\n",
    "    FPKM_df = FPKM_df.dropna(axis=1, how='all')\n",
    "    FPKM_df = FPKM_df.dropna(axis=0, how='any')\n",
    "    return FPKM_df"
   ]
  },
  {
   "cell_type": "code",
   "execution_count": 15,
   "metadata": {},
   "outputs": [
    {
     "data": {
      "text/plain": [
       "'/mnt/d/bioproject/Data/Haihui/Tcf1/HP'"
      ]
     },
     "execution_count": 15,
     "metadata": {},
     "output_type": "execute_result"
    }
   ],
   "source": [
    "os.getcwd()"
   ]
  },
  {
   "cell_type": "code",
   "execution_count": 4,
   "metadata": {
    "collapsed": true
   },
   "outputs": [],
   "source": [
    "#FPKM\n",
    "PATH_FOLDER=os.getcwd()\n",
    "################################################################################\n",
    "WT_PATH=PATH_FOLDER+'/WT/'\n",
    "WT_sample_name_dict = {('WT_CD8_0h', 0): 'WT1_CD8_0h', ('WT_CD8_0h', 1): 'WT2_CD8_0h', \\\n",
    "                       ('WT_CD8_72h', 0): 'WT1_CD8_72h', ('WT_CD8_72h', 1): 'WT2_CD8_72h' }\n",
    "WT_FPKM_df = generate_genes_FPKM_df(WT_PATH+'genes.read_group_tracking', WT_sample_name_dict)\n",
    "################################################################################\n",
    "################################################################################\n",
    "DKO_PATH=PATH_FOLDER+'/DKO/'\n",
    "DKO_sample_name_dict = {('DKO_CD8_0h', 0): 'DKO1_CD8_0h', ('DKO_CD8_0h', 1): 'DKO2_CD8_0h', \\\n",
    "                    ('DKO_CD8_72h', 0): 'DKO1_CD8_72h', ('DKO_CD8_72h', 1): 'DKO2_CD8_72h'}\n",
    "DKO_FPKM_df = generate_genes_FPKM_df( DKO_PATH+'genes.read_group_tracking', DKO_sample_name_dict)\n",
    "################################################################################\n",
    "################################################################################\n",
    "Ctrl_PATH=PATH_FOLDER+'/Ctrl-n_Ctrl-s/'\n",
    "Ctrl_sample_name_dict = {('Ctrl-n', 0): 'Ctrl-3n', ('Ctrl-n', 1): 'Ctrl-4n', \\\n",
    "                       ('Ctrl-s', 0): 'Ctrl-3s', ('Ctrl-s', 1): 'Ctrl-3s_fake' }\n",
    "Ctrl_FPKM_df = generate_genes_FPKM_df(Ctrl_PATH+'genes.read_group_tracking', Ctrl_sample_name_dict)\n",
    "################################################################################\n",
    "################################################################################\n",
    "dKO_PATH= PATH_FOLDER+'/dKO-n_dKO-s/'\n",
    "dKO_sample_name_dict = {('dKO-n', 0): 'dKO-3n', ('dKO-n', 1): 'dKO-4n', \\\n",
    "                    ('dKO-s', 0): 'dKO-3s' , ('dKO-s', 1): 'dKO-3s_fake'}\n",
    "dKO_FPKM_df = generate_genes_FPKM_df(dKO_PATH+'genes.read_group_tracking', dKO_sample_name_dict)\n",
    "################################################################################\n",
    "################################################################################\n",
    "#### FPKM Merge and heatmap\n",
    "FPKM_df = WT_FPKM_df.merge(DKO_FPKM_df, on='gene_id')\n",
    "FPKM_df = FPKM_df.merge(Ctrl_FPKM_df, on='gene_id')\n",
    "FPKM_df = FPKM_df.merge(dKO_FPKM_df, on='gene_id')\n",
    "\n",
    "FPKM_df = FPKM_df.loc[:,['gene_id','WT1_CD8_0h','WT2_CD8_0h','Ctrl-3n', 'Ctrl-4n', 'DKO1_CD8_0h', 'DKO2_CD8_0h', 'dKO-3n', 'dKO-4n', 'WT1_CD8_72h','WT2_CD8_72h','Ctrl-3s', 'DKO1_CD8_72h', 'DKO2_CD8_72h', 'dKO-3s']]\n",
    "\n",
    "\n",
    "######## Choose data matched to gene list kept\n",
    "diff_exps_gene_list = pd.read_csv( PATH_FOLDER +'/Differential_Expression_genelists.csv', header=None, names={'gene_id'}  )\n",
    "\n",
    "diff_exps_gene_list_df= FPKM_df.merge(diff_exps_gene_list, on='gene_id')\n",
    "\n",
    "diff_exps_gene_list_df = diff_exps_gene_list_df.set_index('gene_id')\n"
   ]
  },
  {
   "cell_type": "code",
   "execution_count": 19,
   "metadata": {},
   "outputs": [
    {
     "data": {
      "text/plain": [
       "['C0',\n",
       " 'C1',\n",
       " 'C2',\n",
       " 'C3',\n",
       " 'C4',\n",
       " 'C5',\n",
       " 'C6',\n",
       " 'C7',\n",
       " 'C8',\n",
       " 'C9',\n",
       " 'C10',\n",
       " 'C11',\n",
       " 'C12',\n",
       " 'C13']"
      ]
     },
     "execution_count": 19,
     "metadata": {},
     "output_type": "execute_result"
    }
   ],
   "source": [
    "matplotlib.__version__\n",
    "colors"
   ]
  },
  {
   "cell_type": "code",
   "execution_count": 17,
   "metadata": {},
   "outputs": [
    {
     "data": {
      "text/html": [
       "<div>\n",
       "<style>\n",
       "    .dataframe thead tr:only-child th {\n",
       "        text-align: right;\n",
       "    }\n",
       "\n",
       "    .dataframe thead th {\n",
       "        text-align: left;\n",
       "    }\n",
       "\n",
       "    .dataframe tbody tr th {\n",
       "        vertical-align: top;\n",
       "    }\n",
       "</style>\n",
       "<table border=\"1\" class=\"dataframe\">\n",
       "  <thead>\n",
       "    <tr style=\"text-align: right;\">\n",
       "      <th></th>\n",
       "      <th>principal component 1</th>\n",
       "      <th>principal component 2</th>\n",
       "    </tr>\n",
       "  </thead>\n",
       "  <tbody>\n",
       "    <tr>\n",
       "      <th>WT1_CD8_0h</th>\n",
       "      <td>-21.538335</td>\n",
       "      <td>8.155823</td>\n",
       "    </tr>\n",
       "    <tr>\n",
       "      <th>WT2_CD8_0h</th>\n",
       "      <td>-31.200217</td>\n",
       "      <td>-1.784229</td>\n",
       "    </tr>\n",
       "    <tr>\n",
       "      <th>Ctrl-3n</th>\n",
       "      <td>-15.186366</td>\n",
       "      <td>62.164145</td>\n",
       "    </tr>\n",
       "    <tr>\n",
       "      <th>Ctrl-4n</th>\n",
       "      <td>-15.763109</td>\n",
       "      <td>62.817795</td>\n",
       "    </tr>\n",
       "    <tr>\n",
       "      <th>DKO1_CD8_0h</th>\n",
       "      <td>-42.512866</td>\n",
       "      <td>-34.987964</td>\n",
       "    </tr>\n",
       "    <tr>\n",
       "      <th>DKO2_CD8_0h</th>\n",
       "      <td>-44.006657</td>\n",
       "      <td>-26.379913</td>\n",
       "    </tr>\n",
       "    <tr>\n",
       "      <th>dKO-3n</th>\n",
       "      <td>-14.833832</td>\n",
       "      <td>21.368600</td>\n",
       "    </tr>\n",
       "    <tr>\n",
       "      <th>dKO-4n</th>\n",
       "      <td>-49.190503</td>\n",
       "      <td>-32.514153</td>\n",
       "    </tr>\n",
       "    <tr>\n",
       "      <th>WT1_CD8_72h</th>\n",
       "      <td>57.610420</td>\n",
       "      <td>-6.762036</td>\n",
       "    </tr>\n",
       "    <tr>\n",
       "      <th>WT2_CD8_72h</th>\n",
       "      <td>44.885127</td>\n",
       "      <td>-0.482170</td>\n",
       "    </tr>\n",
       "    <tr>\n",
       "      <th>Ctrl-3s</th>\n",
       "      <td>51.132596</td>\n",
       "      <td>-2.931914</td>\n",
       "    </tr>\n",
       "    <tr>\n",
       "      <th>DKO1_CD8_72h</th>\n",
       "      <td>27.728867</td>\n",
       "      <td>-19.852609</td>\n",
       "    </tr>\n",
       "    <tr>\n",
       "      <th>DKO2_CD8_72h</th>\n",
       "      <td>28.113806</td>\n",
       "      <td>-15.354897</td>\n",
       "    </tr>\n",
       "    <tr>\n",
       "      <th>dKO-3s</th>\n",
       "      <td>24.761070</td>\n",
       "      <td>-13.456477</td>\n",
       "    </tr>\n",
       "  </tbody>\n",
       "</table>\n",
       "</div>"
      ],
      "text/plain": [
       "              principal component 1  principal component 2\n",
       "WT1_CD8_0h               -21.538335               8.155823\n",
       "WT2_CD8_0h               -31.200217              -1.784229\n",
       "Ctrl-3n                  -15.186366              62.164145\n",
       "Ctrl-4n                  -15.763109              62.817795\n",
       "DKO1_CD8_0h              -42.512866             -34.987964\n",
       "DKO2_CD8_0h              -44.006657             -26.379913\n",
       "dKO-3n                   -14.833832              21.368600\n",
       "dKO-4n                   -49.190503             -32.514153\n",
       "WT1_CD8_72h               57.610420              -6.762036\n",
       "WT2_CD8_72h               44.885127              -0.482170\n",
       "Ctrl-3s                   51.132596              -2.931914\n",
       "DKO1_CD8_72h              27.728867             -19.852609\n",
       "DKO2_CD8_72h              28.113806             -15.354897\n",
       "dKO-3s                    24.761070             -13.456477"
      ]
     },
     "execution_count": 17,
     "metadata": {},
     "output_type": "execute_result"
    }
   ],
   "source": [
    "# PCA\n",
    "df_2 = diff_exps_gene_list_df #.reset_index()\n",
    "\n",
    "#### Remove unicode of list in python \n",
    "df2_gene_id = [x.encode('ascii', 'ignore') for x in df_2.index]\n",
    "\n",
    "\n",
    "from sklearn.decomposition import PCA\n",
    "from sklearn import datasets\n",
    "from sklearn.discriminant_analysis import LinearDiscriminantAnalysis\n",
    "from sklearn.preprocessing import StandardScaler\n",
    "\n",
    "#### In here we set targets as the name of columns, which means our purpose is to compare \\\n",
    "#### the relationship between different columns.\n",
    "targets= [x.encode('ascii', 'ignore') for x in df_2.columns]\n",
    "\n",
    "colors=[]\n",
    "for i in range(len(targets)):\n",
    "    colors.append( \"C\"+ str(i))\n",
    "    #print(colors[i])\n",
    "\n",
    "################################################################################\n",
    "\n",
    "df_2_T = df_2.transpose()\n",
    "\n",
    "# Separating out the features\n",
    "x = df_2_T.loc[ :, df2_gene_id ].values\n",
    "\n",
    "\n",
    "# Separating out the target\n",
    "y = df_2_T.loc[targets,:].values\n",
    "\n",
    "\n",
    "# Standardizing the featuresbio\n",
    "x = StandardScaler().fit_transform(x)\n",
    "\n",
    "pca = PCA(n_components=2)\n",
    "principalComponents = pca.fit_transform(x)\n",
    "principalDf = pd.DataFrame(data = principalComponents\n",
    "             , columns = ['principal component 1', 'principal component 2'])\n",
    "\n",
    "\n",
    "########### THIS is fucking killing me. reindex df with df2, just using following command.\n",
    "principalDf.index = df_2_T.index\n",
    "\n",
    "#finalDf = pd.concat( [principalDf, df_2_T.loc['target']], axis = 1)\n",
    "principalDf"
   ]
  },
  {
   "cell_type": "code",
   "execution_count": 27,
   "metadata": {},
   "outputs": [
    {
     "data": {
      "image/png": "[encoded data removed]",
      "text/plain": [
       "<matplotlib.figure.Figure at 0x7fe41edb6190>"
      ]
     },
     "metadata": {},
     "output_type": "display_data"
    }
   ],
   "source": [
    "### PLOT\n",
    "\n",
    "fig = plt.figure(figsize = (10,8))\n",
    "ax = fig.add_subplot(1,1,1) \n",
    "ax.set_xlabel('Principal Component 1', fontsize = 15)\n",
    "ax.set_ylabel('Principal Component 2', fontsize = 15)\n",
    "ax.set_title('2 component PCA', fontsize = 20)\n",
    "\n",
    "colors = ['C5','C5','C4','C4', 'C1', 'C1','C9','C1', 'C2','C2','C2', 'C3','C3','C3']\n",
    "\n",
    "for target, color in zip( targets,colors):\n",
    "    indicesToKeep = principalDf.index == target\n",
    "    ax.scatter(principalDf.loc[indicesToKeep, 'principal component 1']\n",
    "               , principalDf.loc[indicesToKeep, 'principal component 2']\n",
    "               , s = 100, c=color, alpha=0.6)\n",
    "ax.legend(targets)\n",
    "#ax.set_xlim(-2,8)\n",
    "ax.grid()\n",
    "Parameters_Detail='CD8_HP'\n",
    "fig.savefig('PCA'+Parameters_Detail+'.png')\n"
   ]
  }
 ],
 "metadata": {
  "kernelspec": {
   "display_name": "Python 2",
   "language": "python",
   "name": "python2"
  },
  "language_info": {
   "codemirror_mode": {
    "name": "ipython",
    "version": 2
   },
   "file_extension": ".py",
   "mimetype": "text/x-python",
   "name": "python",
   "nbconvert_exporter": "python",
   "pygments_lexer": "ipython2",
   "version": "2.7.12"
  }
 },
 "nbformat": 4,
 "nbformat_minor": 2
}
