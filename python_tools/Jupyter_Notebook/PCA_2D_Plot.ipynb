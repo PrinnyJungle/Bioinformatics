{
 "cells": [
  {
   "cell_type": "code",
   "execution_count": 1,
   "metadata": {
    "collapsed": true
   },
   "outputs": [],
   "source": [
    "## PCA\n",
    "## This file contains the basic function of PCA.\n",
    "## Author: Xiang Li\n",
    "\n",
    "###Sample\n",
    "#### Imput Package\n",
    "import pandas as pd\n",
    "import numpy as np\n",
    "import os"
   ]
  },
  {
   "cell_type": "code",
   "execution_count": 2,
   "metadata": {
    "collapsed": true
   },
   "outputs": [],
   "source": [
    "import matplotlib\n",
    "matplotlib.use('AGG')\n",
    "import matplotlib.pyplot as plt\n",
    "import seaborn as sns\n",
    "sns.set_style(\"white\") \n",
    "\n",
    "# display plots in this notebook\n",
    "%matplotlib inline"
   ]
  },
  {
   "cell_type": "code",
   "execution_count": 3,
   "metadata": {},
   "outputs": [
    {
     "data": {
      "text/plain": [
       "(2041, 7)"
      ]
     },
     "execution_count": 3,
     "metadata": {},
     "output_type": "execute_result"
    }
   ],
   "source": [
    "PATH_FOLDER='/mnt/d/bioproject/Data/Haihui/Tcf1/Hdac/'\n",
    "df = pd.read_excel(PATH_FOLDER+'Hdac Treg DEGs.xlsx', sheet_name='all DEGs',\\\n",
    "sep=',', header=1, usecols=['WT2_Treg_D20', 'WT1_Treg_D12', 'WT2_Treg_D12', \\\n",
    "'Hdac12_KO_het1_Treg_D20', 'Hdac12_KO_het1_Treg_D20', 'Hdac12_KO_het2_Treg_D20',\\\n",
    "'Hdac12_KO1_Treg_D20', 'Hdac12_KO2_Treg_D20' ]) #, index_col= )\n",
    "df=df.dropna(axis=0, how='any')\n",
    "#df = df[(df >= 0).all(axis=1)]\n",
    "#df=df.replace(0,0.000001)\n",
    "df.index.name='gene_id'\n",
    "df.shape"
   ]
  },
  {
   "cell_type": "code",
   "execution_count": null,
   "metadata": {
    "collapsed": true
   },
   "outputs": [],
   "source": []
  },
  {
   "cell_type": "code",
   "execution_count": 4,
   "metadata": {},
   "outputs": [
    {
     "data": {
      "text/html": [
       "<div>\n",
       "<style>\n",
       "    .dataframe thead tr:only-child th {\n",
       "        text-align: right;\n",
       "    }\n",
       "\n",
       "    .dataframe thead th {\n",
       "        text-align: left;\n",
       "    }\n",
       "\n",
       "    .dataframe tbody tr th {\n",
       "        vertical-align: top;\n",
       "    }\n",
       "</style>\n",
       "<table border=\"1\" class=\"dataframe\">\n",
       "  <thead>\n",
       "    <tr style=\"text-align: right;\">\n",
       "      <th></th>\n",
       "      <th>principal component 1</th>\n",
       "      <th>principal component 2</th>\n",
       "    </tr>\n",
       "  </thead>\n",
       "  <tbody>\n",
       "    <tr>\n",
       "      <th>WT2_Treg_D20</th>\n",
       "      <td>-35.056231</td>\n",
       "      <td>2.603285</td>\n",
       "    </tr>\n",
       "    <tr>\n",
       "      <th>WT1_Treg_D12</th>\n",
       "      <td>-29.589026</td>\n",
       "      <td>-20.032202</td>\n",
       "    </tr>\n",
       "    <tr>\n",
       "      <th>WT2_Treg_D12</th>\n",
       "      <td>-32.367838</td>\n",
       "      <td>-21.205593</td>\n",
       "    </tr>\n",
       "    <tr>\n",
       "      <th>Hdac12_KO_het1_Treg_D20</th>\n",
       "      <td>42.759123</td>\n",
       "      <td>-19.379084</td>\n",
       "    </tr>\n",
       "    <tr>\n",
       "      <th>Hdac12_KO_het2_Treg_D20</th>\n",
       "      <td>37.925313</td>\n",
       "      <td>-19.028946</td>\n",
       "    </tr>\n",
       "    <tr>\n",
       "      <th>Hdac12_KO1_Treg_D20</th>\n",
       "      <td>17.336293</td>\n",
       "      <td>23.991096</td>\n",
       "    </tr>\n",
       "    <tr>\n",
       "      <th>Hdac12_KO2_Treg_D20</th>\n",
       "      <td>-1.007635</td>\n",
       "      <td>53.051445</td>\n",
       "    </tr>\n",
       "  </tbody>\n",
       "</table>\n",
       "</div>"
      ],
      "text/plain": [
       "                         principal component 1  principal component 2\n",
       "WT2_Treg_D20                        -35.056231               2.603285\n",
       "WT1_Treg_D12                        -29.589026             -20.032202\n",
       "WT2_Treg_D12                        -32.367838             -21.205593\n",
       "Hdac12_KO_het1_Treg_D20              42.759123             -19.379084\n",
       "Hdac12_KO_het2_Treg_D20              37.925313             -19.028946\n",
       "Hdac12_KO1_Treg_D20                  17.336293              23.991096\n",
       "Hdac12_KO2_Treg_D20                  -1.007635              53.051445"
      ]
     },
     "execution_count": 4,
     "metadata": {},
     "output_type": "execute_result"
    }
   ],
   "source": [
    "# PCA\n",
    "#### Change \"gene_id\" from index to column\n",
    "df_2 = df #.reset_index()\n",
    "\n",
    "#### Remove unicode of list in python \n",
    "df2_gene_id = [x.encode('ascii', 'ignore') for x in df_2.index]\n",
    "\n",
    "\n",
    "from sklearn.decomposition import PCA\n",
    "from sklearn import datasets\n",
    "from sklearn.discriminant_analysis import LinearDiscriminantAnalysis\n",
    "from sklearn.preprocessing import StandardScaler\n",
    "\n",
    "\n",
    "targets = ['WT2_Treg_D20', 'WT1_Treg_D12', 'WT2_Treg_D12', 'Hdac12_KO_het1_Treg_D20',\\\n",
    "'Hdac12_KO_het2_Treg_D20','Hdac12_KO1_Treg_D20', 'Hdac12_KO2_Treg_D20']\n",
    "\n",
    "df_2_T = df_2.transpose()\n",
    "\n",
    "# Separating out the features\n",
    "x = df_2_T.loc[ :, df2_gene_id ].values\n",
    "\n",
    "\n",
    "# Separating out the target\n",
    "y = df_2_T.loc[targets,:].values\n",
    "\n",
    "\n",
    "# Standardizing the featuresbio\n",
    "x = StandardScaler().fit_transform(x)\n",
    "\n",
    "pca = PCA(n_components=2)\n",
    "principalComponents = pca.fit_transform(x)\n",
    "principalDf = pd.DataFrame(data = principalComponents\n",
    "             , columns = ['principal component 1', 'principal component 2'])\n",
    "\n",
    "\n",
    "########### THIS is fucking killing me. reindex df with df2, just using following command.\n",
    "principalDf.index = df_2_T.index\n",
    "\n",
    "#finalDf = pd.concat( [principalDf, df_2_T.loc['target']], axis = 1)\n",
    "principalDf"
   ]
  },
  {
   "cell_type": "code",
   "execution_count": 5,
   "metadata": {},
   "outputs": [
    {
     "data": {
      "image/png": "[encoded data removed]",
      "text/plain": [
       "<matplotlib.figure.Figure at 0x7fab397a8a50>"
      ]
     },
     "metadata": {},
     "output_type": "display_data"
    }
   ],
   "source": [
    "### PLOT\n",
    "\n",
    "fig = plt.figure(figsize = (10,8))\n",
    "ax = fig.add_subplot(1,1,1) \n",
    "ax.set_xlabel('Principal Component 1', fontsize = 15)\n",
    "ax.set_ylabel('Principal Component 2', fontsize = 15)\n",
    "ax.set_title('2 component PCA', fontsize = 20)\n",
    "#targets = ['Iris-setosa', 'Iris-versicolor', 'Iris-virginica']\n",
    "colors = ['C0', 'C1', 'C2', 'C3', 'C4', 'C5', 'C6']\n",
    "\n",
    "for target, color in zip( targets,colors):\n",
    "    indicesToKeep = principalDf.index == target\n",
    "    ax.scatter(principalDf.loc[indicesToKeep, 'principal component 1']\n",
    "               , principalDf.loc[indicesToKeep, 'principal component 2']\n",
    "               , s = 100)\n",
    "ax.legend(targets)\n",
    "#ax.set_xlim(-2,8)\n",
    "ax.grid()\n",
    "Parameters_Detail='CD8_HP'\n",
    "fig.savefig('PCA'+Parameters_Detail+'.png')\n"
   ]
  }
 ],
 "metadata": {
  "kernelspec": {
   "display_name": "Python 2",
   "language": "python",
   "name": "python2"
  },
  "language_info": {
   "codemirror_mode": {
    "name": "ipython",
    "version": 2
   },
   "file_extension": ".py",
   "mimetype": "text/x-python",
   "name": "python",
   "nbconvert_exporter": "python",
   "pygments_lexer": "ipython2",
   "version": "2.7.12"
  }
 },
 "nbformat": 4,
 "nbformat_minor": 2
}
