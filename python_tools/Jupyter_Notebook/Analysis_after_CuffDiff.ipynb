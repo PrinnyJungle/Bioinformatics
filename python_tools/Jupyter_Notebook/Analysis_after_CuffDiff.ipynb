{
 "cells": [
  {
   "cell_type": "code",
   "execution_count": 1,
   "metadata": {
    "collapsed": true
   },
   "outputs": [],
   "source": [
    "## After CuffDiff\n",
    "\n",
    "#### This file contains the basic function of analysis from cuffdiff results\n",
    "#### Author: Xiang Li\n",
    "#### Sample\n",
    "\n",
    "import numpy as np\n",
    "import pandas as pd\n",
    "import os"
   ]
  },
  {
   "cell_type": "code",
   "execution_count": 26,
   "metadata": {
    "collapsed": true
   },
   "outputs": [],
   "source": [
    "# For any input of /gene_exp.diff, return its All genes with\n",
    "### gene_id, cond1, cond2, log2(fold_change), p_value, plus a number of order.\n",
    "def generate_All_Genes(Input_Path, number):\n",
    "#### READ FILE\n",
    "    df = pd.read_csv(Input_Path+'/gene_exp.diff', sep='\\t', header=0, usecols={'test_id',\\\n",
    "    'status','sample_1','sample_2','value_1','value_2','log2(fold_change)','p_value','q_value'})\n",
    "#### Rename columns\n",
    "    df=df.rename(columns={'test_id':'gene_id', 'value_1': df['sample_1'].unique()[0], 'value_2': df['sample_2'].unique()[0]})\n",
    "#### Output   \n",
    "    return df.loc[:,['gene_id',df['sample_1'].unique()[0],df['sample_2'].unique()[0],'log2(fold_change)',\n",
    "                     'p_value','q_value', 'End_'+str(number), '||']].fillna('')\n",
    "####################################################################################\n",
    "\n",
    "\n",
    "### For any input of /gene_exp.diff, return its up_DEGs genes with\n",
    "### gene_id, cond1, cond2, log2(fold_change), p_value, plus a number of order.\n",
    "### Parameters for DEGs:\n",
    "FC_UP=1.5\n",
    "q_value_less=0.05\n",
    "FPKM_threshold=1.0\n",
    "####################################################################################\n",
    "\n",
    "def generate_Upregulated_Genes(Input_Path):\n",
    "#### READ FILE\n",
    "    df = pd.read_csv(Input_Path+'/gene_exp.diff', sep='\\t', header=0, usecols={'test_id',\\\n",
    "    'status','sample_1','sample_2', 'value_1','value_2','log2(fold_change)','p_value','q_value'})\n",
    "#### Filter\n",
    "    df=df[(df['status']=='OK') & (df['q_value']<=q_value_less) & (df['value_2']>=FPKM_threshold) & (df['log2(fold_change)'] >= np.log2(FC_UP))]\n",
    "#### Rearrange Columns\n",
    "    df=df.rename(columns={'test_id':'gene_id','value_1': df['sample_1'].unique()[0], 'value_2': df['sample_2'].unique()[0]})\n",
    "#### Output\n",
    "    return df.loc[:,['gene_id', df['sample_1'].unique()[0],df['sample_2'].unique()[0],'log2(fold_change)','p_value','q_value']]\n",
    "####################################################################################\n",
    "\n",
    "def generate_Downregulated_Genes(Input_Path):\n",
    "#### READ FILE FROM CuffDiff Results\n",
    "    df = pd.read_csv(Input_Path+'/gene_exp.diff', sep='\\t', header=0, usecols={'test_id',\\\n",
    "    'status','sample_1','sample_2', 'value_1','value_2','log2(fold_change)','p_value','q_value'})\n",
    "#### Filter\n",
    "    df=df[(df['status']=='OK') & (df['q_value']<=q_value_less) & (df['value_1']>=FPKM_threshold) & (df['log2(fold_change)']<= -np.log2(FC_UP))]   \n",
    "#### Rearrange Columns\n",
    "    df=df.rename(columns={'test_id':'gene_id','value_1': df['sample_1'].unique()[0], 'value_2': df['sample_2'].unique()[0]})\n",
    "#### Output\n",
    "    return df.loc[:,['gene_id', df['sample_1'].unique()[0],df['sample_2'].unique()[0],'log2(fold_change)','p_value','q_value']]\n",
    "\n",
    "\n",
    "#### Functions to read /genes.read_group_tracking and output FPKM\n",
    "def generate_genes_FPKM_df(Input_Path):\n",
    "    df = pd.read_csv(INPUT_PATH+'/genes.read_group_tracking', sep='\\t', header=0)\n",
    "    FPKM_df = None\n",
    "    for cond in df['condition'].unique():\n",
    "        for replica in df[df['condition'] == cond]['replicate'].unique():\n",
    "            #print (cond, replica)\n",
    "            temp_df = (df[ (df['condition'] == cond) & (df['replicate'] == replica)].loc[:,['tracking_id', 'FPKM']])\n",
    "            cond_name= cond+'_'+str(replica)\n",
    "            temp_df.rename(columns={'tracking_id': 'gene_id', 'FPKM': cond_name }, inplace=True)\n",
    "            if FPKM_df is None:\n",
    "                FPKM_df\n",
    "                FPKM_df = temp_df  \n",
    "            else:\n",
    "                FPKM_df = FPKM_df.merge(temp_df, on='gene_id', how='outer', suffixes=('','_'))\n",
    "    return FPKM_df\n",
    "\n",
    "def Add_common_header(df,common_header):\n",
    "    name_list=[common_header]*len(df.columns)\n",
    "    tuples = list(zip(name_list,df.columns))\n",
    "    df.columns = pd.MultiIndex.from_tuples(tuples)\n",
    "    return df\n",
    "\n",
    "\n",
    "def DIR_CHECK_CREATE(Input_Path):\n",
    "    if (not os.path.isdir(Input_Path)):\n",
    "        print (\"Dir check and create is\" + Input_Path)\n",
    "        os.mkdir(Input_Path)\n",
    "    else: print ('Input_Path exists')"
   ]
  },
  {
   "cell_type": "code",
   "execution_count": null,
   "metadata": {
    "collapsed": true
   },
   "outputs": [],
   "source": [
    "INPUT_LIST=os.listdir(PATH_FOLDER)"
   ]
  },
  {
   "cell_type": "code",
   "execution_count": 27,
   "metadata": {},
   "outputs": [
    {
     "name": "stdout",
     "output_type": "stream",
     "text": [
      "Input_Path exists\n",
      "Input_Path exists\n",
      "Library:DKO_0h_vs_Ctrl_34n_ref\n",
      "# of Up:\n",
      "(1601, 12)\n",
      "# of Down\n",
      "(1575, 12)\n",
      "\n",
      "Library:DKO_0h_vs_WT_0h\n",
      "# of Up:\n",
      "(647, 13)\n",
      "# of Down\n",
      "(704, 13)\n",
      "\n",
      "Library:DKO_72h_vs_DKO_0h\n",
      "# of Up:\n",
      "(1457, 13)\n",
      "# of Down\n",
      "(1025, 13)\n",
      "\n",
      "Library:DKO_72h_vs_WT_72h\n",
      "# of Up:\n",
      "(441, 13)\n",
      "# of Down\n",
      "(749, 13)\n",
      "\n",
      "Library:WT_72h_vs_WT_0h\n",
      "# of Up:\n",
      "(1812, 13)\n",
      "# of Down\n",
      "(1272, 13)\n",
      "\n"
     ]
    }
   ],
   "source": [
    "PATH_FOLDER=os.getcwd()+ '/CuffDiff_Results/'\n",
    "OUT_FOLDER=os.getcwd()+'/genelist/'\n",
    "\n",
    "DIR_CHECK_CREATE(PATH_FOLDER)\n",
    "DIR_CHECK_CREATE(OUT_FOLDER)\n",
    "\n",
    "\n",
    "INPUT_LIST=os.listdir(PATH_FOLDER)\n",
    "writer = pd.ExcelWriter(OUT_FOLDER+'CD8-HP_CuffDiff_Summary201806.xlsx', engine='xlsxwriter')\n",
    "\n",
    "i=0\n",
    "for input_name in INPUT_LIST[:]:\n",
    "    INPUT_PATH = PATH_FOLDER+input_name\n",
    "    if (i==0):\n",
    "        df_all=generate_genes_FPKM_df(INPUT_PATH)\n",
    "        df_all[input_name]=''\n",
    "        df_all = df_all.merge(generate_All_Genes(INPUT_PATH,i+1), on='gene_id', how='inner', suffixes=('','_')) \n",
    "        i+=1\n",
    "        continue\n",
    "    df_all = df_all.merge(generate_genes_FPKM_df(INPUT_PATH), on='gene_id', how='inner', suffixes=('','_'))\n",
    "    df_all[input_name]=''\n",
    "    df_all = df_all.merge(generate_All_Genes(INPUT_PATH,i+1), on='gene_id', how='inner', suffixes=('','_')) \n",
    "    \n",
    "    i+=1\n",
    "df_all.to_excel(writer, sheet_name='All_Genes', index=None)\n",
    "\n",
    "for input_name in INPUT_LIST:\n",
    "    INPUT_PATH = PATH_FOLDER+input_name\n",
    "    print ('Library:' + input_name)\n",
    "    df_up = generate_genes_FPKM_df(INPUT_PATH)\n",
    "    df_up[input_name]=''\n",
    "    df_up = df_up.merge(generate_Upregulated_Genes(INPUT_PATH), on='gene_id', how='inner', suffixes=('','_'))\n",
    "    \n",
    "    df_up.to_excel( writer, sheet_name='up_'+input_name, index=None)\n",
    "    print ('# of Up:' )\n",
    "    print(df_up.shape)\n",
    "    \n",
    "    df_down = generate_genes_FPKM_df(INPUT_PATH)\n",
    "    df_down[input_name]=''\n",
    "    df_down = df_down.merge(generate_Downregulated_Genes(INPUT_PATH), on='gene_id', how='inner', suffixes=('','_')) \n",
    "    df_down.to_excel( writer, sheet_name='down_'+input_name,index=None)\n",
    "    print ('# of Down')\n",
    "    print(df_down.shape)\n",
    "    print ('')\n",
    "\n",
    "\n",
    "#writer.save()"
   ]
  },
  {
   "cell_type": "code",
   "execution_count": 25,
   "metadata": {},
   "outputs": [
    {
     "data": {
      "text/html": [
       "<div>\n",
       "<style>\n",
       "    .dataframe thead tr:only-child th {\n",
       "        text-align: right;\n",
       "    }\n",
       "\n",
       "    .dataframe thead th {\n",
       "        text-align: left;\n",
       "    }\n",
       "\n",
       "    .dataframe tbody tr th {\n",
       "        vertical-align: top;\n",
       "    }\n",
       "</style>\n",
       "<table border=\"1\" class=\"dataframe\">\n",
       "  <thead>\n",
       "    <tr style=\"text-align: right;\">\n",
       "      <th></th>\n",
       "      <th>gene_id</th>\n",
       "      <th>WT_0h_0</th>\n",
       "      <th>WT_0h_1</th>\n",
       "      <th>WT_0h_2</th>\n",
       "      <th>WT_72h_0</th>\n",
       "      <th>WT_72h_1</th>\n",
       "      <th>WT_72h_2</th>\n",
       "    </tr>\n",
       "  </thead>\n",
       "  <tbody>\n",
       "  </tbody>\n",
       "</table>\n",
       "</div>"
      ],
      "text/plain": [
       "Empty DataFrame\n",
       "Columns: [gene_id, WT_0h_0, WT_0h_1, WT_0h_2, WT_72h_0, WT_72h_1, WT_72h_2]\n",
       "Index: []"
      ]
     },
     "execution_count": 25,
     "metadata": {},
     "output_type": "execute_result"
    }
   ],
   "source": [
    "df_all=generate_genes_FPKM_df(INPUT_PATH)\n",
    "df_down = generate_genes_FPKM_df(INPUT_PATH)\n",
    "df_down[df_down['gene_id']=='Rnaset2a,Rnaset2b']"
   ]
  },
  {
   "cell_type": "markdown",
   "metadata": {},
   "source": [
    "#### DEGs Generating\n"
   ]
  },
  {
   "cell_type": "code",
   "execution_count": 12,
   "metadata": {
    "scrolled": false
   },
   "outputs": [
    {
     "name": "stdout",
     "output_type": "stream",
     "text": [
      "Input_Path exists\n",
      "Library:DKO_0h_vs_Ctrl_34n_ref\n",
      "# of Upregulated_genes:\n",
      "(1601, 6)\n",
      "# of Downregulated_genes\n",
      "(1575, 6)\n",
      "\n"
     ]
    }
   ],
   "source": [
    "#### DEGs Generating\n",
    "DIR_CHECK_CREATE(os.getcwd()+'/genelist/')\n",
    "PATH_FOLDER=os.getcwd()+ '/CuffDiff_Results/'\n",
    "INPUT_LIST=os.listdir(PATH_FOLDER)\n",
    "for input_name in INPUT_LIST:\n",
    "    INPUT_PATH = PATH_FOLDER+input_name\n",
    "    print ('Library:' + input_name)\n",
    "    df_up = generate_Upregulated_Genes(INPUT_PATH)\n",
    "    df_up.to_csv( os.getcwd()+'/genelist/up_'+input_name +'.bed' ,sep='\\t', index=None)\n",
    "    print ('# of Upregulated_genes:' )\n",
    "    print(df_up.shape)\n",
    "    \n",
    "    df_down = generate_Downregulated_Genes(INPUT_PATH)  \n",
    "    df_down.to_csv( os.getcwd()+'/genelist/down_'+input_name + '.bed' ,sep='\\t', index=None)\n",
    "    \n",
    "    print ('# of Downregulated_genes')\n",
    "    print(df_down.shape)\n",
    "    print ('')\n",
    "    break\n",
    "    \n"
   ]
  }
 ],
 "metadata": {
  "kernelspec": {
   "display_name": "Python 2",
   "language": "python",
   "name": "python2"
  },
  "language_info": {
   "codemirror_mode": {
    "name": "ipython",
    "version": 2
   },
   "file_extension": ".py",
   "mimetype": "text/x-python",
   "name": "python",
   "nbconvert_exporter": "python",
   "pygments_lexer": "ipython2",
   "version": "2.7.12"
  }
 },
 "nbformat": 4,
 "nbformat_minor": 2
}
