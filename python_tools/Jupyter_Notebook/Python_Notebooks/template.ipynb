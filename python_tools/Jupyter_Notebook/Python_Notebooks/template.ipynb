{
 "cells": [
  {
   "cell_type": "raw",
   "metadata": {},
   "source": [
    "# Python Notebook\n",
    "########################################################################\n",
    "## 05/19/2018\n",
    "## By Xiang Li,\n",
    "## lux@gwu.edu\n",
    "## Peng's Lab1\n",
    "## Ver.1.0\n",
    "########################################################################"
   ]
  },
  {
   "cell_type": "code",
   "execution_count": 3,
   "metadata": {},
   "outputs": [
    {
     "name": "stdout",
     "output_type": "stream",
     "text": [
      "Python Identifiers:\n",
      "Class >>> Xxxx, others >>> xxxx\n",
      "_xxxx indicates that the identifier is private.\n",
      "__xxx indicates that the identifier is strongly private.\n",
      "__xx__ indicates: A languagedefined special name\n"
     ]
    }
   ],
   "source": [
    "print (\"Python Identifiers:\")\n",
    "print (\"Class >>> Xxxx, others >>> xxxx\")\n",
    "print (\"_xxxx indicates that the identifier is private.\")\n",
    "print (\"__xxx indicates that the identifier is strongly private.\")\n",
    "print (\"__xx__ indicates: A languagedefined special name\")\n",
    "\n",
    "import numpy as np\n",
    "import pandas as pd\n",
    "import os"
   ]
  },
  {
   "cell_type": "code",
   "execution_count": 4,
   "metadata": {
    "collapsed": true
   },
   "outputs": [],
   "source": [
    "def DIR_CHECK_CREATE(Input_Path):\n",
    "    if (not os.path.isdir(Input_Path)):\n",
    "        print (\"New Dir Made is\" + Input_Path)\n",
    "        os.mkdir(Input_Path)\n",
    "    else: \n",
    "        print ('Dir Exists')\n",
    "def Add_common_header(df,common_header):\n",
    "    name_list=[common_header]*len(df.columns)\n",
    "    tuples = list(zip(name_list,df.columns))\n",
    "    df.columns = pd.MultiIndex.from_tuples(tuples)\n",
    "    return df\n"
   ]
  },
  {
   "cell_type": "code",
   "execution_count": 7,
   "metadata": {},
   "outputs": [
    {
     "name": "stdout",
     "output_type": "stream",
     "text": [
      "Dir Exists\n",
      "Dir Exists\n",
      "['.ipynb_checkpoints', 'Actived_IRI_To_D_TES.txt', 'Analysis_after_CuffDiff.ipynb', 'genelist', 'Modeling_Fit.ipynb', 'More_Analysis_lx', 'Resting_IRI_To_D_TES.txt']\n"
     ]
    }
   ],
   "source": [
    "PATH_FOLDER=os.getcwd()+ ''\n",
    "OUT_FOLDER=os.getcwd()+'/genelist/'\n",
    "\n",
    "DIR_CHECK_CREATE(PATH_FOLDER)\n",
    "DIR_CHECK_CREATE(OUT_FOLDER)\n",
    "\n",
    "\n",
    "INPUT_LIST=os.listdir(PATH_FOLDER)\n",
    "print INPUT_LIST"
   ]
  },
  {
   "cell_type": "code",
   "execution_count": 18,
   "metadata": {},
   "outputs": [
    {
     "name": "stdout",
     "output_type": "stream",
     "text": [
      " Enter ' data_test.txt ' When finished\n"
     ]
    },
    {
     "ename": "NameError",
     "evalue": "name 'file_text' is not defined",
     "output_type": "error",
     "traceback": [
      "\u001b[0;31m---------------------------------------------------------------------------\u001b[0m",
      "\u001b[0;31mNameError\u001b[0m                                 Traceback (most recent call last)",
      "\u001b[0;32m<ipython-input-18-f31b12415402>\u001b[0m in \u001b[0;36m<module>\u001b[0;34m()\u001b[0m\n\u001b[1;32m     12\u001b[0m \u001b[0;32mprint\u001b[0m \u001b[0;34m\"Enter '\"\u001b[0m\u001b[0;34m,\u001b[0m \u001b[0mfile_finish\u001b[0m\u001b[0;34m,\u001b[0m\u001b[0;34m\u001b[0m\u001b[0m\n\u001b[1;32m     13\u001b[0m \u001b[0;32mprint\u001b[0m \u001b[0;34m\"' When finished\"\u001b[0m\u001b[0;34m\u001b[0m\u001b[0m\n\u001b[0;32m---> 14\u001b[0;31m \u001b[0;32mwhile\u001b[0m \u001b[0mfile_text\u001b[0m \u001b[0;34m!=\u001b[0m \u001b[0mfile_finish\u001b[0m\u001b[0;34m:\u001b[0m\u001b[0;34m\u001b[0m\u001b[0m\n\u001b[0m\u001b[1;32m     15\u001b[0m    \u001b[0mfile_text\u001b[0m \u001b[0;34m=\u001b[0m \u001b[0mraw_input\u001b[0m\u001b[0;34m(\u001b[0m\u001b[0;34m\"Enter text: \"\u001b[0m\u001b[0;34m)\u001b[0m\u001b[0;34m\u001b[0m\u001b[0m\n\u001b[1;32m     16\u001b[0m    \u001b[0;32mif\u001b[0m \u001b[0mfile_text\u001b[0m \u001b[0;34m==\u001b[0m \u001b[0mfile_finish\u001b[0m\u001b[0;34m:\u001b[0m\u001b[0;34m\u001b[0m\u001b[0m\n",
      "\u001b[0;31mNameError\u001b[0m: name 'file_text' is not defined"
     ]
    }
   ],
   "source": [
    "rest_intron_IRI_df = pd.read_csv( PATH_FOLDER+'/Human_summary/IRI/introns/Naive_Rest_CD8.quant.IRI.introns.txt', header=0, sep='\\t', na_values=['NA', \"NA (5'AS)\", \"NA (3'AS)\", \"NA (unannotated exon)\"])\n",
    "rest_intron_IRI_df = rest_intron_IRI_df[(rest_intron_IRI_df.intron_IRI >= 0) & (rest_intron_IRI_df.intron_IRI <= 1) & (rest_intron_IRI_df.adjacent_CER_RPKM >= 0.1)].loc[:,['CIR_id', 'intron_IRI']]\n",
    "\n",
    "#active_intron_IRI_df = pd.read_csv('data/Human_summary/IRI/introns/Active_CD4.quant.IRI.introns.txt', header=0, sep='\\t', na_values=['NA', \"NA (5'AS)\", \"NA (3'AS)\", \"NA (unannotated exon)\"])\n",
    "active_intron_IRI_df = pd.read_csv(PATH_FOLDER+'/Human_summary/IRI/introns/Naive_Active_CD8.quant.IRI.introns.txt', header=0, sep='\\t', na_values=['NA', \"NA (5'AS)\", \"NA (3'AS)\", \"NA (unannotated exon)\"])\n",
    "active_intron_IRI_df = active_intron_IRI_df[(active_intron_IRI_df.intron_IRI >= 0) & (active_intron_IRI_df.intron_IRI <= 1) & (active_intron_IRI_df.adjacent_CER_RPKM >= 0.1)].loc[:,['CIR_id', 'intron_IRI']]"
   ]
  },
  {
   "cell_type": "code",
   "execution_count": 19,
   "metadata": {},
   "outputs": [
    {
     "name": "stdout",
     "output_type": "stream",
     "text": [
      "\n",
      "\n",
      "Press the enter key to exit.aaa\n"
     ]
    },
    {
     "data": {
      "text/plain": [
       "'aaa'"
      ]
     },
     "execution_count": 19,
     "metadata": {},
     "output_type": "execute_result"
    }
   ],
   "source": []
  }
 ],
 "metadata": {
  "kernelspec": {
   "display_name": "Python 2",
   "language": "python",
   "name": "python2"
  },
  "language_info": {
   "codemirror_mode": {
    "name": "ipython",
    "version": 2
   },
   "file_extension": ".py",
   "mimetype": "text/x-python",
   "name": "python",
   "nbconvert_exporter": "python",
   "pygments_lexer": "ipython2",
   "version": "2.7.12"
  }
 },
 "nbformat": 4,
 "nbformat_minor": 2
}
