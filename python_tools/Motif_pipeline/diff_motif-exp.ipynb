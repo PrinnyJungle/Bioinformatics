{
 "cells": [
  {
   "cell_type": "raw",
   "metadata": {},
   "source": [
    "# Python Notebook\n",
    "########################################################################\n",
    "## 05/19/2018\n",
    "## By Xiang Li,\n",
    "## lux@gwu.edu\n",
    "## Peng's Lab1\n",
    "## Ver.1.0\n",
    "########################################################################"
   ]
  },
  {
   "cell_type": "code",
   "execution_count": 345,
   "metadata": {},
   "outputs": [
    {
     "name": "stdout",
     "output_type": "stream",
     "text": [
      "Python Identifiers:\n",
      "Class >>> Xxxx, others >>> xxxx\n",
      "_xxxx indicates that the identifier is private.\n",
      "__xxx indicates that the identifier is strongly private.\n",
      "__xx__ indicates: A languagedefined special name\n"
     ]
    }
   ],
   "source": [
    "print (\"Python Identifiers:\")\n",
    "print (\"Class >>> Xxxx, others >>> xxxx\")\n",
    "print (\"_xxxx indicates that the identifier is private.\")\n",
    "print (\"__xxx indicates that the identifier is strongly private.\")\n",
    "print (\"__xx__ indicates: A languagedefined special name\")\n",
    "import numpy as np\n",
    "import pandas as pd\n",
    "import os"
   ]
  },
  {
   "cell_type": "code",
   "execution_count": 2,
   "metadata": {},
   "outputs": [
    {
     "data": {
      "text/plain": [
       "u'0.23.1'"
      ]
     },
     "execution_count": 2,
     "metadata": {},
     "output_type": "execute_result"
    }
   ],
   "source": [
    "pd.__version__"
   ]
  },
  {
   "cell_type": "code",
   "execution_count": 342,
   "metadata": {},
   "outputs": [],
   "source": [
    "def DIR_CHECK_CREATE(Input_Path):\n",
    "    if (not os.path.isdir(Input_Path)):\n",
    "        print (\"New Dir Made is\" + Input_Path)\n",
    "        os.mkdir(Input_Path)\n",
    "    else: \n",
    "        print ('Dir Exists')\n",
    "def Add_common_header(df,common_header):\n",
    "    name_list=[common_header]*len(df.columns)\n",
    "    tuples = list(zip(name_list,df.columns))\n",
    "    df.columns = pd.MultiIndex.from_tuples(tuples)\n",
    "    return df\n",
    "FC_UP=2.0\n",
    "q_value_less=0.05\n",
    "FPKM_threshold=1.0\n",
    "####################################################################################\n",
    "\n",
    "def generate_Upregulated_Genes(df):\n",
    "#### Filter\n",
    "    df=df[(df['status']=='OK') & (df['q_value']<=q_value_less) & (df['value_2']>=FPKM_threshold) & ( (df['log2(fold_change)'] >= np.log2(FC_UP)))]\n",
    "#### Output\n",
    "    return df\n",
    "####################################################################################\n",
    "def generate_Downregulated_Genes(df):\n",
    "#### Filter\n",
    "    df=df[(df['status']=='OK') & (df['q_value']<=q_value_less) & (df['value_1']>=FPKM_threshold) & (df['log2(fold_change)']<= -np.log2(FC_UP))]   \n",
    "#### Output\n",
    "    return df\n",
    "####################################################################################"
   ]
  },
  {
   "cell_type": "code",
   "execution_count": 378,
   "metadata": {},
   "outputs": [
    {
     "data": {
      "text/plain": [
       "0"
      ]
     },
     "execution_count": 378,
     "metadata": {},
     "output_type": "execute_result"
    }
   ],
   "source": [
    "def associate_motif_expression_excel(motif_gene_association_folder, expression_input):\n",
    "    import glob\n",
    "    import datetime\n",
    "    from scipy import stats\n",
    "\n",
    "    os.chdir(motif_gene_association_folder)\n",
    "    \n",
    "    INPUT_LIST = glob.glob('*.bed.gene_association.txt')\n",
    "    writer = pd.ExcelWriter(motif_gene_association_folder+'/Motif_Associated_Genes_Summary_'+str(datetime.date.today())+ '.xlsx', engine='xlsxwriter')\n",
    "    df_gene_exp = pd.read_csv(expression_input, sep='\\t').rename(columns={'test_id':'Gene Name'}).drop(['gene_id','gene','test_stat'],axis=1)\n",
    "\n",
    "    \n",
    "    summary_df = pd.DataFrame(columns=['Motif_Name','wilcoxon_rank_test_pvalue','(Up-Down)/All']) ### wilcoxon signed rank test \n",
    "    i=0\n",
    "    for name in INPUT_LIST[:]:\n",
    "        df_motif_gene = pd.read_csv(name, sep='\\t')\n",
    "        df_merge = df_motif_gene.merge(df_gene_exp,on='Gene Name', how='inner')\n",
    "        ## Gene Length Calculation\n",
    "        gene_length = df_merge['locus'].str.split(pat=':',expand=True)[1].str.split(pat='-',expand=True).astype(int).apply(lambda x: x[1] - x[0], axis=1)\n",
    "        df_merge.insert(5,'Distance to TES', df_merge['Distance to TSS'] - gene_length)\n",
    "        ## Save a summary of motif associated with Expression\n",
    "        Cond1_Name = df_merge['sample_1'][0]\n",
    "        Cond2_Name = df_merge['sample_2'][0]\n",
    "        df_merge.rename(columns={'value_1':Cond1_Name, 'value_2':Cond2_Name}).drop(['sample_1','sample_2'],\n",
    "                axis=1).to_excel(writer, sheet_name=name[0:7], index=None)\n",
    "\n",
    "        ### https://docs.scipy.org/doc/scipy-0.14.0/reference/generated/scipy.stats.ks_2samp.html\n",
    "        ### KS 2 sample test\n",
    "        ### https://docs.scipy.org/doc/scipy-0.15.1/reference/generated/scipy.stats.chi2_contingency.html\n",
    "        df_merge = df_merge[df_merge['status']=='OK']\n",
    "        #print \"pvalue:\",stats.ks_2samp(df_merge['value_1'], df_merge['value_2'])[1] ## wilcoxon signed rank test \n",
    "        up_ratio = 1.0*(len(generate_Upregulated_Genes(df_merge)['Gene Name'].unique()) -  len(generate_Downregulated_Genes(df_merge)['Gene Name'].unique()))/len(df_merge['Gene Name'].unique())\n",
    "        summary_df.loc[i,['Motif_Name','wilcoxon_rank_test_pvalue','(Up-Down)/All']] = [name[0:7], stats.wilcoxon(df_merge['value_1'], df_merge['value_2'])[1], up_ratio]\n",
    "        i+=1\n",
    "    up_ratio = 1.0*(len(generate_Upregulated_Genes(df_gene_exp)['Gene Name']) -  len(generate_Downregulated_Genes(df_gene_exp)['Gene Name']))/len(df_gene_exp['Gene Name'])\n",
    "    summary_df.loc[i,['Motif_Name','wilcoxon_rank_test_pvalue','(Up-Down)/All']] = ['Overall', stats.wilcoxon(df_gene_exp['value_1'], df_gene_exp['value_2'])[1], up_ratio]\n",
    "    summary_df.sort_values(by=['(Up-Down)/All'],ascending=False).to_excel(writer, sheet_name='Motif Ranking Test', index=None)\n",
    "    writer.save()\n",
    "    \n",
    "    return 0\n",
    "\n",
    "\n",
    "\n",
    "\n",
    "expression_input='/home/xli/cloud_research/PengGroup/XLi/Data/Haihui/CD8-HP/RNA_seq/CuffDiff_Jun2018/Cuffdiff_Results/WT_72h_vs_WT_0h/gene_exp.diff'\n",
    "associate_motif_expression_excel(PATH_FOLDER, expression_input)"
   ]
  },
  {
   "cell_type": "code",
   "execution_count": 366,
   "metadata": {},
   "outputs": [
    {
     "data": {
      "text/plain": [
       "954"
      ]
     },
     "execution_count": 366,
     "metadata": {},
     "output_type": "execute_result"
    }
   ],
   "source": []
  },
  {
   "cell_type": "code",
   "execution_count": 381,
   "metadata": {},
   "outputs": [
    {
     "name": "stdout",
     "output_type": "stream",
     "text": [
      "Dir Exists\n",
      "0.1375\n",
      "known2.  chi pvalue: 2.930834482337056e-156\n",
      "known2.  pvalue: 0.564897903925808\n",
      "0.0540540540541\n",
      "known9.  chi pvalue: 1.1487611325690116e-09\n",
      "known9.  pvalue: 0.28745586378125043\n",
      "0.137931034483\n",
      "known6.  chi pvalue: 5.374338720104001e-23\n",
      "known6.  pvalue: 0.39297131995431445\n",
      "-0.04\n",
      "known8.  chi pvalue: 7.416609149825929e-17\n",
      "known8.  pvalue: 0.8611435378059807\n",
      "0.145454545455\n",
      "known10  chi pvalue: 2.52540370573794e-167\n",
      "known10  pvalue: 0.5050505524571149\n",
      "0.0602409638554\n",
      "known5.  chi pvalue: 3.95241884899268e-56\n",
      "known5.  pvalue: 0.7130360345331365\n",
      "0.120481927711\n",
      "known3.  chi pvalue: 3.6444452667961356e-146\n",
      "known3.  pvalue: 0.570347235846639\n",
      "0.0909090909091\n",
      "known1.  chi pvalue: 3.517348586437878e-39\n",
      "known1.  pvalue: 0.6990843376501483\n",
      "0.107142857143\n",
      "known7.  chi pvalue: 3.754889188224879e-201\n",
      "known7.  pvalue: 0.572933079363372\n",
      "0.126984126984\n",
      "known4.  chi pvalue: 8.109320070726928e-141\n",
      "known4.  pvalue: 0.8106140033576562\n"
     ]
    }
   ],
   "source": [
    "PATH_FOLDER='/home/data/www/Homer_Results/Motif_Results/2442_sum_vs_445_summ/knownResults'\n",
    "#PATH_FOLDER='/home/data/www/Homer_Results/Motif_Results/1537_sum_vs_1387_sum/homerResults'\n",
    "#expression_input='/home/xli/cloud_research/PengGroup/XLi/Data/Haihui/CD8-HP/RNA_seq/CuffDiff_Jun2018/Cuffdiff_Results/DKO_0h_vs_WT_0h/gene_exp.diff'\n",
    "expression_input='/home/xli/cloud_research/PengGroup/XLi/Data/Haihui/CD8-HP/RNA_seq/CuffDiff_Jun2018/Cuffdiff_Results/WT_72h_vs_WT_0h/gene_exp.diff'\n",
    "DIR_CHECK_CREATE(PATH_FOLDER)\n",
    "#DIR_CHECK_CREATE(OUT_FOLDER)\n",
    "INPUT_LIST=os.listdir(PATH_FOLDER)\n",
    "\n",
    "import glob\n",
    "import datetime\n",
    "from scipy import stats\n",
    "os.chdir(PATH_FOLDER)\n",
    "INPUT_LIST = glob.glob('*.bed.gene_association.txt')\n",
    "#writer = pd.ExcelWriter(PATH_FOLDER+'/Motif_Associated_Genes_Summary_'+str(datetime.date.today())+ '.xlsx', engine='xlsxwriter')\n",
    "\n",
    "\n",
    "df_gene_exp = pd.read_csv(expression_input, sep='\\t').rename(columns={'test_id':'Gene Name'}).drop(['gene_id','gene'],axis=1)\n",
    "\n",
    "\n",
    "\n",
    "summary_df = pd.DataFrame(columns=['Motif_Name','pvalue', '(Up-Down)/All'])\n",
    "i=0\n",
    "for name in INPUT_LIST[:]:\n",
    "\n",
    "    df_motif_gene = pd.read_csv(name, sep='\\t')\n",
    "    df_merge = df_motif_gene.merge(df_gene_exp,on='Gene Name', how='inner')\n",
    "    ## Gene Length Calculation\n",
    "    gene_length = df_merge['locus'].str.split(pat=':',expand=True)[1].str.split(pat='-',expand=True).astype(int).apply(lambda x: x[1] - x[0], axis=1)\n",
    "    df_merge.insert(5,'Distance to TES', df_merge['Distance to TSS'] - gene_length)\n",
    "    ## Save a summary of motif associated with Expression\n",
    "    Cond1_Name = df_merge['sample_1'][0]\n",
    "    Cond2_Name = df_merge['sample_2'][0]\n",
    "    df_merge.rename(columns={'value_1':Cond1_Name, 'value_2':Cond2_Name}).drop(['sample_1','sample_2'],\n",
    "            axis=1).to_excel(writer, sheet_name=name[0:7], index=None)\n",
    "    \n",
    "    ### https://docs.scipy.org/doc/scipy-0.14.0/reference/generated/scipy.stats.ks_2samp.html\n",
    "    ### KS 2 sample test\n",
    "    df_merge = df_merge[df_merge['significant']=='yes' ] #  [df_merge['status']=='OK']# \n",
    "    \n",
    "    \n",
    "    print 1.0*(len(generate_Upregulated_Genes(df_merge)) - len(generate_Downregulated_Genes(df_merge)))/len(df_merge[(df_merge['status']=='OK')])\n",
    "    print name[0:7],\" chi pvalue:\",stats.chi2_contingency(df_merge[['value_1','value_2']])[1]\n",
    "    print name[0:7],\" pvalue:\",stats.wilcoxon(df_merge['value_1'], df_merge['value_2'])[1]\n",
    "    \n",
    "    #print \"MWN pvalue:\",stats.mannwhitneyu(df_merge['value_1'], df_merge['value_2'], alternative='two-sided' )[1]\n",
    "    \n",
    "    up_ratio = 1.0*(len(generate_Upregulated_Genes(df_merge)['Gene Name'].unique()) -  len(generate_Downregulated_Genes(df_merge)['Gene Name'].unique()))/len(df_merge['Gene Name'].unique())\n",
    "    summary_df.loc[i,['Motif_Name','pvalue','(Up-Down)/All']] = [name[0:7], stats.wilcoxon(df_merge['value_1'], df_merge['value_2'])[1], up_ratio]\n",
    "    i+=1\n",
    "    #print df_merge[['value_1','value_2']].describe()\n",
    "    #print \"\"\n",
    "    if i == 11:\n",
    "        break\n",
    "#df_tem = pd.DataFrame(df_merge['value_1'] / df_merge['value_2'], columns=['diff']).reset_index().drop('index',axis=1)\n",
    "#df_tem.plot()\n",
    "#summary_df.sort_values(by=['pvalue']).to_excel(writer, sheet_name='Kolmogorov-Smirnov Test', index=None)\n",
    "#writer.save()\n",
    "   \n",
    "\n",
    "#https://en.wikipedia.org/wiki/Kolmogorov%E2%80%93Smirnov_test\n",
    "#https://docs.scipy.org/doc/scipy-0.14.0/reference/generated/scipy.stats.ks_2samp.html"
   ]
  },
  {
   "cell_type": "code",
   "execution_count": null,
   "metadata": {},
   "outputs": [],
   "source": []
  },
  {
   "cell_type": "code",
   "execution_count": 328,
   "metadata": {},
   "outputs": [
    {
     "name": "stdout",
     "output_type": "stream",
     "text": [
      "MWN pvalue: 0.6757614370951559\n",
      "2.5095114321667592e-11\n"
     ]
    }
   ],
   "source": [
    "test1=[3,0,3,1,1,1]\n",
    "test2=[0,3,0,0,1,10.1]\n",
    "print \"MWN pvalue:\",stats.mannwhitneyu(test1, test2, alternative='two-sided' )[1]\n",
    "#print stats.chi2_contingency( [test1, test2])[1]\n",
    "print stats.chi2_contingency(df_merge[['value_1','value_2']])[1]\n",
    "#df_merge[['value_1','value_2']].reset_index().drop('index',axis=1).iloc[0:39]"
   ]
  },
  {
   "cell_type": "code",
   "execution_count": null,
   "metadata": {},
   "outputs": [],
   "source": []
  },
  {
   "cell_type": "code",
   "execution_count": 394,
   "metadata": {},
   "outputs": [
    {
     "data": {
      "text/plain": [
       "0.019247630579098993"
      ]
     },
     "execution_count": 394,
     "metadata": {},
     "output_type": "execute_result"
    }
   ],
   "source": [
    "#summary_df\n",
    "#len(generate_Upregulated_Genes(df_gene_exp)['Gene Name'])\n",
    "#len(generate_Downregulated_Genes(df_gene_exp)['Gene Name'])\n",
    "up_ratio = 1.0*(len(generate_Upregulated_Genes(df_gene_exp)['Gene Name']) -  len(generate_Downregulated_Genes(df_gene_exp)['Gene Name']))/len(df_gene_exp['Gene Name'])\n",
    "up_ratio\n",
    "#summary_df.loc[i,['Motif_Name','wilcoxon_rank_test_pvalue','(Up-Down)/All']] = ['Overall', stats.wilcoxon(df_gene_exp['value_1'], df_gene_exp['value_2'])[1], up_ratio]"
   ]
  },
  {
   "cell_type": "code",
   "execution_count": 103,
   "metadata": {},
   "outputs": [
    {
     "ename": "KeyError",
     "evalue": "0",
     "output_type": "error",
     "traceback": [
      "\u001b[0;31m\u001b[0m",
      "\u001b[0;31mKeyError\u001b[0mTraceback (most recent call last)",
      "\u001b[0;32m<ipython-input-103-459ade6b7c00>\u001b[0m in \u001b[0;36m<module>\u001b[0;34m()\u001b[0m\n\u001b[1;32m      3\u001b[0m \u001b[0;31m#print \"pvalue:\",stats.mannwhitneyu(df_merge['value_1'], df_merge['value_2'], alternative='two-sided' )[1]\u001b[0m\u001b[0;34m\u001b[0m\u001b[0;34m\u001b[0m\u001b[0m\n\u001b[1;32m      4\u001b[0m \u001b[0mdf_merge\u001b[0m\u001b[0;34m\u001b[0m\u001b[0m\n\u001b[0;32m----> 5\u001b[0;31m \u001b[0mdf_merge\u001b[0m\u001b[0;34m.\u001b[0m\u001b[0mrename\u001b[0m\u001b[0;34m(\u001b[0m\u001b[0mcolumns\u001b[0m\u001b[0;34m=\u001b[0m\u001b[0;34m{\u001b[0m\u001b[0;34m'value_1'\u001b[0m\u001b[0;34m:\u001b[0m\u001b[0mdf_merge\u001b[0m\u001b[0;34m[\u001b[0m\u001b[0;34m'sample_1'\u001b[0m\u001b[0;34m]\u001b[0m\u001b[0;34m[\u001b[0m\u001b[0;36m0\u001b[0m\u001b[0;34m]\u001b[0m\u001b[0;34m,\u001b[0m \u001b[0;34m'value_2'\u001b[0m\u001b[0;34m:\u001b[0m\u001b[0mdf_merge\u001b[0m\u001b[0;34m[\u001b[0m\u001b[0;34m'sample_2'\u001b[0m\u001b[0;34m]\u001b[0m\u001b[0;34m[\u001b[0m\u001b[0;36m0\u001b[0m\u001b[0;34m]\u001b[0m\u001b[0;34m}\u001b[0m\u001b[0;34m)\u001b[0m\u001b[0;34m.\u001b[0m\u001b[0mdrop\u001b[0m\u001b[0;34m(\u001b[0m\u001b[0;34m[\u001b[0m\u001b[0;34m'sample_1'\u001b[0m\u001b[0;34m,\u001b[0m\u001b[0;34m'sample_2'\u001b[0m\u001b[0;34m]\u001b[0m\u001b[0;34m,\u001b[0m\u001b[0maxis\u001b[0m\u001b[0;34m=\u001b[0m\u001b[0;36m1\u001b[0m\u001b[0;34m)\u001b[0m\u001b[0;34m\u001b[0m\u001b[0m\n\u001b[0m\u001b[1;32m      6\u001b[0m \u001b[0;34m\u001b[0m\u001b[0m\n\u001b[1;32m      7\u001b[0m \u001b[0;31m#df_merge[['sample_1','sample_2','value_1','value_2']]\u001b[0m\u001b[0;34m\u001b[0m\u001b[0;34m\u001b[0m\u001b[0m\n",
      "\u001b[0;32m/opt/miniconda2/lib/python2.7/site-packages/pandas/core/series.pyc\u001b[0m in \u001b[0;36m__getitem__\u001b[0;34m(self, key)\u001b[0m\n\u001b[1;32m    765\u001b[0m         \u001b[0mkey\u001b[0m \u001b[0;34m=\u001b[0m \u001b[0mcom\u001b[0m\u001b[0;34m.\u001b[0m\u001b[0m_apply_if_callable\u001b[0m\u001b[0;34m(\u001b[0m\u001b[0mkey\u001b[0m\u001b[0;34m,\u001b[0m \u001b[0mself\u001b[0m\u001b[0;34m)\u001b[0m\u001b[0;34m\u001b[0m\u001b[0m\n\u001b[1;32m    766\u001b[0m         \u001b[0;32mtry\u001b[0m\u001b[0;34m:\u001b[0m\u001b[0;34m\u001b[0m\u001b[0m\n\u001b[0;32m--> 767\u001b[0;31m             \u001b[0mresult\u001b[0m \u001b[0;34m=\u001b[0m \u001b[0mself\u001b[0m\u001b[0;34m.\u001b[0m\u001b[0mindex\u001b[0m\u001b[0;34m.\u001b[0m\u001b[0mget_value\u001b[0m\u001b[0;34m(\u001b[0m\u001b[0mself\u001b[0m\u001b[0;34m,\u001b[0m \u001b[0mkey\u001b[0m\u001b[0;34m)\u001b[0m\u001b[0;34m\u001b[0m\u001b[0m\n\u001b[0m\u001b[1;32m    768\u001b[0m \u001b[0;34m\u001b[0m\u001b[0m\n\u001b[1;32m    769\u001b[0m             \u001b[0;32mif\u001b[0m \u001b[0;32mnot\u001b[0m \u001b[0mis_scalar\u001b[0m\u001b[0;34m(\u001b[0m\u001b[0mresult\u001b[0m\u001b[0;34m)\u001b[0m\u001b[0;34m:\u001b[0m\u001b[0;34m\u001b[0m\u001b[0m\n",
      "\u001b[0;32m/opt/miniconda2/lib/python2.7/site-packages/pandas/core/indexes/base.pyc\u001b[0m in \u001b[0;36mget_value\u001b[0;34m(self, series, key)\u001b[0m\n\u001b[1;32m   3102\u001b[0m         \u001b[0;32mtry\u001b[0m\u001b[0;34m:\u001b[0m\u001b[0;34m\u001b[0m\u001b[0m\n\u001b[1;32m   3103\u001b[0m             return self._engine.get_value(s, k,\n\u001b[0;32m-> 3104\u001b[0;31m                                           tz=getattr(series.dtype, 'tz', None))\n\u001b[0m\u001b[1;32m   3105\u001b[0m         \u001b[0;32mexcept\u001b[0m \u001b[0mKeyError\u001b[0m \u001b[0;32mas\u001b[0m \u001b[0me1\u001b[0m\u001b[0;34m:\u001b[0m\u001b[0;34m\u001b[0m\u001b[0m\n\u001b[1;32m   3106\u001b[0m             \u001b[0;32mif\u001b[0m \u001b[0mlen\u001b[0m\u001b[0;34m(\u001b[0m\u001b[0mself\u001b[0m\u001b[0;34m)\u001b[0m \u001b[0;34m>\u001b[0m \u001b[0;36m0\u001b[0m \u001b[0;32mand\u001b[0m \u001b[0mself\u001b[0m\u001b[0;34m.\u001b[0m\u001b[0minferred_type\u001b[0m \u001b[0;32min\u001b[0m \u001b[0;34m[\u001b[0m\u001b[0;34m'integer'\u001b[0m\u001b[0;34m,\u001b[0m \u001b[0;34m'boolean'\u001b[0m\u001b[0;34m]\u001b[0m\u001b[0;34m:\u001b[0m\u001b[0;34m\u001b[0m\u001b[0m\n",
      "\u001b[0;32mpandas/_libs/index.pyx\u001b[0m in \u001b[0;36mpandas._libs.index.IndexEngine.get_value\u001b[0;34m()\u001b[0m\n",
      "\u001b[0;32mpandas/_libs/index.pyx\u001b[0m in \u001b[0;36mpandas._libs.index.IndexEngine.get_value\u001b[0;34m()\u001b[0m\n",
      "\u001b[0;32mpandas/_libs/index.pyx\u001b[0m in \u001b[0;36mpandas._libs.index.IndexEngine.get_loc\u001b[0;34m()\u001b[0m\n",
      "\u001b[0;32mpandas/_libs/hashtable_class_helper.pxi\u001b[0m in \u001b[0;36mpandas._libs.hashtable.Int64HashTable.get_item\u001b[0;34m()\u001b[0m\n",
      "\u001b[0;32mpandas/_libs/hashtable_class_helper.pxi\u001b[0m in \u001b[0;36mpandas._libs.hashtable.Int64HashTable.get_item\u001b[0;34m()\u001b[0m\n",
      "\u001b[0;31mKeyError\u001b[0m: 0"
     ]
    }
   ],
   "source": [
    "\n",
    "#from scipy import stats\n",
    "#print \"pvalue:\",stats.mannwhitneyu(df_merge['value_1'], df_merge['value_2'], alternative='two-sided' )[1]\n",
    "df_merge\n",
    "#df_merge.rename(columns={'value_1':df_merge['sample_1'][0], 'value_2':df_merge['sample_2'][0]}).drop(['sample_1','sample_2'],axis=1)\n",
    "\n",
    "#df_merge[['sample_1','sample_2','value_1','value_2']]\n",
    "\n",
    "#df_merge[['value_1','value_2']]\n",
    "#MWU, pvalue = ( stats.mannwhitneyu(all_data[0], all_data[1], alternative=None )[0], \n",
    "#                stats.mannwhitneyu(all_data[0], all_data[1], alternative='two-sided')[1])"
   ]
  },
  {
   "cell_type": "code",
   "execution_count": 341,
   "metadata": {},
   "outputs": [],
   "source": []
  },
  {
   "cell_type": "code",
   "execution_count": 196,
   "metadata": {},
   "outputs": [],
   "source": []
  },
  {
   "cell_type": "code",
   "execution_count": 192,
   "metadata": {},
   "outputs": [],
   "source": [
    "motif_gene_association_input = PATH_FOLDER+'/motif1.bed.gene_association.txt'\n",
    "df1 = pd.read_csv(PATH_FOLDER+'/motif1.bed.gene_association.txt', sep='\\t')\n",
    "df2 = pd.read_csv(PATH_FOLDER+'/gene_exp.diff', sep='\\t')\n",
    "df2 = df2.rename(columns={'test_id':'Gene Name'}).drop(['gene_id','gene'],axis=1)\n",
    "df_merge = df1.merge(df2,on='Gene Name', how='inner')\n",
    "gene_length = df_merge['locus'].str.split(pat=':',expand=True)[1].str.split(pat='-',expand=True).astype(int).apply(lambda x: x[1] - x[0], axis=1)\n",
    "\n",
    "df_merge.insert(5,'Distance to TES', df_merge['Distance to TSS'] - gene_length)\n",
    "df_merge.to_csv(motif_gene_association_input[:-4]+'_expression.txt',sep='\\t', index=False)"
   ]
  },
  {
   "cell_type": "code",
   "execution_count": 188,
   "metadata": {},
   "outputs": [],
   "source": [
    "gene_length = df_merge['locus'].str.split(pat=':',expand=True)[1].str.split(pat='-',expand=True).astype(int).apply(lambda x: x[1] - x[0], axis=1)\n",
    "\n",
    "df_merge.insert(5,'Distance to TES', df_merge['Distance to TSS'] - gene_length)"
   ]
  },
  {
   "cell_type": "code",
   "execution_count": 189,
   "metadata": {},
   "outputs": [
    {
     "data": {
      "text/html": [
       "<div>\n",
       "<style scoped>\n",
       "    .dataframe tbody tr th:only-of-type {\n",
       "        vertical-align: middle;\n",
       "    }\n",
       "\n",
       "    .dataframe tbody tr th {\n",
       "        vertical-align: top;\n",
       "    }\n",
       "\n",
       "    .dataframe thead th {\n",
       "        text-align: right;\n",
       "    }\n",
       "</style>\n",
       "<table border=\"1\" class=\"dataframe\">\n",
       "  <thead>\n",
       "    <tr style=\"text-align: right;\">\n",
       "      <th></th>\n",
       "      <th>Chr</th>\n",
       "      <th>Start</th>\n",
       "      <th>End</th>\n",
       "      <th>Strand</th>\n",
       "      <th>Distance to TSS</th>\n",
       "      <th>Distance to TES</th>\n",
       "      <th>Gene Name</th>\n",
       "      <th>locus</th>\n",
       "      <th>sample_1</th>\n",
       "      <th>sample_2</th>\n",
       "      <th>status</th>\n",
       "      <th>value_1</th>\n",
       "      <th>value_2</th>\n",
       "      <th>log2(fold_change)</th>\n",
       "      <th>test_stat</th>\n",
       "      <th>p_value</th>\n",
       "      <th>q_value</th>\n",
       "      <th>significant</th>\n",
       "    </tr>\n",
       "  </thead>\n",
       "  <tbody>\n",
       "    <tr>\n",
       "      <th>0</th>\n",
       "      <td>chr12</td>\n",
       "      <td>86796454</td>\n",
       "      <td>86796463</td>\n",
       "      <td>-</td>\n",
       "      <td>-18382.0</td>\n",
       "      <td>-21751.0</td>\n",
       "      <td>Fos</td>\n",
       "      <td>chr12:86814850-86818219</td>\n",
       "      <td>WT_0h</td>\n",
       "      <td>WT_72h</td>\n",
       "      <td>OK</td>\n",
       "      <td>649.62900</td>\n",
       "      <td>0.625755</td>\n",
       "      <td>-10.019800</td>\n",
       "      <td>-21.44400</td>\n",
       "      <td>0.00005</td>\n",
       "      <td>0.000205</td>\n",
       "      <td>yes</td>\n",
       "    </tr>\n",
       "    <tr>\n",
       "      <th>1</th>\n",
       "      <td>chr2</td>\n",
       "      <td>32307037</td>\n",
       "      <td>32307046</td>\n",
       "      <td>+</td>\n",
       "      <td>-51.0</td>\n",
       "      <td>-41041.0</td>\n",
       "      <td>Slc25a25</td>\n",
       "      <td>chr2:32270006-32310996</td>\n",
       "      <td>WT_0h</td>\n",
       "      <td>WT_72h</td>\n",
       "      <td>OK</td>\n",
       "      <td>12.37130</td>\n",
       "      <td>8.281480</td>\n",
       "      <td>-0.579039</td>\n",
       "      <td>-2.16210</td>\n",
       "      <td>0.00025</td>\n",
       "      <td>0.000907</td>\n",
       "      <td>yes</td>\n",
       "    </tr>\n",
       "    <tr>\n",
       "      <th>2</th>\n",
       "      <td>chr8</td>\n",
       "      <td>85966561</td>\n",
       "      <td>85966570</td>\n",
       "      <td>+</td>\n",
       "      <td>-4.0</td>\n",
       "      <td>-23909.0</td>\n",
       "      <td>Scoc</td>\n",
       "      <td>chr8:85958390-85982295</td>\n",
       "      <td>WT_0h</td>\n",
       "      <td>WT_72h</td>\n",
       "      <td>OK</td>\n",
       "      <td>9.62266</td>\n",
       "      <td>7.466260</td>\n",
       "      <td>-0.366050</td>\n",
       "      <td>-1.32254</td>\n",
       "      <td>0.02145</td>\n",
       "      <td>0.045512</td>\n",
       "      <td>yes</td>\n",
       "    </tr>\n",
       "    <tr>\n",
       "      <th>3</th>\n",
       "      <td>chr8</td>\n",
       "      <td>85966600</td>\n",
       "      <td>85966609</td>\n",
       "      <td>+</td>\n",
       "      <td>-43.0</td>\n",
       "      <td>-23948.0</td>\n",
       "      <td>Scoc</td>\n",
       "      <td>chr8:85958390-85982295</td>\n",
       "      <td>WT_0h</td>\n",
       "      <td>WT_72h</td>\n",
       "      <td>OK</td>\n",
       "      <td>9.62266</td>\n",
       "      <td>7.466260</td>\n",
       "      <td>-0.366050</td>\n",
       "      <td>-1.32254</td>\n",
       "      <td>0.02145</td>\n",
       "      <td>0.045512</td>\n",
       "      <td>yes</td>\n",
       "    </tr>\n",
       "    <tr>\n",
       "      <th>4</th>\n",
       "      <td>chr2</td>\n",
       "      <td>109857942</td>\n",
       "      <td>109857951</td>\n",
       "      <td>-</td>\n",
       "      <td>-28.0</td>\n",
       "      <td>-32691.0</td>\n",
       "      <td>Ccdc34</td>\n",
       "      <td>chr2:109857973-109890636</td>\n",
       "      <td>WT_0h</td>\n",
       "      <td>WT_72h</td>\n",
       "      <td>OK</td>\n",
       "      <td>3.00898</td>\n",
       "      <td>8.434390</td>\n",
       "      <td>1.487010</td>\n",
       "      <td>4.71044</td>\n",
       "      <td>0.00005</td>\n",
       "      <td>0.000205</td>\n",
       "      <td>yes</td>\n",
       "    </tr>\n",
       "  </tbody>\n",
       "</table>\n",
       "</div>"
      ],
      "text/plain": [
       "     Chr      Start        End Strand  Distance to TSS  Distance to TES  \\\n",
       "0  chr12   86796454   86796463      -         -18382.0         -21751.0   \n",
       "1   chr2   32307037   32307046      +            -51.0         -41041.0   \n",
       "2   chr8   85966561   85966570      +             -4.0         -23909.0   \n",
       "3   chr8   85966600   85966609      +            -43.0         -23948.0   \n",
       "4   chr2  109857942  109857951      -            -28.0         -32691.0   \n",
       "\n",
       "  Gene Name                     locus sample_1 sample_2 status    value_1  \\\n",
       "0       Fos   chr12:86814850-86818219    WT_0h   WT_72h     OK  649.62900   \n",
       "1  Slc25a25    chr2:32270006-32310996    WT_0h   WT_72h     OK   12.37130   \n",
       "2      Scoc    chr8:85958390-85982295    WT_0h   WT_72h     OK    9.62266   \n",
       "3      Scoc    chr8:85958390-85982295    WT_0h   WT_72h     OK    9.62266   \n",
       "4    Ccdc34  chr2:109857973-109890636    WT_0h   WT_72h     OK    3.00898   \n",
       "\n",
       "    value_2  log2(fold_change)  test_stat  p_value   q_value significant  \n",
       "0  0.625755         -10.019800  -21.44400  0.00005  0.000205         yes  \n",
       "1  8.281480          -0.579039   -2.16210  0.00025  0.000907         yes  \n",
       "2  7.466260          -0.366050   -1.32254  0.02145  0.045512         yes  \n",
       "3  7.466260          -0.366050   -1.32254  0.02145  0.045512         yes  \n",
       "4  8.434390           1.487010    4.71044  0.00005  0.000205         yes  "
      ]
     },
     "execution_count": 189,
     "metadata": {},
     "output_type": "execute_result"
    }
   ],
   "source": [
    "df_merge.iloc[0:5,:]"
   ]
  },
  {
   "cell_type": "code",
   "execution_count": null,
   "metadata": {},
   "outputs": [],
   "source": []
  },
  {
   "cell_type": "code",
   "execution_count": null,
   "metadata": {},
   "outputs": [],
   "source": []
  },
  {
   "cell_type": "code",
   "execution_count": null,
   "metadata": {},
   "outputs": [],
   "source": []
  },
  {
   "cell_type": "code",
   "execution_count": null,
   "metadata": {},
   "outputs": [],
   "source": []
  }
 ],
 "metadata": {
  "kernelspec": {
   "display_name": "Python 2",
   "language": "python",
   "name": "python2"
  },
  "language_info": {
   "codemirror_mode": {
    "name": "ipython",
    "version": 2
   },
   "file_extension": ".py",
   "mimetype": "text/x-python",
   "name": "python",
   "nbconvert_exporter": "python",
   "pygments_lexer": "ipython2",
   "version": "2.7.15"
  }
 },
 "nbformat": 4,
 "nbformat_minor": 2
}
