{
 "cells": [
  {
   "cell_type": "code",
   "execution_count": 1,
   "metadata": {
    "collapsed": true
   },
   "outputs": [],
   "source": [
    "## This file contains the basic function of cuffdiff analysis.\n",
    "## Author: Xiang Li\n",
    "\n",
    "###Sample\n",
    "#### Imput Package\n",
    "import numpy as np\n",
    "import pandas as pd\n",
    "import os"
   ]
  },
  {
   "cell_type": "code",
   "execution_count": 2,
   "metadata": {
    "collapsed": true
   },
   "outputs": [],
   "source": [
    "import matplotlib\n",
    "matplotlib.use('AGG')\n",
    "import matplotlib.pyplot as plt\n",
    "import seaborn as sns\n",
    "sns.set_style(\"white\") \n",
    "\n",
    "# display plots in this notebook\n",
    "%matplotlib inline"
   ]
  },
  {
   "cell_type": "code",
   "execution_count": 14,
   "metadata": {},
   "outputs": [
    {
     "name": "stdout",
     "output_type": "stream",
     "text": [
      "('Raw Data shape:', (23951, 14))\n",
      "('Filtered Data shape:', (1024, 14))\n"
     ]
    }
   ],
   "source": [
    "### Read input data from cuffdiff, a single file: gene_exp.diff\n",
    "#### value_1=Con1_FPKM\n",
    "#### value_2=Con2_FPKM\n",
    "INPUT_PATH='/home/lxiang/cloud_research/PengGroup/ZZeng/Data/Haihui/Tcf1/HP_RNAseq/cuffdiff/DKO_vs_WT_72h/gene_exp.diff'\n",
    "df=pd.read_csv(INPUT_PATH, header=0, sep='\\t') #, usecols=['gene_id', 'sample_1', 'value_1', 'sample_2', 'value_2', 'log2(fold_change)', 'q_value'])\n",
    "print(\"Raw Data shape:\", df.shape)\n",
    "################################################################################\n",
    "#### First Step cleanning raw data.\n",
    "df=df[(df.status == 'OK') & (df.significant == 'yes')]\n",
    "print(\"Filtered Data shape:\", df.shape)\n",
    "################################################################################\n"
   ]
  },
  {
   "cell_type": "code",
   "execution_count": 13,
   "metadata": {
    "scrolled": true
   },
   "outputs": [
    {
     "name": "stdout",
     "output_type": "stream",
     "text": [
      "('Upregulated_genes: ', (459, 7))\n",
      "('Downregulated_genes: ', (171, 7))\n",
      "('Upregulated_genes: ', (1316, 7))\n",
      "('Downregulated_genes: ', (866, 7))\n",
      "('Upregulated_genes: ', (132, 7))\n",
      "('Downregulated_genes: ', (204, 7))\n",
      "('Upregulated_genes: ', (29, 7))\n",
      "('Downregulated_genes: ', (72, 7))\n"
     ]
    }
   ],
   "source": [
    "### Read input data from cuffdiff, multiple files: xxx/gene_exp.diff\n",
    "### Given Cuffdiff results, and a specific criterion, pick up upregulated genes and downregulated genes.\n",
    "#### value_1=Con1_FPKM\n",
    "#### value_2=Con2_FPKM\n",
    "\n",
    "Folder_Name_List=( 'Ctrl-n_dKO-n', 'Ctrl-n_Ctrl-s', 'dKO-n_dKO-s', 'Ctrl-s_dKO-s')\n",
    "################################################################################\n",
    "#### Filtered Criterion\n",
    "FC_UP=1.5\n",
    "q_value_less=0.05\n",
    "FPKM=1.0\n",
    "#### Filtered Criterion\n",
    "################################################################################\n",
    "for Folder_Name in Folder_Name_List:\n",
    "    INPUT_PATH='/home/lxiang/cloud_research/PengGroup/XLi/Data/Haihui/CD8-HP/Mar2018/Cuffdiff_Results/' + Folder_Name + '/gene_exp.diff'\n",
    "    df=pd.read_csv(INPUT_PATH, header=0, sep='\\t') #, usecols=['gene_id', 'sample_1', 'value_1', 'sample_2', 'value_2', 'log2(fold_change)', 'q_value'])\n",
    "    \n",
    "    #### First Step cleanning raw data.\n",
    "    df=df[(df.status == 'OK') & (df.significant == 'yes')]\n",
    "    #### First Step cleanning raw data.\n",
    "################################################################################    \n",
    "    #### Specific filtered criterion\n",
    "    Upregulated_genes=df[ (df['value_2'] >= FPKM) & (df['log2(fold_change)'] >= (np.log(FC_UP)/np.log(2)) ) & (df['q_value'] <= q_value_less ) ]\n",
    "    Upregulated_genes=Upregulated_genes.loc[:,['gene_id', 'sample_1','sample_2','value_1', 'value_2', 'log2(fold_change)', 'q_value']]\n",
    "    print ('Upregulated_genes: ', Upregulated_genes.shape)\n",
    "\n",
    "    df.columns\n",
    "    Downregulated_genes=df[ (df['value_1'] >= FPKM) & ( df['log2(fold_change)'] <= -(np.log(FC_UP)/np.log(2)) ) & (df['q_value'] <= q_value_less ) ]\n",
    "    Downregulated_genes=Downregulated_genes.loc[:,['gene_id', 'sample_1',  'sample_2','value_1', 'value_2', 'log2(fold_change)', 'q_value']]\n",
    "\n",
    "    print ('Downregulated_genes: ', Downregulated_genes.shape)\n",
    "    #### Specific filtered criterion\n",
    "################################################################################  \n",
    "\n",
    "####Output all gene list\n",
    "    OUT_PATH='/home/lxiang/cloud_research/PengGroup/XLi/Data/Haihui/CD8-HP/Mar2018/Cuffdiff_Results/Filtered_Gene_list'\n",
    "    os.chdir(OUT_PATH)\n",
    "    Upregulated_genes.to_csv('Upregulated_genes_'+Folder_Name+'.csv', sep='\\t', index=None)\n",
    "    Downregulated_genes.to_csv('Downregulated_genes_'+Folder_Name+'.csv', sep='\\t', index=None)"
   ]
  },
  {
   "cell_type": "code",
   "execution_count": 10,
   "metadata": {},
   "outputs": [
    {
     "data": {
      "text/plain": [
       "0.99999932734728203"
      ]
     },
     "execution_count": 10,
     "metadata": {},
     "output_type": "execute_result"
    }
   ],
   "source": []
  },
  {
   "cell_type": "code",
   "execution_count": 27,
   "metadata": {
    "collapsed": true
   },
   "outputs": [],
   "source": [
    "#### Read all gene list\n",
    "\n",
    "Upregulated_genes.to_csv('Upregulated_genes.csv', sep='\\t', index=None)\n",
    "Downregulated_genes.to_csv('Downregulated_genes.csv', sep='\\t', index=None)"
   ]
  },
  {
   "cell_type": "code",
   "execution_count": 28,
   "metadata": {
    "collapsed": true
   },
   "outputs": [],
   "source": [
    "### This part is trying to give the difference between two similar dataframe\n",
    "### Read two data frame, and merge them.\n",
    "##############################################################################\n",
    "df2=pd.read_csv('Upregulated_genes.csv', header=0, sep='\\t', usecols=['gene_id', 'sample_1','sample_2', 'value_1',  'value_2', 'log2(fold_change)', 'q_value'])\n",
    "df3=pd.read_csv('1866_zz.csv', header=0, sep=',') #, usecols=['gene_id', 'sample_1', 'value_1', 'sample_2', 'value_2', 'log2(fold_change)', 'q_value'])\n",
    "\n",
    "df2_gene_id=pd.DataFrame(df2['gene_id'])\n",
    "df3_gene_id=pd.DataFrame(df3['gene_id'])\n",
    "\n",
    "gene_id_of_df2_df3 = df2_gene_id.merge(df3_gene_id, indicator=True, how='outer')\n",
    "gene_id_of_df2_df3[gene_id_of_df2_df3['_merge']!='both']"
   ]
  },
  {
   "cell_type": "code",
   "execution_count": 57,
   "metadata": {},
   "outputs": [
    {
     "data": {
      "text/html": [
       "<div>\n",
       "<table border=\"1\" class=\"dataframe\">\n",
       "  <thead>\n",
       "    <tr style=\"text-align: right;\">\n",
       "      <th></th>\n",
       "      <th>gene_id</th>\n",
       "      <th>_merge</th>\n",
       "    </tr>\n",
       "  </thead>\n",
       "  <tbody>\n",
       "    <tr>\n",
       "      <th>556</th>\n",
       "      <td>Gm20605,Lrch4</td>\n",
       "      <td>left_only</td>\n",
       "    </tr>\n",
       "    <tr>\n",
       "      <th>629</th>\n",
       "      <td>Hist1h4m,Hist1h4n</td>\n",
       "      <td>left_only</td>\n",
       "    </tr>\n",
       "    <tr>\n",
       "      <th>1319</th>\n",
       "      <td>Tgoln1,Tgoln2</td>\n",
       "      <td>left_only</td>\n",
       "    </tr>\n",
       "  </tbody>\n",
       "</table>\n",
       "</div>"
      ],
      "text/plain": [
       "                gene_id     _merge\n",
       "556       Gm20605,Lrch4  left_only\n",
       "629   Hist1h4m,Hist1h4n  left_only\n",
       "1319      Tgoln1,Tgoln2  left_only"
      ]
     },
     "execution_count": 57,
     "metadata": {},
     "output_type": "execute_result"
    }
   ],
   "source": [
    "### Merge Example"
   ]
  },
  {
   "cell_type": "code",
   "execution_count": null,
   "metadata": {
    "collapsed": true
   },
   "outputs": [],
   "source": [
    "merged=df2.merge(df3, indicator=True, how='outer')\n",
    "merged[merged['_merge']!='both']\n",
    "\n",
    "##############################################################################\n",
    "### This part is trying to give the difference between two similar dataframe"
   ]
  },
  {
   "cell_type": "code",
   "execution_count": 326,
   "metadata": {},
   "outputs": [
    {
     "name": "stdout",
     "output_type": "stream",
     "text": [
      "      gene_id   Ctrl-n   Ctrl-s  log2(fold_change)   q_value\n",
      "10265     Id3  47.5433  60.8576           0.356194  0.052106\n",
      "      gene_id    dKO-n    dKO-s  log2(fold_change)   q_value\n",
      "10265     Id3  102.078  90.4976          -0.173727  0.999125\n",
      "      gene_id   Ctrl-n    dKO-n  log2(fold_change)   q_value\n",
      "10265     Id3  45.6801  101.827            1.15649  0.003342\n",
      "      gene_id   Ctrl-s    dKO-s  log2(fold_change)   q_value\n",
      "10265     Id3  62.2884  96.1898           0.626919  0.999273\n"
     ]
    }
   ],
   "source": [
    "####This part is to check the detail of how to calculate FPKM\n",
    "\n",
    "Folder_Name_List=( 'Ctrl-n_Ctrl-s' , 'dKO-n_dKO-s', 'Ctrl-n_dKO-n', 'Ctrl-s_dKO-s')\n",
    "\n",
    "Check_gene_id='Id3'\n",
    "\n",
    "for Folder_Name in Folder_Name_List: \n",
    "    INPUT_PATH = '/home/lxiang/cloud_research/PengGroup/XLi/Data/Haihui/RNA-seq/HP/Mar2018/Cuffdiff_Results/' +Folder_Name+ '/gene_exp.diff'\n",
    "\n",
    "    df_list=pd.read_csv(INPUT_PATH, header=0, sep='\\t', usecols=['gene_id', 'sample_1',  'sample_2', 'value_1', 'value_2' , 'log2(fold_change)', 'q_value'] )\n",
    "\n",
    "    df_list= df_list.rename(columns={\"value_1\": df_list.loc[0,'sample_1'], \"value_2\": df_list.loc[0,'sample_2'],} )\n",
    "\n",
    "    df_list=df_list.drop(df_list.columns[[1,2]], axis=1)\n",
    "\n",
    "    #print (\"Upregulated:\")\n",
    "    #print(df_list.shape)\n",
    "    print( df_list[ df_list['gene_id'] == Check_gene_id ] )    \n",
    "\n",
    "    #FPKM_df=FPKM_df.merge(df_UP_list, how='outer')\n",
    "    #df_DOWN_list = pd.read_csv(INPUT_PATH_DOWN, header=0, sep='\\t', usecols=['gene_id', 'sample_1', 'sample_2', 'value_1', 'value_2']) #, 'log2(fold_change)', 'q_value'])\n",
    "    #df_DOWN_list = df_DOWN_list.rename(columns={\"value_1\": df_DOWN_list.loc[0,'sample_1'], \"value_2\": df_DOWN_list.loc[0,'sample_2'],} )\n",
    "    #df_DOWN_list = df_DOWN_list.drop(df_DOWN_list.columns[[1,2]], axis=1)\n",
    "#    print (\"Downregulated:\")\n",
    " #   print (df_DOWN_list.shape)\n",
    "  #  print( df_DOWN_list[ df_DOWN_list['gene_id'] == Check_gene_id ] )\n",
    "   # FPKM_df=FPKM_df.merge(df_DOWN_list, how='outer')\n",
    "#df2=pd.read_csv('/home/lxiang/cloud_research/PengGroup/ZZeng/Data/Haihui/Tcf1/HP_RNAseq/cuffdiff/WT/gene_exp.diff', header=0, sep='\\t')\n",
    "\n",
    "#print(df2.head())\n",
    "\n",
    "#print(df2.shape)\n",
    "\n",
    "#print( df2[ df2['test_id'] == 'Eno1' ] )\n",
    "\n",
    "#df3=pd.read_csv('/home/lxiang/cloud_research/PengGroup/ZZeng/Data/Haihui/Tcf1/HP_RNAseq/cuffdiff/WT/genes.read_group_tracking', header=0, sep='\\t') #, usecols=['gene_id', 'sample_1', 'value_1', 'sample_2', 'value_2', 'log2(fold_change)', 'q_value'])\n",
    "\n",
    "#print(df3.head())\n",
    "\n",
    "#print(df3.shape)\n",
    "\n",
    "#print( df3[ df3['tracking_id'] == 'Eno1' ] )\n",
    "\n",
    "####This part is to check the detail of how to calculate FPKM"
   ]
  },
  {
   "cell_type": "code",
   "execution_count": 179,
   "metadata": {},
   "outputs": [
    {
     "data": {
      "text/plain": [
       "u'0.19.2'"
      ]
     },
     "execution_count": 179,
     "metadata": {},
     "output_type": "execute_result"
    }
   ],
   "source": [
    "df_UP_list.loc[12,'sample_1']\n",
    "pd.__version__"
   ]
  },
  {
   "cell_type": "code",
   "execution_count": 310,
   "metadata": {},
   "outputs": [
    {
     "name": "stdout",
     "output_type": "stream",
     "text": [
      "Upregulated:\n",
      "(1316, 3)\n",
      "Empty DataFrame\n",
      "Columns: [gene_id, Ctrl-n, Ctrl-s]\n",
      "Index: []\n",
      "Downregulated:\n",
      "(866, 3)\n",
      "Empty DataFrame\n",
      "Columns: [gene_id, Ctrl-n, Ctrl-s]\n",
      "Index: []\n",
      "Upregulated:\n",
      "(132, 3)\n",
      "Empty DataFrame\n",
      "Columns: [gene_id, dKO-n, dKO-s]\n",
      "Index: []\n",
      "Downregulated:\n",
      "(204, 3)\n",
      "Empty DataFrame\n",
      "Columns: [gene_id, dKO-n, dKO-s]\n",
      "Index: []\n",
      "Upregulated:\n",
      "(459, 3)\n",
      "    gene_id   Ctrl-n    dKO-n\n",
      "190     Id3  45.6801  101.827\n",
      "Downregulated:\n",
      "(171, 3)\n",
      "Empty DataFrame\n",
      "Columns: [gene_id, Ctrl-n, dKO-n]\n",
      "Index: []\n",
      "Upregulated:\n",
      "(29, 3)\n",
      "Empty DataFrame\n",
      "Columns: [gene_id, Ctrl-s, dKO-s]\n",
      "Index: []\n",
      "Downregulated:\n",
      "(72, 3)\n",
      "Empty DataFrame\n",
      "Columns: [gene_id, Ctrl-s, dKO-s]\n",
      "Index: []\n"
     ]
    }
   ],
   "source": [
    "#### Run heatmap for each library.\n",
    "\n",
    "Folder_Name_List=( {'Ctrl-n_Ctrl-s'} , {'dKO-n_dKO-s'}, {'Ctrl-n_dKO-n'}, {'Ctrl-s_dKO-s'} ) \n",
    "Folder_Name_List=( 'Ctrl-n_Ctrl-s' , 'dKO-n_dKO-s', 'Ctrl-n_dKO-n', 'Ctrl-s_dKO-s') \n",
    "FPKM_df=pd.DataFrame({'gene_id':[]})\n",
    "\n",
    "Check_gene_id='Id3'\n",
    "\n",
    "for Folder_Name in Folder_Name_List:\n",
    "    INPUT_PATH_UP='/home/lxiang/cloud_research/PengGroup/XLi/Data/Haihui/RNA-seq/HP/Mar2018/Cuffdiff_Results/Gene_filtered/Upregulated_genes' + Folder_Name + '.csv'\n",
    "    INPUT_PATH_DOWN='/home/lxiang/cloud_research/PengGroup/XLi/Data/Haihui/RNA-seq/HP/Mar2018/Cuffdiff_Results/Gene_filtered/Downregulated_genes' + Folder_Name +  '.csv'\n",
    "\n",
    "    df_UP_list=pd.read_csv(INPUT_PATH_UP, header=0, sep='\\t', usecols=['gene_id', 'sample_1',  'sample_2', 'value_1', 'value_2']) #, 'log2(fold_change)', 'q_value'] \n",
    "    \n",
    "    df_UP_list= df_UP_list.rename(columns={\"value_1\": df_UP_list.loc[0,'sample_1'], \"value_2\": df_UP_list.loc[0,'sample_2'],} )\n",
    "    df_UP_list=df_UP_list.drop(df_UP_list.columns[[1,2]], axis=1)\n",
    "    \n",
    "    print (\"Upregulated:\")\n",
    "    print(df_UP_list.shape)\n",
    "    print( df_UP_list[ df_UP_list['gene_id'] == Check_gene_id ] )    \n",
    "    \n",
    "    FPKM_df=FPKM_df.merge(df_UP_list, how='outer')\n",
    "    \n",
    "    \n",
    "    df_DOWN_list = pd.read_csv(INPUT_PATH_DOWN, header=0, sep='\\t', usecols=['gene_id', 'sample_1',  'sample_2', 'value_1', 'value_2']) #, 'log2(fold_change)', 'q_value']) \n",
    "    df_DOWN_list = df_DOWN_list.rename(columns={\"value_1\": df_DOWN_list.loc[0,'sample_1'], \"value_2\": df_DOWN_list.loc[0,'sample_2'],} )\n",
    "    df_DOWN_list = df_DOWN_list.drop(df_DOWN_list.columns[[1,2]], axis=1)\n",
    "    \n",
    "    print (\"Downregulated:\")\n",
    "    print (df_DOWN_list.shape)\n",
    "    print( df_DOWN_list[ df_DOWN_list['gene_id'] == Check_gene_id ] )\n",
    "    \n",
    "    FPKM_df=FPKM_df.merge(df_DOWN_list, how='outer')\n",
    "    #\n",
    "    \n",
    "    \n",
    "    #diff_gene_list = diff_gene_list + df_UP + df_DOWN\n",
    "FPKM_df=FPKM_df.set_index('gene_id')\n",
    "FPKM_df=FPKM_df.fillna(0)\n",
    "#sns.clustermap(np.log1p(FPKM_df))\n",
    "\n",
    "#print(FPKM_df)"
   ]
  },
  {
   "cell_type": "code",
   "execution_count": 288,
   "metadata": {
    "scrolled": false
   },
   "outputs": [
    {
     "name": "stdout",
     "output_type": "stream",
     "text": [
      "(132, 3)\n"
     ]
    },
    {
     "data": {
      "image/png": "[encoded data removed]",
      "text/plain": [
       "<matplotlib.figure.Figure at 0x7f0159fe4710>"
      ]
     },
     "metadata": {},
     "output_type": "display_data"
    },
    {
     "data": {
      "image/png": "[encoded data removed]",
      "text/plain": [
       "<matplotlib.figure.Figure at 0x7f015f61ea10>"
      ]
     },
     "metadata": {},
     "output_type": "display_data"
    }
   ],
   "source": [
    "Folder_Name_List=( {'dKO-n_dKO-s'}) \n",
    "FPKM_df=pd.DataFrame({'gene_id':[]})\n",
    "\n",
    "for Folder_Name in Folder_Name_List:\n",
    "    INPUT_PATH_UP='/home/lxiang/cloud_research/PengGroup/XLi/Data/Haihui/RNA-seq/HP/Mar2018/Cuffdiff_Results/Gene_filtered/Upregulated_genes' + Folder_Name + '.csv'\n",
    "    INPUT_PATH_DOWN='/home/lxiang/cloud_research/PengGroup/XLi/Data/Haihui/RNA-seq/HP/Mar2018/Cuffdiff_Results/Gene_filtered/Downregulated_genes' + Folder_Name +  '.csv'\n",
    "\n",
    "    df_UP_list=pd.read_csv(INPUT_PATH_UP, header=0, sep='\\t', usecols=['gene_id', 'sample_1',  'sample_2', 'value_1', 'value_2']) #, 'log2(fold_change)', 'q_value'] \n",
    "    \n",
    "    df_UP_list= df_UP_list.rename(columns={\"value_1\": df_UP_list.loc[0,'sample_1'], \"value_2\": df_UP_list.loc[0,'sample_2'],} )\n",
    "    df_UP_list=df_UP_list.drop(df_UP_list.columns[[1,2]], axis=1)\n",
    "    print(df_UP_list.shape)\n",
    "    \n",
    "    FPKM_df=FPKM_df.merge(df_UP_list, how='outer')\n",
    "    \n",
    "    \n",
    "    df_DOWN_list = pd.read_csv(INPUT_PATH_DOWN, header=0, sep='\\t', usecols=['gene_id', 'sample_1',  'sample_2', 'value_1', 'value_2']) #, 'log2(fold_change)', 'q_value']) \n",
    "    df_DOWN_list = df_DOWN_list.rename(columns={\"value_1\": df_DOWN_list.loc[0,'sample_1'], \"value_2\": df_DOWN_list.loc[0,'sample_2'],} )\n",
    "    df_DOWN_list = df_DOWN_list.drop(df_DOWN_list.columns[[1,2]], axis=1)\n",
    "    \n",
    "   # print (df_DOWN_list)\n",
    "    \n",
    "    FPKM_df=FPKM_df.merge(df_DOWN_list, how='outer')\n",
    "    #\n",
    "    \n",
    "    \n",
    "    #diff_gene_list = diff_gene_list + df_UP + df_DOWN\n",
    "    FPKM_df=FPKM_df.set_index('gene_id')\n",
    "    \n",
    "    #### This command is only valid for NaN item.\n",
    "    #FPKM_df=FPKM_df.fillna(0)\n",
    "    \n",
    "    fig_1 = sns.clustermap(np.log1p(FPKM_df))\n",
    "    #fig_2 = sns.clustermap(FPKM_df, col_cluster=False, yticklabels=False, z_score=0)\n",
    "    #fig_2 = sns.(np.log1p(FPKM_df))\n",
    "    #fig_1.savefig('Heatmap1_'+Folder_Name+'.png')\n",
    "    #fig_2.savefig('Heatmap2_'+Folder_Name+'.png')"
   ]
  }
 ],
 "metadata": {
  "kernelspec": {
   "display_name": "Python 2",
   "language": "python",
   "name": "python2"
  },
  "language_info": {
   "codemirror_mode": {
    "name": "ipython",
    "version": 2
   },
   "file_extension": ".py",
   "mimetype": "text/x-python",
   "name": "python",
   "nbconvert_exporter": "python",
   "pygments_lexer": "ipython2",
   "version": "2.7.12"
  }
 },
 "nbformat": 4,
 "nbformat_minor": 2
}
