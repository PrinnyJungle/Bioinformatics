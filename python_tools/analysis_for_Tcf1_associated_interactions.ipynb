{
 "cells": [
  {
   "cell_type": "code",
   "execution_count": 1,
   "metadata": {},
   "outputs": [
    {
     "name": "stdout",
     "output_type": "stream",
     "text": [
      "hi\n",
      "hello from new mapping\n"
     ]
    }
   ],
   "source": [
    "import os\n",
    "import sys\n",
    "import numpy as np\n",
    "import pandas as pd\n",
    "import collections\n",
    "import itertools\n",
    "from mirnylib import h5dict, genome\n",
    "from hiclib import mapping, fragmentHiC\n",
    "import cooler\n",
    "from multiprocessing import Pool"
   ]
  },
  {
   "cell_type": "code",
   "execution_count": 2,
   "metadata": {
    "collapsed": true
   },
   "outputs": [],
   "source": [
    "genome_db = genome.Genome('/home/zzeng/cloud_research/PengGroup/ZZeng/Data/Haihui/Tcf1/HiC-seq/Jun2016/exp/iterative_mapping/genome.fa')"
   ]
  },
  {
   "cell_type": "code",
   "execution_count": null,
   "metadata": {
    "collapsed": true
   },
   "outputs": [],
   "source": []
  },
  {
   "cell_type": "code",
   "execution_count": 3,
   "metadata": {
    "collapsed": true
   },
   "outputs": [],
   "source": [
    "import HTSeq\n",
    "def iv_to_str(iv):\n",
    "        return iv.chrom + ':' + str(iv.start) + '-' + str(iv.end)  \n",
    "    \n",
    "idx = pd.IndexSlice"
   ]
  },
  {
   "cell_type": "code",
   "execution_count": 4,
   "metadata": {
    "collapsed": true
   },
   "outputs": [],
   "source": [
    "peaks_dict = {}\n",
    "\n",
    "Tcf1_peaks_bed_file = HTSeq.BED_Reader('processed/HiC_around_Tcf1_peaks/WT_CD8_Tcf1_peaks.bed')\n",
    "for alt in Tcf1_peaks_bed_file:\n",
    "    peaks_dict[iv_to_str(alt.iv)] = alt.iv"
   ]
  },
  {
   "cell_type": "code",
   "execution_count": 5,
   "metadata": {
    "collapsed": true
   },
   "outputs": [],
   "source": [
    "Tcf1_dependent_up_genes_dict = {}\n",
    "Tcf1_dependent_up_genes_bed_file = HTSeq.BED_Reader('processed/HiC_around_Tcf1_peaks/diff_genes/Tcf1_dependent_up_gene_promoter_iv.bed')\n",
    "for alt in Tcf1_dependent_up_genes_bed_file:\n",
    "    Tcf1_dependent_up_genes_dict[alt.name] = alt.iv"
   ]
  },
  {
   "cell_type": "code",
   "execution_count": 6,
   "metadata": {
    "collapsed": true
   },
   "outputs": [],
   "source": [
    "Tcf1_independent_up_genes_dict = {}\n",
    "Tcf1_independent_up_genes_bed_file = HTSeq.BED_Reader('processed/HiC_around_Tcf1_peaks/diff_genes/Tcf1_independent_up_gene_promoter_iv.bed')\n",
    "for alt in Tcf1_independent_up_genes_bed_file:\n",
    "    Tcf1_independent_up_genes_dict[alt.name] = alt.iv"
   ]
  },
  {
   "cell_type": "code",
   "execution_count": 7,
   "metadata": {},
   "outputs": [
    {
     "name": "stderr",
     "output_type": "stream",
     "text": [
      "/usr/local/lib/python2.7/dist-packages/ipykernel_launcher.py:29: RuntimeWarning: divide by zero encountered in log10\n"
     ]
    }
   ],
   "source": [
    "os.chdir('/home/zzeng/cloud_research/PengGroup/ZZeng/Data/Haihui/Tcf1/HiC-seq/Combine_Jun_Jul_2016/iterative_mapping_3')\n",
    "\n",
    "import numpy as np\n",
    "import pandas as pd\n",
    "import collections\n",
    "import cooler\n",
    "\n",
    "cutoff = 10e-5\n",
    "sig_df = pd.read_csv('fit-hi-c/WT_CD8.spline_pass2.significances.txt.gz', header=0, sep='\\t')\n",
    "sig_df = sig_df[sig_df['q-value'] < cutoff]\n",
    "\n",
    "mycooler = cooler.Cooler('WT_CD8-res-10K.cool')\n",
    "bin_df = mycooler.bins()[:]\n",
    "bin_df['mid'] = ((bin_df['start'] + bin_df['end']) / 2).astype(int)\n",
    "\n",
    "bin_start_dict = collections.defaultdict(lambda: {})\n",
    "for chrom in mycooler.chromnames:\n",
    "    bin_start_dict[chrom] = dict(bin_df.loc[bin_df.chrom == chrom, ['mid', 'start']].values)\n",
    "\n",
    "bin_end_dict = collections.defaultdict(lambda: {})\n",
    "for chrom in mycooler.chromnames:\n",
    "    bin_end_dict[chrom] = dict(bin_df.loc[bin_df.chrom == chrom, ['mid', 'end']].values)\n",
    "\n",
    "sig_df['start1'] = sig_df.apply(lambda row: bin_start_dict[row['chr1']][row['fragmentMid1']], axis=1)\n",
    "sig_df['start2'] = sig_df.apply(lambda row: bin_start_dict[row['chr2']][row['fragmentMid2']], axis=1)\n",
    "\n",
    "sig_df['name'] = sig_df.index\n",
    "sig_df['strand'] = '.'\n",
    "sig_df['score'] = -np.log10(sig_df['p-value'])\n",
    "sig_df.loc[sig_df.score == np.inf, 'score'] = 1000\n",
    "\n",
    "chr_matrix_list = []\n",
    "for chrom in mycooler.chromnames:\n",
    "    chr_matrix = mycooler.matrix(balance=True, as_pixels=True, join=True).fetch(chrom).fillna(0)\n",
    "    chr_matrix = chr_matrix[(abs(chr_matrix.start1 - chr_matrix.start2) >= 20000) & (abs(chr_matrix.start1 - chr_matrix.start2) <= 2000000)]\n",
    "    chr_matrix_list.append(chr_matrix)\n",
    "\n",
    "matrix_df = pd.concat(chr_matrix_list).set_index(['chrom1', 'start1', 'start2'])\n",
    "sig_df['balanced_count'] = sig_df.apply(lambda row: matrix_df.loc[idx[row['chr1'], row['start1'], row['start2']], 'balanced'], axis=1)\n",
    "\n",
    "WT_sig_df = sig_df"
   ]
  },
  {
   "cell_type": "code",
   "execution_count": 8,
   "metadata": {},
   "outputs": [
    {
     "name": "stderr",
     "output_type": "stream",
     "text": [
      "/usr/local/lib/python2.7/dist-packages/pandas/core/indexing.py:1310: PerformanceWarning: indexing past lexsort depth may impact performance.\n",
      "  return self._getitem_tuple(key)\n"
     ]
    }
   ],
   "source": [
    "Tcf1_WT_interactions_df_list = []\n",
    "\n",
    "score_cutoff = 0\n",
    "cutoff_sig_df = WT_sig_df[WT_sig_df.score >= score_cutoff]\n",
    "cutoff_sig_1_df = cutoff_sig_df.set_index(['chr1', 'start1', 'start2'])\n",
    "cutoff_sig_2_df = cutoff_sig_df.set_index(['chr1', 'start2', 'start1'])\n",
    "idx = pd.IndexSlice\n",
    "\n",
    "for peak, peak_iv in peaks_dict.iteritems():\n",
    "    peak_mid = peak_iv.start\n",
    "    peak_bin_start = peak_mid / 10000 * 10000\n",
    "    chrom = peak_iv.chrom\n",
    "    \n",
    "    try:\n",
    "        peak_cutoff_sig_2_df = cutoff_sig_2_df.loc[idx[chrom, peak_bin_start],['score', 'balanced_count']]\n",
    "        peak_cutoff_sig_2_df['interaction_site_bin_start'] = peak_cutoff_sig_2_df.index\n",
    "        peak_cutoff_sig_2_df['Tcf1_binding_bin_start'] = peak_bin_start\n",
    "        peak_cutoff_sig_2_df['chrom'] = chrom\n",
    "        peak_cutoff_sig_2_df['Tcf1_binding_iv'] = peak\n",
    "    except:\n",
    "        peak_cutoff_sig_2_df = None\n",
    "    \n",
    "    try:\n",
    "        peak_cutoff_sig_1_df = cutoff_sig_1_df.loc[idx[chrom, peak_bin_start],['score', 'balanced_count']]\n",
    "        peak_cutoff_sig_1_df['interaction_site_bin_start'] = peak_cutoff_sig_1_df.index\n",
    "        peak_cutoff_sig_1_df['Tcf1_binding_bin_start'] = peak_bin_start\n",
    "        peak_cutoff_sig_1_df['chrom'] = chrom\n",
    "        peak_cutoff_sig_1_df['Tcf1_binding_iv'] = peak\n",
    "    except:\n",
    "        peak_cutoff_sig_1_df = None\n",
    "    \n",
    "    if peak_cutoff_sig_1_df is not None or peak_cutoff_sig_2_df is not None:\n",
    "        Tcf1_WT_interactions_df_list.append(pd.concat([peak_cutoff_sig_1_df, peak_cutoff_sig_2_df])) \n",
    "        "
   ]
  },
  {
   "cell_type": "code",
   "execution_count": 9,
   "metadata": {
    "collapsed": true
   },
   "outputs": [],
   "source": [
    "Tcf1_WT_interactions_df = pd.concat(Tcf1_WT_interactions_df_list).loc[:,['Tcf1_binding_iv', 'chrom', 'Tcf1_binding_bin_start', 'interaction_site_bin_start', 'score', 'balanced_count']]\n",
    "Tcf1_WT_interactions_df.rename(columns={'score': 'WT_CD8_score', 'balanced_count': 'WT_CD8_balanced_count'}, inplace=True)\n",
    "#Tcf1_WT_interactions_df.set_index(['chrom', 'Tcf1_binding_bin_start', 'interaction_site_bin_start'], inplace=True)"
   ]
  },
  {
   "cell_type": "code",
   "execution_count": null,
   "metadata": {
    "collapsed": true
   },
   "outputs": [],
   "source": []
  },
  {
   "cell_type": "code",
   "execution_count": 10,
   "metadata": {
    "collapsed": true
   },
   "outputs": [],
   "source": [
    "all_genes_dict = {}\n",
    "\n",
    "all_genes_bed_file = HTSeq.BED_Reader('/home/zzeng/cloud_research/PengGroup/ZZeng/Annotation/gene_iv/mm9/gene_promoter_1k_iv_unique.bed')\n",
    "for alt in all_genes_bed_file:\n",
    "    all_genes_dict[alt.name] = alt.iv"
   ]
  },
  {
   "cell_type": "code",
   "execution_count": 11,
   "metadata": {
    "collapsed": true
   },
   "outputs": [],
   "source": [
    "all_genes_tuples = []\n",
    "\n",
    "for gene_id, gene_iv in all_genes_dict.iteritems():\n",
    "    gene_chrom = gene_iv.chrom\n",
    "\n",
    "    gene_mid = (gene_iv.start + gene_iv.end) / 2\n",
    "    gene_bin_start = gene_mid / 10000 * 10000\n",
    "    \n",
    "    all_genes_tuples.append((gene_chrom, gene_bin_start))\n",
    "all_genes_tuples = set(all_genes_tuples)\n",
    "\n",
    "\n",
    "Tcf1_dependent_up_genes_tuples = []\n",
    "\n",
    "for gene_id, gene_iv in Tcf1_dependent_up_genes_dict.iteritems():\n",
    "    gene_chrom = gene_iv.chrom\n",
    "\n",
    "    gene_mid = (gene_iv.start + gene_iv.end) / 2\n",
    "    gene_bin_start = gene_mid / 10000 * 10000\n",
    "    \n",
    "    Tcf1_dependent_up_genes_tuples.append((gene_chrom, gene_bin_start))\n",
    "Tcf1_dependent_up_genes_tuples = set(Tcf1_dependent_up_genes_tuples)\n",
    "\n",
    "\n",
    "Tcf1_independent_up_genes_tuples = []\n",
    "\n",
    "for gene_id, gene_iv in Tcf1_independent_up_genes_dict.iteritems():\n",
    "    gene_chrom = gene_iv.chrom\n",
    "\n",
    "    gene_mid = (gene_iv.start + gene_iv.end) / 2\n",
    "    gene_bin_start = gene_mid / 10000 * 10000\n",
    "    \n",
    "    Tcf1_independent_up_genes_tuples.append((gene_chrom, gene_bin_start))\n",
    "Tcf1_independent_up_genes_tuples = set(Tcf1_independent_up_genes_tuples)"
   ]
  },
  {
   "cell_type": "code",
   "execution_count": 12,
   "metadata": {
    "collapsed": true
   },
   "outputs": [],
   "source": [
    "all_genes_tuples_dict = collections.defaultdict(lambda: [])\n",
    "\n",
    "for gene_id, gene_iv in all_genes_dict.iteritems():\n",
    "    gene_chrom = gene_iv.chrom\n",
    "\n",
    "    gene_mid = (gene_iv.start + gene_iv.end) / 2\n",
    "    gene_bin_start = gene_mid / 10000 * 10000\n",
    "    \n",
    "    all_genes_tuples_dict[(gene_chrom, gene_bin_start)].append(gene_id)\n",
    "    \n",
    "\n",
    "Tcf1_dependent_up_genes_tuples_dict = collections.defaultdict(lambda: [])\n",
    "\n",
    "for gene_id, gene_iv in Tcf1_dependent_up_genes_dict.iteritems():\n",
    "    gene_chrom = gene_iv.chrom\n",
    "\n",
    "    gene_mid = (gene_iv.start + gene_iv.end) / 2\n",
    "    gene_bin_start = gene_mid / 10000 * 10000\n",
    "    \n",
    "    Tcf1_dependent_up_genes_tuples_dict[(gene_chrom, gene_bin_start)].append(gene_id)\n",
    "\n",
    "    \n",
    "Tcf1_independent_up_genes_tuples_dict = collections.defaultdict(lambda: [])\n",
    "\n",
    "for gene_id, gene_iv in Tcf1_independent_up_genes_dict.iteritems():\n",
    "    gene_chrom = gene_iv.chrom\n",
    "\n",
    "    gene_mid = (gene_iv.start + gene_iv.end) / 2\n",
    "    gene_bin_start = gene_mid / 10000 * 10000\n",
    "    \n",
    "    Tcf1_independent_up_genes_tuples_dict[(gene_chrom, gene_bin_start)].append(gene_id)"
   ]
  },
  {
   "cell_type": "code",
   "execution_count": 13,
   "metadata": {},
   "outputs": [
    {
     "data": {
      "text/plain": [
       "(318063, 6)"
      ]
     },
     "execution_count": 13,
     "metadata": {},
     "output_type": "execute_result"
    }
   ],
   "source": [
    "Tcf1_WT_interactions_df.shape"
   ]
  },
  {
   "cell_type": "code",
   "execution_count": 51,
   "metadata": {
    "collapsed": true
   },
   "outputs": [],
   "source": [
    "top_Tcf1_WT_interactions_df = Tcf1_WT_interactions_df.sort_values(by='WT_CD8_score', ascending=False).iloc[:50000,:]"
   ]
  },
  {
   "cell_type": "code",
   "execution_count": 52,
   "metadata": {
    "collapsed": true
   },
   "outputs": [],
   "source": [
    "top_Tcf1_WT_interactions_df['all_gene_TSS_at_interaction_site'] = top_Tcf1_WT_interactions_df.apply(lambda row: True if (row['chrom'], row['interaction_site_bin_start']) in all_genes_tuples else False, axis=1)\n",
    "top_Tcf1_WT_interactions_df['Tcf1_dependent_up_gene_TSS_at_interaction_site'] = top_Tcf1_WT_interactions_df.apply(lambda row: True if (row['chrom'], row['interaction_site_bin_start']) in Tcf1_dependent_up_genes_tuples else False, axis=1)\n",
    "top_Tcf1_WT_interactions_df['Tcf1_independent_up_gene_TSS_at_interaction_site'] = top_Tcf1_WT_interactions_df.apply(lambda row: True if (row['chrom'], row['interaction_site_bin_start']) in Tcf1_independent_up_genes_tuples else False, axis=1)"
   ]
  },
  {
   "cell_type": "code",
   "execution_count": 53,
   "metadata": {},
   "outputs": [
    {
     "name": "stdout",
     "output_type": "stream",
     "text": [
      "20910 12773\n",
      "92 75\n",
      "44 46\n"
     ]
    }
   ],
   "source": [
    "print len(all_genes_tuples), top_Tcf1_WT_interactions_df[top_Tcf1_WT_interactions_df.all_gene_TSS_at_interaction_site].shape[0]\n",
    "print len(Tcf1_dependent_up_genes_tuples), top_Tcf1_WT_interactions_df[top_Tcf1_WT_interactions_df.Tcf1_dependent_up_gene_TSS_at_interaction_site].shape[0]\n",
    "print len(Tcf1_independent_up_genes_tuples), top_Tcf1_WT_interactions_df[top_Tcf1_WT_interactions_df.Tcf1_independent_up_gene_TSS_at_interaction_site].shape[0]"
   ]
  },
  {
   "cell_type": "code",
   "execution_count": 54,
   "metadata": {},
   "outputs": [
    {
     "name": "stdout",
     "output_type": "stream",
     "text": [
      "7.6e-02\n",
      "1.4e-02\n"
     ]
    }
   ],
   "source": [
    "import scipy\n",
    "\n",
    "v1 = len(all_genes_tuples)\n",
    "v2 = len(Tcf1_dependent_up_genes_tuples)\n",
    "v3 = top_Tcf1_WT_interactions_df[top_Tcf1_WT_interactions_df.all_gene_TSS_at_interaction_site].shape[0]\n",
    "v4 = top_Tcf1_WT_interactions_df[top_Tcf1_WT_interactions_df.Tcf1_dependent_up_gene_TSS_at_interaction_site].shape[0]\n",
    "\n",
    "print '%.1e' % scipy.stats.chi2_contingency(np.array([[v1, v2], [v3, v4]]))[1]\n",
    "\n",
    "v2 = len(Tcf1_independent_up_genes_tuples)\n",
    "v4 = top_Tcf1_WT_interactions_df[top_Tcf1_WT_interactions_df.Tcf1_independent_up_gene_TSS_at_interaction_site].shape[0]\n",
    "print '%.1e' % scipy.stats.chi2_contingency(np.array([[v1, v2], [v3, v4]]))[1]"
   ]
  },
  {
   "cell_type": "code",
   "execution_count": 55,
   "metadata": {},
   "outputs": [
    {
     "name": "stdout",
     "output_type": "stream",
     "text": [
      "6776\n",
      "32\n",
      "20\n"
     ]
    }
   ],
   "source": [
    "print len(set(reduce(lambda x, y: x + y, top_Tcf1_WT_interactions_df[top_Tcf1_WT_interactions_df.all_gene_TSS_at_interaction_site].apply(lambda row: all_genes_tuples_dict[(row['chrom'], row['interaction_site_bin_start'])], axis=1).tolist(), [])))\n",
    "print len(set(reduce(lambda x, y: x + y, top_Tcf1_WT_interactions_df[top_Tcf1_WT_interactions_df.Tcf1_dependent_up_gene_TSS_at_interaction_site].apply(lambda row: Tcf1_dependent_up_genes_tuples_dict[(row['chrom'], row['interaction_site_bin_start'])], axis=1).tolist(), [])))\n",
    "print len(set(reduce(lambda x, y: x + y, top_Tcf1_WT_interactions_df[top_Tcf1_WT_interactions_df.Tcf1_independent_up_gene_TSS_at_interaction_site].apply(lambda row: Tcf1_independent_up_genes_tuples_dict[(row['chrom'], row['interaction_site_bin_start'])], axis=1).tolist(), [])))"
   ]
  },
  {
   "cell_type": "code",
   "execution_count": 56,
   "metadata": {},
   "outputs": [
    {
     "name": "stdout",
     "output_type": "stream",
     "text": [
      "8.1e-01\n",
      "2.7e-01\n"
     ]
    }
   ],
   "source": [
    "v3 = len(set(reduce(lambda x, y: x + y, top_Tcf1_WT_interactions_df[top_Tcf1_WT_interactions_df.all_gene_TSS_at_interaction_site].apply(lambda row: all_genes_tuples_dict[(row['chrom'], row['interaction_site_bin_start'])], axis=1).tolist(), [])))\n",
    "\n",
    "v2 = len(Tcf1_dependent_up_genes_tuples)\n",
    "v4 = len(set(reduce(lambda x, y: x + y, top_Tcf1_WT_interactions_df[top_Tcf1_WT_interactions_df.Tcf1_dependent_up_gene_TSS_at_interaction_site].apply(lambda row: Tcf1_dependent_up_genes_tuples_dict[(row['chrom'], row['interaction_site_bin_start'])], axis=1).tolist(), [])))\n",
    "\n",
    "print '%.1e' % scipy.stats.chi2_contingency(np.array([[v1, v2], [v3, v4]]))[1]\n",
    "\n",
    "v2 = len(Tcf1_independent_up_genes_tuples)\n",
    "v4 = len(set(reduce(lambda x, y: x + y, top_Tcf1_WT_interactions_df[top_Tcf1_WT_interactions_df.Tcf1_independent_up_gene_TSS_at_interaction_site].apply(lambda row: Tcf1_independent_up_genes_tuples_dict[(row['chrom'], row['interaction_site_bin_start'])], axis=1).tolist(), [])))\n",
    "\n",
    "print '%.1e' % scipy.stats.chi2_contingency(np.array([[v1, v2], [v3, v4]]))[1]"
   ]
  },
  {
   "cell_type": "code",
   "execution_count": 43,
   "metadata": {},
   "outputs": [
    {
     "name": "stdout",
     "output_type": "stream",
     "text": [
      "set(['Psrc1', 'Esco2', 'Kif4', 'Cep55', 'Cdca3', 'Ccnf', 'Iqgap3', 'Tpx2', 'Ppp1r1b', 'Stmn1', 'Bub1b', 'Aspm', 'Sgol1', 'Ska1', 'Rad51ap1', 'Prr11', '2810408I11Rik', 'Rad51', 'Tk1', 'Top2a', 'Tmem158', 'Ckap2l', 'Spc24', 'Neurl1b', 'Gpr15', 'Ccna2', 'Aurkb', 'Kif15', 'Kif11', 'Nusap1', 'S100a1', 'Sapcd2', '2810417H13Rik', 'Cdc25c', 'Birc5', 'Fam72a', 'Casc5', 'Troap', 'Kif2c'])\n"
     ]
    }
   ],
   "source": [
    "print set(reduce(lambda x, y: x + y, top_Tcf1_WT_interactions_df[top_Tcf1_WT_interactions_df.Tcf1_dependent_up_gene_TSS_at_interaction_site].apply(lambda row: Tcf1_dependent_up_genes_tuples_dict[(row['chrom'], row['interaction_site_bin_start'])], axis=1).tolist(), []))"
   ]
  },
  {
   "cell_type": "code",
   "execution_count": 45,
   "metadata": {},
   "outputs": [
    {
     "name": "stdout",
     "output_type": "stream",
     "text": [
      "set(['Trmt12', 'Pcgf2', 'D930048N14Rik', 'Rps27l', 'Espn', 'Myl10', 'Exoc8', 'Kcnj8', 'D630039A03Rik', 'Rsg1', 'Pcsk4', 'Nxnl1', 'Zfp759', 'Trim46', 'Gm4532', 'Dapk2', 'Lpar5'])\n"
     ]
    }
   ],
   "source": [
    "print set(reduce(lambda x, y: x + y, top_Tcf1_WT_interactions_df[top_Tcf1_WT_interactions_df.Tcf1_independent_up_gene_TSS_at_interaction_site].apply(lambda row: Tcf1_independent_up_genes_tuples_dict[(row['chrom'], row['interaction_site_bin_start'])], axis=1).tolist(), []))"
   ]
  },
  {
   "cell_type": "code",
   "execution_count": 46,
   "metadata": {},
   "outputs": [
    {
     "data": {
      "text/plain": [
       "'Trmt12, Pcgf2, D930048N14Rik, Rps27l, Espn, Myl10, Exoc8, Kcnj8, D630039A03Rik, Rsg1, Pcsk4, Nxnl1, Zfp759, Trim46, Gm4532, Dapk2, Lpar5'"
      ]
     },
     "execution_count": 46,
     "metadata": {},
     "output_type": "execute_result"
    }
   ],
   "source": [
    "', '.join(['Trmt12', 'Pcgf2', 'D930048N14Rik', 'Rps27l', 'Espn', 'Myl10', 'Exoc8', 'Kcnj8', 'D630039A03Rik', 'Rsg1', 'Pcsk4', 'Nxnl1', 'Zfp759', 'Trim46', 'Gm4532', 'Dapk2', 'Lpar5'])"
   ]
  },
  {
   "cell_type": "code",
   "execution_count": 51,
   "metadata": {
    "collapsed": true
   },
   "outputs": [],
   "source": [
    "import scipy"
   ]
  },
  {
   "cell_type": "code",
   "execution_count": 69,
   "metadata": {},
   "outputs": [
    {
     "data": {
      "text/plain": [
       "(0.28184285078844556,\n",
       " 0.5954958832956162,\n",
       " 1,\n",
       " array([[ 20907.22767857,     46.77232143],\n",
       "        [ 13511.77232143,     30.22767857]]))"
      ]
     },
     "execution_count": 69,
     "metadata": {},
     "output_type": "execute_result"
    }
   ],
   "source": [
    "scipy.stats.chi2_contingency(np.array([[20910, 44], [13509, 33]]))"
   ]
  },
  {
   "cell_type": "code",
   "execution_count": null,
   "metadata": {
    "collapsed": true
   },
   "outputs": [],
   "source": []
  }
 ],
 "metadata": {
  "kernelspec": {
   "display_name": "Python 2",
   "language": "python",
   "name": "python2"
  },
  "language_info": {
   "codemirror_mode": {
    "name": "ipython",
    "version": 2
   },
   "file_extension": ".py",
   "mimetype": "text/x-python",
   "name": "python",
   "nbconvert_exporter": "python",
   "pygments_lexer": "ipython2",
   "version": "2.7.6"
  }
 },
 "nbformat": 4,
 "nbformat_minor": 2
}
