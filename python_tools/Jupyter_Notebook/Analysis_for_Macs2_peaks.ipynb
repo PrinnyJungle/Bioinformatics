{
 "cells": [
  {
   "cell_type": "raw",
   "metadata": {},
   "source": [
    "# Python Notebook\n",
    "########################################################################\n",
    "## 05/19/2018\n",
    "## By Xiang Li,\n",
    "## lux@gwu.edu\n",
    "## Peng's Lab1\n",
    "## Ver.1.0\n",
    "########################################################################\n"
   ]
  },
  {
   "cell_type": "code",
   "execution_count": 1,
   "metadata": {},
   "outputs": [
    {
     "name": "stdout",
     "output_type": "stream",
     "text": [
      "Python Identifiers:\n",
      "Class >>> Xxxx, others >>> xxxx\n",
      "_xxxx indicates that the identifier is private.\n",
      "__xxx indicates that the identifier is strongly private.\n",
      "__xx__ indicates: A languagedefined special name\n"
     ]
    }
   ],
   "source": [
    "print (\"Python Identifiers:\")\n",
    "print (\"Class >>> Xxxx, others >>> xxxx\")\n",
    "print (\"_xxxx indicates that the identifier is private.\")\n",
    "print (\"__xxx indicates that the identifier is strongly private.\")\n",
    "print (\"__xx__ indicates: A languagedefined special name\")\n",
    "\n",
    "import numpy as np\n",
    "import pandas as pd\n",
    "import os\n",
    "from pybedtools import BedTool"
   ]
  },
  {
   "cell_type": "code",
   "execution_count": 2,
   "metadata": {},
   "outputs": [],
   "source": [
    "def DIR_CHECK_CREATE(Input_Path):\n",
    "    if (not os.path.isdir(Input_Path)):\n",
    "        print (\"New Dir Made is\" + Input_Path)\n",
    "        os.mkdir(Input_Path)\n",
    "    else: \n",
    "        print ('Dir Exists')\n",
    "def Add_common_header(df,common_header):\n",
    "    name_list=[common_header]*len(df.columns)\n",
    "    tuples = list(zip(name_list,df.columns))\n",
    "    df.columns = pd.MultiIndex.from_tuples(tuples)\n",
    "    return df\n",
    "\n",
    "### Filtering \n",
    "def Return_filtered_peaks_bed_format(path_folder, name, fold_change, pvalue, qvalue):\n",
    "    df = pd.read_csv(path_folder+name, sep='\\t', header=0, skiprows=23)\n",
    "    df = df[ (df['-log10(pvalue)']>-np.log10(pvalue)) & (df['-log10(qvalue)']>-np.log10(qvalue)) & (df['fold_enrichment']>fold_change )]\n",
    "    df.loc[:,['chr','start','end','name']].to_csv(name[7:-4]+'_filtered.bed', sep='\\t', index=False, header=False)\n",
    "    return df\n",
    "def Return_peaks_bed_format(path_folder, name):\n",
    "    df = pd.read_csv(path_folder+name, sep='\\t', header=0, skiprows=23, usecols =['chr','start','end','name'])\n",
    "    df['name'] = df['name'].str[-10:]### This takes me 10 minutes to dig out.\n",
    "    df.loc[:,['chr','start','end','name']].to_csv(name[7:-4]+'.bed', sep='\\t', index=False, header=False)\n",
    "    return df"
   ]
  },
  {
   "cell_type": "code",
   "execution_count": null,
   "metadata": {},
   "outputs": [],
   "source": []
  },
  {
   "cell_type": "code",
   "execution_count": 3,
   "metadata": {},
   "outputs": [
    {
     "name": "stdout",
     "output_type": "stream",
     "text": [
      "Dir Exists\n"
     ]
    },
    {
     "data": {
      "text/plain": [
       "['WT-s1_20180709000_vs_Null_peaks.bed',\n",
       " 'WT-s2_20180709000_vs_Null_peaks.bed',\n",
       " 'dKO-na2_20180709000_vs_Null_peaks.bed',\n",
       " 'dKO-s2_20180709000_vs_Null_peaks.bed',\n",
       " 'WT-na1_20180709000_vs_Null_peaks.bed',\n",
       " 'union_all_peaks.bed',\n",
       " 'dKO-s1_20180709000_vs_Null_peaks.bed',\n",
       " 'WT-na2_20180709000_vs_Null_peaks.bed',\n",
       " 'dKO-na1_20180709000_vs_Null_peaks.bed']"
      ]
     },
     "execution_count": 3,
     "metadata": {},
     "output_type": "execute_result"
    }
   ],
   "source": [
    "PATH_FOLDER=os.getcwd()+'/bed_format/'\n",
    "DIR_CHECK_CREATE(PATH_FOLDER)\n",
    "INPUT_LIST=os.listdir(PATH_FOLDER)\n",
    "\n",
    "NAME = 'Sample_WT-na1_20180709000_vs_Null_peaks.xls'\n",
    "INPUT_LIST\n",
    "\n",
    "#df=Return_peaks_bed_format(PATH_FOLDER,NAME)\n",
    "#df"
   ]
  },
  {
   "cell_type": "code",
   "execution_count": null,
   "metadata": {
    "collapsed": true
   },
   "outputs": [],
   "source": []
  },
  {
   "cell_type": "code",
   "execution_count": 4,
   "metadata": {},
   "outputs": [
    {
     "name": "stdout",
     "output_type": "stream",
     "text": [
      "WT-s1_20180709000_vs_Null_peaks.bed 3031\n",
      "WT-s2_20180709000_vs_Null_peaks.bed 3009\n",
      "WT-na1_20180709000_vs_Null_peaks.bed 11246\n",
      "WT-na2_20180709000_vs_Null_peaks.bed 11235\n",
      "dKO-na1_20180709000_vs_Null_peaks.bed 6519\n",
      "dKO-na2_20180709000_vs_Null_peaks.bed 6602\n",
      "dKO-s1_20180709000_vs_Null_peaks.bed 4166\n",
      "dKO-s2_20180709000_vs_Null_peaks.bed 4159\n"
     ]
    }
   ],
   "source": [
    "### Find intersection of INPUT_a and INPUT_b\n",
    "\n",
    "Name1='WT-s1_20180709000_vs_Null_peaks.bed'\n",
    "Name2='WT-s2_20180709000_vs_Null_peaks.bed'\n",
    "a=BedTool(PATH_FOLDER+Name1)\n",
    "b=BedTool(PATH_FOLDER+Name2)\n",
    "print (Name1 + ' ' + str((a+b).count()))\n",
    "print (Name2 + ' ' + str((b+a).count()))\n",
    "\n",
    "Name1='WT-na1_20180709000_vs_Null_peaks.bed'\n",
    "Name2='WT-na2_20180709000_vs_Null_peaks.bed'\n",
    "a=BedTool(PATH_FOLDER+Name1)\n",
    "b=BedTool(PATH_FOLDER+Name2)\n",
    "print (Name1 + ' ' + str((a+b).count()))\n",
    "print (Name2 + ' ' + str((b+a).count()))\n",
    "\n",
    "Name1='dKO-na1_20180709000_vs_Null_peaks.bed'\n",
    "Name2='dKO-na2_20180709000_vs_Null_peaks.bed'\n",
    "a=BedTool(PATH_FOLDER+Name1)\n",
    "b=BedTool(PATH_FOLDER+Name2)\n",
    "print (Name1 + ' ' + str((a+b).count()))\n",
    "print (Name2 + ' ' + str((b+a).count()))\n",
    "\n",
    "Name1='dKO-s1_20180709000_vs_Null_peaks.bed'\n",
    "Name2='dKO-s2_20180709000_vs_Null_peaks.bed'\n",
    "a=BedTool(PATH_FOLDER+Name1)\n",
    "b=BedTool(PATH_FOLDER+Name2)\n",
    "print (Name1 + ' ' + str((a+b).count()))\n",
    "print (Name2 + ' ' + str((b+a).count()))\n"
   ]
  },
  {
   "cell_type": "code",
   "execution_count": null,
   "metadata": {},
   "outputs": [],
   "source": []
  },
  {
   "cell_type": "code",
   "execution_count": null,
   "metadata": {},
   "outputs": [],
   "source": []
  },
  {
   "cell_type": "code",
   "execution_count": 69,
   "metadata": {},
   "outputs": [
    {
     "data": {
      "text/plain": [
       "<unbound method BedTool.decorated>"
      ]
     },
     "execution_count": 69,
     "metadata": {},
     "output_type": "execute_result"
    }
   ],
   "source": []
  },
  {
   "cell_type": "code",
   "execution_count": 142,
   "metadata": {},
   "outputs": [],
   "source": [
    "#df = pd.read_csv(PATH_FOLDER+'Sample_WT-na1_20180709000_vs_Null_peaks.xls', sep='\\t', header=0, skiprows=23)\n",
    "#df=[]\n",
    "for path in INPUT_LIST[:]:\n",
    "    #df.append()\n",
    "    Return_peaks_bed_format(PATH_FOLDER, path)\n",
    "    #print path\n",
    "#df = Return_peaks_bed_format(PATH_FOLDER, NAME, 0, 1,1)\n",
    "#df = Return_peaks_bed_format(PATH_FOLDER, NAME)\n",
    "#df"
   ]
  },
  {
   "cell_type": "code",
   "execution_count": null,
   "metadata": {},
   "outputs": [],
   "source": []
  },
  {
   "cell_type": "code",
   "execution_count": 19,
   "metadata": {},
   "outputs": [
    {
     "name": "stdout",
     "output_type": "stream",
     "text": [
      "\n",
      "\n",
      "Press the enter key to exit.aaa\n"
     ]
    },
    {
     "data": {
      "text/plain": [
       "'aaa'"
      ]
     },
     "execution_count": 19,
     "metadata": {},
     "output_type": "execute_result"
    }
   ],
   "source": []
  }
 ],
 "metadata": {
  "kernelspec": {
   "display_name": "Python 2",
   "language": "python",
   "name": "python2"
  },
  "language_info": {
   "codemirror_mode": {
    "name": "ipython",
    "version": 2
   },
   "file_extension": ".py",
   "mimetype": "text/x-python",
   "name": "python",
   "nbconvert_exporter": "python",
   "pygments_lexer": "ipython2",
   "version": "2.7.14"
  }
 },
 "nbformat": 4,
 "nbformat_minor": 2
}
